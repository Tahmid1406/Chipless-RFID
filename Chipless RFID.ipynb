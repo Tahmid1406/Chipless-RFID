{
 "cells": [
  {
   "cell_type": "code",
   "execution_count": 1,
   "id": "motivated-telescope",
   "metadata": {},
   "outputs": [
    {
     "name": "stderr",
     "output_type": "stream",
     "text": [
      "C:\\Users\\ASUS\\anaconda3\\envs\\ten\\lib\\site-packages\\numpy\\_distributor_init.py:32: UserWarning: loaded more than 1 DLL from .libs:\n",
      "C:\\Users\\ASUS\\anaconda3\\envs\\ten\\lib\\site-packages\\numpy\\.libs\\libopenblas.JPIJNSWNNAN3CE6LLI5FWSPHUT2VXMTH.gfortran-win_amd64.dll\n",
      "C:\\Users\\ASUS\\anaconda3\\envs\\ten\\lib\\site-packages\\numpy\\.libs\\libopenblas.WCDJNK7YVMPZQ2ME2ZZHJJRJ3JIKNDB7.gfortran-win_amd64.dll\n",
      "  stacklevel=1)\n"
     ]
    }
   ],
   "source": [
    "from tensorflow.keras import Sequential\n",
    "from tensorflow.keras.layers import Dense, BatchNormalization, Activation, Flatten, MaxPooling2D, Convolution2D\n",
    "import numpy as np\n",
    "import matplotlib.pyplot as plt\n",
    "import os\n",
    "import cv2\n",
    "from sklearn.model_selection import train_test_split\n",
    "from sklearn.metrics import classification_report, confusion_matrix\n",
    "import seaborn as sns\n",
    "import tensorflow as tf\n",
    "from tensorflow.python.keras.optimizer_v2.adam import Adam\n",
    "from tensorflow.keras.callbacks import ModelCheckpoint, EarlyStopping, CSVLogger\n",
    "tf.random.set_seed(42)"
   ]
  },
  {
   "cell_type": "markdown",
   "id": "complimentary-native",
   "metadata": {},
   "source": [
    "# Reading Data and Crating Data Variation"
   ]
  },
  {
   "cell_type": "code",
   "execution_count": 2,
   "id": "flush-shoulder",
   "metadata": {},
   "outputs": [],
   "source": [
    "TRAIN_DATADIR = \"./data/ChiplessRFID/train/\"\n",
    "training_data = []\n",
    "CATEGORIES = ['Tag01', 'Tag02', 'Tag03', 'Tag04','Tag05','Tag06','Tag07','Tag08','Tag09','Tag10','Tag11','Tag12','Tag13',\n",
    "               'Tag14','Tag15','Tag16','Tag17','Tag18','Tag19','Tag20','Tag21','Tag22','Tag23','Tag24','Tag25','Tag26',\n",
    "               'Tag27']\n",
    "IMG_SIZE = 150\n",
    "\n",
    "def create_training_data():\n",
    "    for category in CATEGORIES:\n",
    "        \n",
    "        path = os.path.join(TRAIN_DATADIR, category)\n",
    "        class_num = CATEGORIES.index(category)\n",
    "        \n",
    "        for img in os.listdir(path): \n",
    "            img_array = cv2.imread(os.path.join(path, img), cv2.IMREAD_GRAYSCALE)\n",
    "            new_array = cv2.resize(img_array, (IMG_SIZE, IMG_SIZE))\n",
    "            training_data.append([new_array, class_num])\n",
    "                            \n"
   ]
  },
  {
   "cell_type": "code",
   "execution_count": 88,
   "id": "front-eagle",
   "metadata": {},
   "outputs": [],
   "source": [
    "TRAIN_DATADIR = \"./data/ChiplessRFID/train/\"\n",
    "training_data_50 = []\n",
    "CATEGORIES = ['Tag01', 'Tag02', 'Tag03', 'Tag04','Tag05','Tag06','Tag07','Tag08','Tag09','Tag10','Tag11','Tag12','Tag13',\n",
    "               'Tag14','Tag15','Tag16','Tag17','Tag18','Tag19','Tag20','Tag21','Tag22','Tag23','Tag24','Tag25','Tag26',\n",
    "               'Tag27']\n",
    "IMG_SIZE = 150\n",
    "\n",
    "def create_training_data():\n",
    "    for category in CATEGORIES:\n",
    "        \n",
    "        path = os.path.join(TRAIN_DATADIR, category)\n",
    "        class_num = CATEGORIES.index(category)\n",
    "        i = 0\n",
    "        for img in os.listdir(path): \n",
    "            i+= 1\n",
    "            img_array = cv2.imread(os.path.join(path, img), cv2.IMREAD_GRAYSCALE)\n",
    "            new_array = cv2.resize(img_array, (IMG_SIZE, IMG_SIZE))\n",
    "            training_data.append([new_array, class_num])\n",
    "            if i == 50:\n",
    "                break"
   ]
  },
  {
   "cell_type": "code",
   "execution_count": null,
   "id": "bottom-headquarters",
   "metadata": {},
   "outputs": [],
   "source": [
    "print(len(training_data_50))"
   ]
  },
  {
   "cell_type": "code",
   "execution_count": null,
   "id": "addressed-assumption",
   "metadata": {},
   "outputs": [],
   "source": []
  },
  {
   "cell_type": "code",
   "execution_count": null,
   "id": "special-session",
   "metadata": {},
   "outputs": [],
   "source": []
  },
  {
   "cell_type": "code",
   "execution_count": null,
   "id": "separate-connection",
   "metadata": {},
   "outputs": [],
   "source": []
  },
  {
   "cell_type": "code",
   "execution_count": null,
   "id": "right-bouquet",
   "metadata": {},
   "outputs": [],
   "source": []
  },
  {
   "cell_type": "code",
   "execution_count": null,
   "id": "brutal-xerox",
   "metadata": {},
   "outputs": [],
   "source": []
  },
  {
   "cell_type": "code",
   "execution_count": null,
   "id": "confused-gambling",
   "metadata": {},
   "outputs": [],
   "source": []
  },
  {
   "cell_type": "code",
   "execution_count": null,
   "id": "quality-offering",
   "metadata": {},
   "outputs": [],
   "source": []
  },
  {
   "cell_type": "code",
   "execution_count": null,
   "id": "federal-imaging",
   "metadata": {},
   "outputs": [],
   "source": []
  },
  {
   "cell_type": "code",
   "execution_count": null,
   "id": "computational-abortion",
   "metadata": {},
   "outputs": [],
   "source": []
  },
  {
   "cell_type": "code",
   "execution_count": null,
   "id": "associate-device",
   "metadata": {},
   "outputs": [],
   "source": []
  },
  {
   "cell_type": "code",
   "execution_count": null,
   "id": "civil-literature",
   "metadata": {},
   "outputs": [],
   "source": []
  },
  {
   "cell_type": "code",
   "execution_count": 3,
   "id": "expected-computer",
   "metadata": {},
   "outputs": [],
   "source": [
    "create_training_data()"
   ]
  },
  {
   "cell_type": "code",
   "execution_count": 4,
   "id": "careful-dream",
   "metadata": {},
   "outputs": [
    {
     "name": "stdout",
     "output_type": "stream",
     "text": [
      "8100\n"
     ]
    }
   ],
   "source": [
    "print(len(training_data))"
   ]
  },
  {
   "cell_type": "code",
   "execution_count": 5,
   "id": "absent-amount",
   "metadata": {},
   "outputs": [],
   "source": [
    "### Shuffling the dataset\n",
    "import random\n",
    "\n",
    "random.shuffle(training_data)"
   ]
  },
  {
   "cell_type": "code",
   "execution_count": 6,
   "id": "engaged-hormone",
   "metadata": {},
   "outputs": [],
   "source": [
    "X = []\n",
    "y = []\n",
    "\n",
    "for features, label in training_data:\n",
    "    X.append(features)\n",
    "    y.append(label)\n",
    "\n",
    "X = np.array(X).reshape(-1,IMG_SIZE, IMG_SIZE, 1)"
   ]
  },
  {
   "cell_type": "code",
   "execution_count": 7,
   "id": "secret-screw",
   "metadata": {},
   "outputs": [],
   "source": [
    "X = X/255.0\n",
    "y = np.array(y)"
   ]
  },
  {
   "cell_type": "code",
   "execution_count": 8,
   "id": "modified-margin",
   "metadata": {},
   "outputs": [],
   "source": [
    "X_train, X_test, y_train, y_test = train_test_split(X, y, test_size=0.20)"
   ]
  },
  {
   "cell_type": "code",
   "execution_count": 9,
   "id": "contemporary-smell",
   "metadata": {},
   "outputs": [
    {
     "name": "stdout",
     "output_type": "stream",
     "text": [
      "(8100, 150, 150, 1)\n",
      "(8100,)\n"
     ]
    }
   ],
   "source": [
    "print(X.shape)\n",
    "print(y.shape)"
   ]
  },
  {
   "cell_type": "markdown",
   "id": "dominican-catering",
   "metadata": {},
   "source": [
    "### Original Model 4 Conv Layers"
   ]
  },
  {
   "cell_type": "code",
   "execution_count": 10,
   "id": "clinical-plenty",
   "metadata": {},
   "outputs": [],
   "source": [
    "model = Sequential()\n",
    "\n",
    "# Step 1 - Convolution\n",
    "model.add(Convolution2D(32, 3, 3, input_shape = (150, 150, 1), padding='same', activation = 'relu'))\n",
    "model.add(MaxPooling2D(pool_size = (2, 2)))\n",
    "\n",
    "\n",
    "# Step 2 - Adding some other convolutional and Maxpool layers\n",
    "model.add(Convolution2D(32, 3, 3, padding='same', activation = 'relu'))\n",
    "model.add(MaxPooling2D(pool_size = (2, 2)))\n",
    "\n",
    "model.add(Convolution2D(32, 3, 3, padding='same', activation = 'relu'))\n",
    "model.add(MaxPooling2D(pool_size = (2, 2)))\n",
    "\n",
    "model.add(Convolution2D(32, 3, 3, padding='same', activation = 'relu'))\n",
    "\n",
    "# Step 3 - Flattening\n",
    "model.add(Flatten())\n",
    "\n",
    "\n",
    "# Step 4 - Full connection\n",
    "model.add(Dense(128, activation = 'relu'))\n",
    "model.add(Dense(27, activation = 'softmax'))\n"
   ]
  },
  {
   "cell_type": "code",
   "execution_count": 11,
   "id": "flying-crest",
   "metadata": {},
   "outputs": [],
   "source": [
    "# Compiling the CNN\n",
    "\n",
    "early_stop = EarlyStopping(monitor='val_loss', verbose=1, mode='min', patience=8)\n",
    "\n",
    "\n",
    "callback_list = [early_stop]\n",
    "\n",
    "adam = Adam(learning_rate=1e-4 * 10 ** (1/2))\n",
    "model.compile(optimizer = adam, \n",
    "              loss = 'sparse_categorical_crossentropy', \n",
    "              metrics = ['accuracy'])"
   ]
  },
  {
   "cell_type": "code",
   "execution_count": 12,
   "id": "relative-resource",
   "metadata": {},
   "outputs": [
    {
     "name": "stdout",
     "output_type": "stream",
     "text": [
      "Epoch 1/50\n",
      "292/292 [==============================] - 7s 21ms/step - loss: 3.2924 - accuracy: 0.0442 - val_loss: 3.0920 - val_accuracy: 0.0926\n",
      "Epoch 2/50\n",
      "292/292 [==============================] - 6s 19ms/step - loss: 2.9297 - accuracy: 0.1186 - val_loss: 2.6448 - val_accuracy: 0.1466\n",
      "Epoch 3/50\n",
      "292/292 [==============================] - 7s 23ms/step - loss: 2.5492 - accuracy: 0.1852 - val_loss: 2.3270 - val_accuracy: 0.2299\n",
      "Epoch 4/50\n",
      "292/292 [==============================] - 7s 23ms/step - loss: 2.2050 - accuracy: 0.2836 - val_loss: 1.8985 - val_accuracy: 0.3750\n",
      "Epoch 5/50\n",
      "292/292 [==============================] - 7s 23ms/step - loss: 1.8564 - accuracy: 0.3961 - val_loss: 1.6420 - val_accuracy: 0.4259\n",
      "Epoch 6/50\n",
      "292/292 [==============================] - 6s 20ms/step - loss: 1.5671 - accuracy: 0.4777 - val_loss: 1.3565 - val_accuracy: 0.5664\n",
      "Epoch 7/50\n",
      "292/292 [==============================] - 5s 18ms/step - loss: 1.3335 - accuracy: 0.5511 - val_loss: 1.1870 - val_accuracy: 0.6327\n",
      "Epoch 8/50\n",
      "292/292 [==============================] - 6s 19ms/step - loss: 1.1729 - accuracy: 0.6214 - val_loss: 1.0379 - val_accuracy: 0.6343\n",
      "Epoch 9/50\n",
      "292/292 [==============================] - 5s 18ms/step - loss: 1.0108 - accuracy: 0.6693 - val_loss: 0.8970 - val_accuracy: 0.6960\n",
      "Epoch 10/50\n",
      "292/292 [==============================] - 5s 18ms/step - loss: 0.8651 - accuracy: 0.7184 - val_loss: 0.8007 - val_accuracy: 0.7207\n",
      "Epoch 11/50\n",
      "292/292 [==============================] - 6s 20ms/step - loss: 0.7695 - accuracy: 0.7546 - val_loss: 0.7175 - val_accuracy: 0.7577\n",
      "Epoch 12/50\n",
      "292/292 [==============================] - 5s 19ms/step - loss: 0.6890 - accuracy: 0.7857 - val_loss: 0.6450 - val_accuracy: 0.7886\n",
      "Epoch 13/50\n",
      "292/292 [==============================] - 5s 18ms/step - loss: 0.5723 - accuracy: 0.8230 - val_loss: 0.5713 - val_accuracy: 0.8148\n",
      "Epoch 14/50\n",
      "292/292 [==============================] - 6s 19ms/step - loss: 0.5150 - accuracy: 0.8480 - val_loss: 0.4814 - val_accuracy: 0.8534\n",
      "Epoch 15/50\n",
      "292/292 [==============================] - 5s 18ms/step - loss: 0.4619 - accuracy: 0.8623 - val_loss: 0.4015 - val_accuracy: 0.8812\n",
      "Epoch 16/50\n",
      "292/292 [==============================] - 6s 20ms/step - loss: 0.3971 - accuracy: 0.8865 - val_loss: 0.3702 - val_accuracy: 0.8827\n",
      "Epoch 17/50\n",
      "292/292 [==============================] - 5s 19ms/step - loss: 0.3507 - accuracy: 0.9012 - val_loss: 0.3543 - val_accuracy: 0.8858\n",
      "Epoch 18/50\n",
      "292/292 [==============================] - 6s 19ms/step - loss: 0.3261 - accuracy: 0.9085 - val_loss: 0.2885 - val_accuracy: 0.9167\n",
      "Epoch 19/50\n",
      "292/292 [==============================] - 6s 19ms/step - loss: 0.3073 - accuracy: 0.9197 - val_loss: 0.2963 - val_accuracy: 0.9136\n",
      "Epoch 20/50\n",
      "292/292 [==============================] - 6s 19ms/step - loss: 0.2690 - accuracy: 0.9236 - val_loss: 0.2708 - val_accuracy: 0.9136\n",
      "Epoch 21/50\n",
      "292/292 [==============================] - 6s 20ms/step - loss: 0.2488 - accuracy: 0.9303 - val_loss: 0.2356 - val_accuracy: 0.9259\n",
      "Epoch 22/50\n",
      "292/292 [==============================] - 6s 21ms/step - loss: 0.2285 - accuracy: 0.9382 - val_loss: 0.2157 - val_accuracy: 0.9290\n",
      "Epoch 23/50\n",
      "292/292 [==============================] - 6s 20ms/step - loss: 0.2222 - accuracy: 0.9418 - val_loss: 0.2067 - val_accuracy: 0.9398\n",
      "Epoch 24/50\n",
      "292/292 [==============================] - 5s 18ms/step - loss: 0.1923 - accuracy: 0.9502 - val_loss: 0.1984 - val_accuracy: 0.9275\n",
      "Epoch 25/50\n",
      "292/292 [==============================] - 6s 19ms/step - loss: 0.1840 - accuracy: 0.9481 - val_loss: 0.1525 - val_accuracy: 0.9491\n",
      "Epoch 26/50\n",
      "292/292 [==============================] - 5s 18ms/step - loss: 0.1592 - accuracy: 0.9594 - val_loss: 0.1870 - val_accuracy: 0.9321\n",
      "Epoch 27/50\n",
      "292/292 [==============================] - 6s 19ms/step - loss: 0.1435 - accuracy: 0.9632 - val_loss: 0.1421 - val_accuracy: 0.9583\n",
      "Epoch 28/50\n",
      "292/292 [==============================] - 6s 20ms/step - loss: 0.1424 - accuracy: 0.9641 - val_loss: 0.1466 - val_accuracy: 0.9568\n",
      "Epoch 29/50\n",
      "292/292 [==============================] - 5s 17ms/step - loss: 0.1367 - accuracy: 0.9627 - val_loss: 0.1550 - val_accuracy: 0.9506\n",
      "Epoch 30/50\n",
      "292/292 [==============================] - 6s 19ms/step - loss: 0.1209 - accuracy: 0.9653 - val_loss: 0.1459 - val_accuracy: 0.9491\n",
      "Epoch 31/50\n",
      "292/292 [==============================] - 5s 19ms/step - loss: 0.1111 - accuracy: 0.9704 - val_loss: 0.1179 - val_accuracy: 0.9583\n",
      "Epoch 32/50\n",
      "292/292 [==============================] - 5s 19ms/step - loss: 0.1102 - accuracy: 0.9753 - val_loss: 0.1472 - val_accuracy: 0.9537\n",
      "Epoch 33/50\n",
      "292/292 [==============================] - 5s 17ms/step - loss: 0.1038 - accuracy: 0.9737 - val_loss: 0.1126 - val_accuracy: 0.9676\n",
      "Epoch 34/50\n",
      "292/292 [==============================] - 5s 18ms/step - loss: 0.1224 - accuracy: 0.9695 - val_loss: 0.1383 - val_accuracy: 0.9460\n",
      "Epoch 35/50\n",
      "292/292 [==============================] - 5s 18ms/step - loss: 0.0893 - accuracy: 0.9767 - val_loss: 0.1059 - val_accuracy: 0.9660\n",
      "Epoch 36/50\n",
      "292/292 [==============================] - 6s 20ms/step - loss: 0.0874 - accuracy: 0.9793 - val_loss: 0.0807 - val_accuracy: 0.9722\n",
      "Epoch 37/50\n",
      "292/292 [==============================] - 6s 21ms/step - loss: 0.0778 - accuracy: 0.9781 - val_loss: 0.1279 - val_accuracy: 0.9599\n",
      "Epoch 38/50\n",
      "292/292 [==============================] - 6s 19ms/step - loss: 0.0685 - accuracy: 0.9820 - val_loss: 0.0791 - val_accuracy: 0.9753\n",
      "Epoch 39/50\n",
      "292/292 [==============================] - 6s 20ms/step - loss: 0.0706 - accuracy: 0.9825 - val_loss: 0.0728 - val_accuracy: 0.9784\n",
      "Epoch 40/50\n",
      "292/292 [==============================] - 6s 20ms/step - loss: 0.0620 - accuracy: 0.9816 - val_loss: 0.0817 - val_accuracy: 0.9769\n",
      "Epoch 41/50\n",
      "292/292 [==============================] - 6s 19ms/step - loss: 0.0627 - accuracy: 0.9851 - val_loss: 0.1038 - val_accuracy: 0.9660\n",
      "Epoch 42/50\n",
      "292/292 [==============================] - 6s 21ms/step - loss: 0.0657 - accuracy: 0.9799 - val_loss: 0.0709 - val_accuracy: 0.9769\n",
      "Epoch 43/50\n",
      "292/292 [==============================] - 6s 21ms/step - loss: 0.0582 - accuracy: 0.9841 - val_loss: 0.1021 - val_accuracy: 0.9630\n",
      "Epoch 44/50\n",
      "292/292 [==============================] - 6s 19ms/step - loss: 0.0475 - accuracy: 0.9881 - val_loss: 0.0618 - val_accuracy: 0.9846\n",
      "Epoch 45/50\n",
      "292/292 [==============================] - 6s 20ms/step - loss: 0.0477 - accuracy: 0.9865 - val_loss: 0.1229 - val_accuracy: 0.9614\n",
      "Epoch 46/50\n",
      "292/292 [==============================] - 6s 19ms/step - loss: 0.0621 - accuracy: 0.9802 - val_loss: 0.1326 - val_accuracy: 0.9537\n",
      "Epoch 47/50\n",
      "292/292 [==============================] - 6s 20ms/step - loss: 0.0640 - accuracy: 0.9828 - val_loss: 0.0304 - val_accuracy: 0.9938\n",
      "Epoch 48/50\n",
      "292/292 [==============================] - 6s 21ms/step - loss: 0.0410 - accuracy: 0.9884 - val_loss: 0.0509 - val_accuracy: 0.9769\n",
      "Epoch 49/50\n",
      "292/292 [==============================] - 6s 20ms/step - loss: 0.0324 - accuracy: 0.9922 - val_loss: 0.0417 - val_accuracy: 0.9877\n",
      "Epoch 50/50\n",
      "292/292 [==============================] - 6s 20ms/step - loss: 0.0261 - accuracy: 0.9952 - val_loss: 0.0732 - val_accuracy: 0.9753\n"
     ]
    }
   ],
   "source": [
    "# train model\n",
    "history = model.fit(X_train,y_train,\n",
    "    batch_size=20,\n",
    "    epochs=50,\n",
    "    callbacks= callback_list,\n",
    "    validation_split=0.10)"
   ]
  },
  {
   "cell_type": "code",
   "execution_count": 13,
   "id": "crucial-mainland",
   "metadata": {},
   "outputs": [],
   "source": [
    "y_pred = model.predict(X_test)"
   ]
  },
  {
   "cell_type": "code",
   "execution_count": 14,
   "id": "applied-disabled",
   "metadata": {},
   "outputs": [],
   "source": [
    "y_pred = np.argmax(y_pred, axis=-1)"
   ]
  },
  {
   "cell_type": "code",
   "execution_count": 15,
   "id": "impressed-daughter",
   "metadata": {
    "scrolled": true
   },
   "outputs": [
    {
     "name": "stdout",
     "output_type": "stream",
     "text": [
      "              precision    recall  f1-score   support\n",
      "\n",
      "           0       1.00      1.00      1.00        57\n",
      "           1       0.97      1.00      0.99        72\n",
      "           2       0.97      1.00      0.98        57\n",
      "           3       1.00      0.98      0.99        59\n",
      "           4       0.94      0.97      0.95        62\n",
      "           5       0.98      0.96      0.97        54\n",
      "           6       0.98      1.00      0.99        47\n",
      "           7       0.97      0.98      0.97        59\n",
      "           8       0.98      1.00      0.99        56\n",
      "           9       1.00      0.96      0.98        67\n",
      "          10       1.00      0.91      0.95        65\n",
      "          11       1.00      1.00      1.00        56\n",
      "          12       0.98      0.98      0.98        57\n",
      "          13       0.84      0.98      0.91        59\n",
      "          14       0.96      0.91      0.93        70\n",
      "          15       0.92      0.98      0.95        58\n",
      "          16       1.00      0.86      0.93        59\n",
      "          17       0.95      1.00      0.98        59\n",
      "          18       1.00      0.98      0.99        53\n",
      "          19       0.84      0.98      0.91        54\n",
      "          20       0.98      0.90      0.94        62\n",
      "          21       1.00      0.95      0.97        57\n",
      "          22       1.00      0.80      0.89        74\n",
      "          23       0.88      1.00      0.94        80\n",
      "          24       1.00      1.00      1.00        60\n",
      "          25       1.00      1.00      1.00        57\n",
      "          26       1.00      1.00      1.00        50\n",
      "\n",
      "    accuracy                           0.96      1620\n",
      "   macro avg       0.97      0.97      0.97      1620\n",
      "weighted avg       0.97      0.96      0.96      1620\n",
      "\n"
     ]
    }
   ],
   "source": [
    "print(classification_report(y_test, y_pred))"
   ]
  },
  {
   "cell_type": "code",
   "execution_count": 16,
   "id": "substantial-gambling",
   "metadata": {},
   "outputs": [
    {
     "data": {
      "text/plain": [
       "[Text(0.5, 69.0, 'Predicted Class'), Text(114.0, 0.5, 'True Class')]"
      ]
     },
     "execution_count": 16,
     "metadata": {},
     "output_type": "execute_result"
    },
    {
     "data": {
      "image/png": "[encoded data removed]",
      "text/plain": [
       "<Figure size 1080x720 with 2 Axes>"
      ]
     },
     "metadata": {
      "needs_background": "light"
     },
     "output_type": "display_data"
    }
   ],
   "source": [
    "cf_matrix = confusion_matrix(y_test, y_pred)\n",
    "\n",
    "fig, ax = plt.subplots(figsize=(15, 10))\n",
    "plt.xlabel('Predictions', fontsize=18)\n",
    "plt.ylabel('Actuals', fontsize=18)\n",
    "plt.title('Confusion Matrix', fontsize=18)\n",
    "s= sns.heatmap(cf_matrix, annot=True)\n",
    "s.set(xlabel='Predicted Class', ylabel='True Class')"
   ]
  },
  {
   "cell_type": "code",
   "execution_count": 17,
   "id": "optional-talent",
   "metadata": {},
   "outputs": [
    {
     "data": {
      "image/png": "[encoded data removed]",
      "text/plain": [
       "<Figure size 864x360 with 2 Axes>"
      ]
     },
     "metadata": {
      "needs_background": "light"
     },
     "output_type": "display_data"
    }
   ],
   "source": [
    "def plot_history(history):\n",
    "    acc = history.history[\"accuracy\"]\n",
    "    loss = history.history[\"loss\"]\n",
    "    val_loss = history.history[\"val_loss\"]\n",
    "    val_accuracy = history.history[\"val_accuracy\"]\n",
    "    \n",
    "    x = range(1, len(acc) + 1)\n",
    "    \n",
    "    plt.figure(figsize=(12,5))\n",
    "    plt.subplot(1, 2, 1)\n",
    "    plt.plot(x, acc, \"b\", label=\"traning_acc\")\n",
    "    plt.plot(x, val_accuracy, \"r\", label=\"test_acc\")\n",
    "    plt.title(\"Accuracy\")\n",
    "    plt.legend(loc='best')\n",
    "    \n",
    "    plt.subplot(1, 2, 2)\n",
    "    plt.plot(x, loss, \"b\", label=\"traning_acc\")\n",
    "    plt.plot(x, val_loss, \"r\", label=\"test_acc\")\n",
    "    plt.title(\"Loss\")\n",
    "    plt.legend(loc='best')\n",
    "    \n",
    "    \n",
    "plot_history(history)"
   ]
  },
  {
   "cell_type": "code",
   "execution_count": null,
   "id": "julian-differential",
   "metadata": {},
   "outputs": [],
   "source": []
  },
  {
   "cell_type": "markdown",
   "id": "aerial-deposit",
   "metadata": {},
   "source": [
    "## Adding more layers"
   ]
  },
  {
   "cell_type": "code",
   "execution_count": 48,
   "id": "remarkable-gardening",
   "metadata": {},
   "outputs": [],
   "source": [
    "INPUT_SHAPE = (150,150,1)\n",
    "\n",
    "model_1 = Sequential()\n",
    "\n",
    "# Step 1 - Convolution\n",
    "model_1.add(Convolution2D(32, 3, 3, input_shape = INPUT_SHAPE, padding='same'))\n",
    "model_1.add(Activation('relu'))\n",
    "          \n",
    "          \n",
    "model_1.add(Convolution2D(32, 3, 3, padding='same'))\n",
    "model_1.add(Activation('relu'))\n",
    "model_1.add(MaxPooling2D(pool_size = (2, 2)))\n",
    "\n",
    "model_1.add(Convolution2D(64, 3, 3,  padding='same'))\n",
    "model_1.add(Activation('relu'))\n",
    "# model_1.add(BatchNormalization())\n",
    "model_1.add(MaxPooling2D(pool_size = (2, 2)))\n",
    "\n",
    "\n",
    "model_1.add(Convolution2D(64, 3, 3,  padding='same'))\n",
    "model_1.add(Activation('relu'))\n",
    "\n",
    "model_1.add(Convolution2D(128, 3, 3, padding='same'))\n",
    "model_1.add(Activation('relu'))\n",
    "          \n",
    "\n",
    "# Step 3 - Flattening\n",
    "model_1.add(Flatten())\n",
    "\n",
    "\n",
    "# Step 4 - Full connection\n",
    "model_1.add(Dense(128, activation = 'relu'))\n",
    "model_1.add(Dense(27, activation = 'softmax'))"
   ]
  },
  {
   "cell_type": "code",
   "execution_count": 49,
   "id": "adolescent-austin",
   "metadata": {},
   "outputs": [],
   "source": [
    "# Compiling the CNN\n",
    "\n",
    "early_stop = EarlyStopping(monitor='val_loss', verbose=1, mode='min', patience=8)\n",
    "\n",
    "\n",
    "callback_list = [early_stop]\n",
    "\n",
    "adam = Adam(learning_rate=0.001)\n",
    "model_1.compile(optimizer = adam, \n",
    "              loss = 'sparse_categorical_crossentropy', \n",
    "              metrics = ['accuracy'])"
   ]
  },
  {
   "cell_type": "code",
   "execution_count": 50,
   "id": "configured-replica",
   "metadata": {},
   "outputs": [
    {
     "name": "stdout",
     "output_type": "stream",
     "text": [
      "Epoch 1/50\n",
      "292/292 [==============================] - 4s 14ms/step - loss: 3.2930 - accuracy: 0.0382 - val_loss: 3.0743 - val_accuracy: 0.1019\n",
      "Epoch 2/50\n",
      "292/292 [==============================] - 4s 13ms/step - loss: 2.8444 - accuracy: 0.1369 - val_loss: 2.3054 - val_accuracy: 0.2392\n",
      "Epoch 3/50\n",
      "292/292 [==============================] - 4s 14ms/step - loss: 2.0090 - accuracy: 0.3274 - val_loss: 1.9624 - val_accuracy: 0.3457\n",
      "Epoch 4/50\n",
      "292/292 [==============================] - 4s 13ms/step - loss: 1.4624 - accuracy: 0.4925 - val_loss: 1.0956 - val_accuracy: 0.6250\n",
      "Epoch 5/50\n",
      "292/292 [==============================] - 4s 14ms/step - loss: 1.0156 - accuracy: 0.6435 - val_loss: 0.8868 - val_accuracy: 0.6713\n",
      "Epoch 6/50\n",
      "292/292 [==============================] - 4s 14ms/step - loss: 0.7926 - accuracy: 0.7235 - val_loss: 0.6944 - val_accuracy: 0.7608\n",
      "Epoch 7/50\n",
      "292/292 [==============================] - 4s 14ms/step - loss: 0.6335 - accuracy: 0.7779 - val_loss: 0.5991 - val_accuracy: 0.7978\n",
      "Epoch 8/50\n",
      "292/292 [==============================] - 5s 16ms/step - loss: 0.4855 - accuracy: 0.8327 - val_loss: 0.5386 - val_accuracy: 0.7901\n",
      "Epoch 9/50\n",
      "292/292 [==============================] - 4s 15ms/step - loss: 0.4507 - accuracy: 0.8438 - val_loss: 0.4703 - val_accuracy: 0.8256\n",
      "Epoch 10/50\n",
      "292/292 [==============================] - 4s 15ms/step - loss: 0.3491 - accuracy: 0.8837 - val_loss: 0.8242 - val_accuracy: 0.7284\n",
      "Epoch 11/50\n",
      "292/292 [==============================] - 5s 15ms/step - loss: 0.3389 - accuracy: 0.8798 - val_loss: 0.3263 - val_accuracy: 0.8997\n",
      "Epoch 12/50\n",
      "292/292 [==============================] - 4s 15ms/step - loss: 0.3292 - accuracy: 0.8900 - val_loss: 0.3468 - val_accuracy: 0.8981\n",
      "Epoch 13/50\n",
      "292/292 [==============================] - 4s 15ms/step - loss: 0.2421 - accuracy: 0.9215 - val_loss: 0.2618 - val_accuracy: 0.9074\n",
      "Epoch 14/50\n",
      "292/292 [==============================] - 5s 15ms/step - loss: 0.2065 - accuracy: 0.9357 - val_loss: 0.2462 - val_accuracy: 0.9198\n",
      "Epoch 15/50\n",
      "292/292 [==============================] - 5s 19ms/step - loss: 0.2275 - accuracy: 0.9252 - val_loss: 0.2641 - val_accuracy: 0.9198\n",
      "Epoch 16/50\n",
      "292/292 [==============================] - ETA: 0s - loss: 0.1924 - accuracy: 0.93 - 5s 17ms/step - loss: 0.1925 - accuracy: 0.9342 - val_loss: 0.2266 - val_accuracy: 0.9321\n",
      "Epoch 17/50\n",
      "292/292 [==============================] - 5s 19ms/step - loss: 0.1319 - accuracy: 0.9602 - val_loss: 0.2864 - val_accuracy: 0.9028\n",
      "Epoch 18/50\n",
      "292/292 [==============================] - 5s 19ms/step - loss: 0.2114 - accuracy: 0.9282 - val_loss: 0.1856 - val_accuracy: 0.9398\n",
      "Epoch 19/50\n",
      "292/292 [==============================] - 5s 17ms/step - loss: 0.1360 - accuracy: 0.9532 - val_loss: 0.1567 - val_accuracy: 0.9506\n",
      "Epoch 20/50\n",
      "292/292 [==============================] - 4s 15ms/step - loss: 0.1537 - accuracy: 0.9502 - val_loss: 0.1190 - val_accuracy: 0.9660\n",
      "Epoch 21/50\n",
      "292/292 [==============================] - 4s 14ms/step - loss: 0.1202 - accuracy: 0.9604 - val_loss: 0.1302 - val_accuracy: 0.9522\n",
      "Epoch 22/50\n",
      "292/292 [==============================] - 4s 14ms/step - loss: 0.1043 - accuracy: 0.9631 - val_loss: 0.1294 - val_accuracy: 0.9599\n",
      "Epoch 23/50\n",
      "292/292 [==============================] - 4s 15ms/step - loss: 0.1085 - accuracy: 0.9671 - val_loss: 0.2163 - val_accuracy: 0.9306\n",
      "Epoch 24/50\n",
      "292/292 [==============================] - 5s 17ms/step - loss: 0.1132 - accuracy: 0.9601 - val_loss: 0.1489 - val_accuracy: 0.9491\n",
      "Epoch 25/50\n",
      "292/292 [==============================] - 6s 22ms/step - loss: 0.0684 - accuracy: 0.9794 - val_loss: 0.1433 - val_accuracy: 0.9583\n",
      "Epoch 26/50\n",
      "292/292 [==============================] - 5s 19ms/step - loss: 0.0988 - accuracy: 0.9662 - val_loss: 0.2330 - val_accuracy: 0.9367\n",
      "Epoch 27/50\n",
      "292/292 [==============================] - 6s 20ms/step - loss: 0.0963 - accuracy: 0.9668 - val_loss: 0.1065 - val_accuracy: 0.9568\n",
      "Epoch 28/50\n",
      "292/292 [==============================] - 5s 16ms/step - loss: 0.1090 - accuracy: 0.9644 - val_loss: 0.2424 - val_accuracy: 0.9306\n",
      "Epoch 29/50\n",
      "292/292 [==============================] - 5s 16ms/step - loss: 0.1048 - accuracy: 0.9675 - val_loss: 0.1422 - val_accuracy: 0.9645\n",
      "Epoch 30/50\n",
      "292/292 [==============================] - 5s 16ms/step - loss: 0.1197 - accuracy: 0.9611 - val_loss: 0.0632 - val_accuracy: 0.9784\n",
      "Epoch 31/50\n",
      "292/292 [==============================] - 5s 16ms/step - loss: 0.0504 - accuracy: 0.9834 - val_loss: 0.1028 - val_accuracy: 0.9691\n",
      "Epoch 32/50\n",
      "292/292 [==============================] - 5s 18ms/step - loss: 0.0617 - accuracy: 0.9793 - val_loss: 0.0851 - val_accuracy: 0.9691\n",
      "Epoch 33/50\n",
      "292/292 [==============================] - 5s 18ms/step - loss: 0.0735 - accuracy: 0.9742 - val_loss: 0.1681 - val_accuracy: 0.9398\n",
      "Epoch 34/50\n",
      "292/292 [==============================] - 5s 19ms/step - loss: 0.1017 - accuracy: 0.9653 - val_loss: 0.1190 - val_accuracy: 0.9660\n",
      "Epoch 35/50\n",
      "292/292 [==============================] - 5s 19ms/step - loss: 0.0770 - accuracy: 0.9732 - val_loss: 0.1300 - val_accuracy: 0.9583\n",
      "Epoch 36/50\n",
      "292/292 [==============================] - 6s 19ms/step - loss: 0.0869 - accuracy: 0.9717 - val_loss: 0.0650 - val_accuracy: 0.9738\n",
      "Epoch 37/50\n",
      "292/292 [==============================] - 5s 17ms/step - loss: 0.0514 - accuracy: 0.9809 - val_loss: 0.0915 - val_accuracy: 0.9722\n",
      "Epoch 38/50\n",
      "292/292 [==============================] - 5s 16ms/step - loss: 0.0543 - accuracy: 0.9823 - val_loss: 0.1021 - val_accuracy: 0.9645\n",
      "Epoch 00038: early stopping\n"
     ]
    }
   ],
   "source": [
    "# train model\n",
    "history_m1 = model_1.fit(X_train,y_train,\n",
    "    batch_size=20,\n",
    "    epochs=50,\n",
    "    callbacks= callback_list,\n",
    "    validation_split=0.10)"
   ]
  },
  {
   "cell_type": "code",
   "execution_count": 54,
   "id": "educational-decrease",
   "metadata": {},
   "outputs": [
    {
     "name": "stdout",
     "output_type": "stream",
     "text": [
      "              precision    recall  f1-score   support\n",
      "\n",
      "           0       0.95      1.00      0.97        57\n",
      "           1       1.00      0.97      0.99        72\n",
      "           2       0.95      0.98      0.97        57\n",
      "           3       0.98      0.98      0.98        59\n",
      "           4       0.98      0.97      0.98        62\n",
      "           5       0.96      1.00      0.98        54\n",
      "           6       0.94      1.00      0.97        47\n",
      "           7       1.00      0.88      0.94        59\n",
      "           8       0.98      0.98      0.98        56\n",
      "           9       0.98      0.94      0.96        67\n",
      "          10       0.90      0.97      0.93        65\n",
      "          11       1.00      0.98      0.99        56\n",
      "          12       0.88      0.98      0.93        57\n",
      "          13       1.00      0.95      0.97        59\n",
      "          14       0.99      0.96      0.97        70\n",
      "          15       0.97      0.98      0.97        58\n",
      "          16       0.98      1.00      0.99        59\n",
      "          17       0.98      0.97      0.97        59\n",
      "          18       1.00      0.94      0.97        53\n",
      "          19       0.96      0.96      0.96        54\n",
      "          20       0.98      1.00      0.99        62\n",
      "          21       0.98      0.95      0.96        57\n",
      "          22       0.96      0.97      0.97        74\n",
      "          23       0.99      0.97      0.98        80\n",
      "          24       1.00      1.00      1.00        60\n",
      "          25       0.95      0.98      0.97        57\n",
      "          26       0.98      0.94      0.96        50\n",
      "\n",
      "    accuracy                           0.97      1620\n",
      "   macro avg       0.97      0.97      0.97      1620\n",
      "weighted avg       0.97      0.97      0.97      1620\n",
      "\n"
     ]
    }
   ],
   "source": [
    "y_pred_m1 = model_1.predict(X_test)\n",
    "y_pred_m1 = np.argmax(y_pred_m1, axis=-1)\n",
    "print(classification_report(y_test, y_pred_m1))"
   ]
  },
  {
   "cell_type": "code",
   "execution_count": 55,
   "id": "micro-monte",
   "metadata": {},
   "outputs": [
    {
     "data": {
      "text/plain": [
       "[Text(0.5, 69.0, 'Predicted Class'), Text(114.0, 0.5, 'True Class')]"
      ]
     },
     "execution_count": 55,
     "metadata": {},
     "output_type": "execute_result"
    },
    {
     "data": {
      "image/png": "[encoded data removed]",
      "text/plain": [
       "<Figure size 1080x720 with 2 Axes>"
      ]
     },
     "metadata": {
      "needs_background": "light"
     },
     "output_type": "display_data"
    }
   ],
   "source": [
    "cf_matrix = confusion_matrix(y_test, y_pred_m1)\n",
    "\n",
    "fig, ax = plt.subplots(figsize=(15, 10))\n",
    "plt.xlabel('Predictions', fontsize=18)\n",
    "plt.ylabel('Actuals', fontsize=18)\n",
    "plt.title('Confusion Matrix', fontsize=18)\n",
    "s= sns.heatmap(cf_matrix, annot=True)\n",
    "s.set(xlabel='Predicted Class', ylabel='True Class')"
   ]
  },
  {
   "cell_type": "code",
   "execution_count": 56,
   "id": "vanilla-identifier",
   "metadata": {},
   "outputs": [
    {
     "data": {
      "image/png": "[encoded data removed]",
      "text/plain": [
       "<Figure size 864x360 with 2 Axes>"
      ]
     },
     "metadata": {
      "needs_background": "light"
     },
     "output_type": "display_data"
    }
   ],
   "source": [
    "def plot_history(history_m1):\n",
    "    acc = history_m1.history[\"accuracy\"]\n",
    "    loss = history_m1.history[\"loss\"]\n",
    "    val_loss = history_m1.history[\"val_loss\"]\n",
    "    val_accuracy = history_m1.history[\"val_accuracy\"]\n",
    "    \n",
    "    x = range(1, len(acc) + 1)\n",
    "    \n",
    "    plt.figure(figsize=(12,5))\n",
    "    plt.subplot(1, 2, 1)\n",
    "    plt.plot(x, acc, \"b\", label=\"traning_acc\")\n",
    "    plt.plot(x, val_accuracy, \"r\", label=\"test_acc\")\n",
    "    plt.title(\"Accuracy\")\n",
    "    plt.legend(loc='best')\n",
    "    \n",
    "    plt.subplot(1, 2, 2)\n",
    "    plt.plot(x, loss, \"b\", label=\"traning_acc\")\n",
    "    plt.plot(x, val_loss, \"r\", label=\"test_acc\")\n",
    "    plt.title(\"Loss\")\n",
    "    plt.legend(loc='best')\n",
    "    \n",
    "    \n",
    "plot_history(history_m1)"
   ]
  },
  {
   "cell_type": "code",
   "execution_count": null,
   "id": "polyphonic-ocean",
   "metadata": {},
   "outputs": [],
   "source": []
  },
  {
   "cell_type": "code",
   "execution_count": null,
   "id": "bearing-director",
   "metadata": {},
   "outputs": [],
   "source": []
  },
  {
   "cell_type": "code",
   "execution_count": 36,
   "id": "registered-journalism",
   "metadata": {},
   "outputs": [],
   "source": [
    "INPUT_SHAPE = (150,150,1)\n",
    "\n",
    "model_2 = Sequential()\n",
    "\n",
    "# Step 1 - Convolution\n",
    "model_2.add(Convolution2D(32, 3, 3, input_shape = INPUT_SHAPE, padding='same'))\n",
    "model_2.add(Activation('relu'))\n",
    "model_2.add(MaxPooling2D(pool_size = (2, 2)))          \n",
    "          \n",
    "model_2.add(Convolution2D(32, 3, 3,  padding='same'))\n",
    "model_2.add(Activation('relu'))\n",
    "model_2.add(MaxPooling2D(pool_size = (2, 2)))\n",
    "\n",
    "\n",
    "model_2.add(Convolution2D(64, 3, 3, padding='same'))\n",
    "model_2.add(Activation('relu'))\n",
    "\n",
    "\n",
    "\n",
    "model_2.add(Convolution2D(64, 3, 3,  padding='same'))\n",
    "model_2.add(Activation('relu'))\n",
    "\n",
    "model_2.add(Convolution2D(128, 3, 3,  padding='same'))\n",
    "model_2.add(Activation('relu'))\n",
    "\n",
    "\n",
    "\n",
    "model_2.add(Convolution2D(128, 3, 3, padding='same'))\n",
    "model_2.add(Activation('relu'))\n",
    "\n",
    "\n",
    "\n",
    "# Step 3 - Flattening\n",
    "model_2.add(Flatten())\n",
    "\n",
    "\n",
    "# Step 4 - Full connection\n",
    "model_2.add(Dense(128, activation = 'relu'))\n",
    "model_2.add(Dense(27, activation = 'softmax'))"
   ]
  },
  {
   "cell_type": "code",
   "execution_count": 37,
   "id": "vanilla-instrument",
   "metadata": {},
   "outputs": [],
   "source": [
    "# Compiling the CNN\n",
    "\n",
    "early_stop = EarlyStopping(monitor='val_loss', verbose=1, mode='min', patience=8)\n",
    "\n",
    "\n",
    "callback_list = [early_stop]\n",
    "\n",
    "adam = Adam(learning_rate=0.001)\n",
    "model_2.compile(optimizer = adam, \n",
    "              loss = 'sparse_categorical_crossentropy', \n",
    "              metrics = ['accuracy'])"
   ]
  },
  {
   "cell_type": "code",
   "execution_count": 38,
   "id": "economic-verification",
   "metadata": {},
   "outputs": [
    {
     "name": "stdout",
     "output_type": "stream",
     "text": [
      "Epoch 1/50\n",
      "292/292 [==============================] - 5s 15ms/step - loss: 3.2964 - accuracy: 0.0412 - val_loss: 3.2954 - val_accuracy: 0.0417\n",
      "Epoch 2/50\n",
      "292/292 [==============================] - 5s 16ms/step - loss: 3.0992 - accuracy: 0.0755 - val_loss: 2.7447 - val_accuracy: 0.1142\n",
      "Epoch 3/50\n",
      "292/292 [==============================] - 4s 15ms/step - loss: 2.6353 - accuracy: 0.1441 - val_loss: 2.2159 - val_accuracy: 0.2500\n",
      "Epoch 4/50\n",
      "292/292 [==============================] - 4s 15ms/step - loss: 2.0730 - accuracy: 0.3216 - val_loss: 1.5967 - val_accuracy: 0.4352\n",
      "Epoch 5/50\n",
      "292/292 [==============================] - 4s 14ms/step - loss: 1.4851 - accuracy: 0.4954 - val_loss: 1.1332 - val_accuracy: 0.5910\n",
      "Epoch 6/50\n",
      "292/292 [==============================] - 4s 14ms/step - loss: 1.0921 - accuracy: 0.6114 - val_loss: 0.8479 - val_accuracy: 0.6836\n",
      "Epoch 7/50\n",
      "292/292 [==============================] - 4s 15ms/step - loss: 0.8011 - accuracy: 0.7172 - val_loss: 0.6959 - val_accuracy: 0.7330\n",
      "Epoch 8/50\n",
      "292/292 [==============================] - 4s 15ms/step - loss: 0.6906 - accuracy: 0.7520 - val_loss: 0.7928 - val_accuracy: 0.7006\n",
      "Epoch 9/50\n",
      "292/292 [==============================] - 4s 15ms/step - loss: 0.5321 - accuracy: 0.8177 - val_loss: 0.4538 - val_accuracy: 0.8349\n",
      "Epoch 10/50\n",
      "292/292 [==============================] - 5s 16ms/step - loss: 0.4268 - accuracy: 0.8542 - val_loss: 0.4542 - val_accuracy: 0.8333\n",
      "Epoch 11/50\n",
      "292/292 [==============================] - 4s 15ms/step - loss: 0.3747 - accuracy: 0.8735 - val_loss: 0.4376 - val_accuracy: 0.8596\n",
      "Epoch 12/50\n",
      "292/292 [==============================] - 5s 16ms/step - loss: 0.3528 - accuracy: 0.8816 - val_loss: 0.3691 - val_accuracy: 0.8796\n",
      "Epoch 13/50\n",
      "292/292 [==============================] - 5s 18ms/step - loss: 0.2748 - accuracy: 0.9080 - val_loss: 0.1991 - val_accuracy: 0.9429\n",
      "Epoch 14/50\n",
      "292/292 [==============================] - 6s 19ms/step - loss: 0.1973 - accuracy: 0.9427 - val_loss: 0.2361 - val_accuracy: 0.9321\n",
      "Epoch 15/50\n",
      "292/292 [==============================] - 6s 19ms/step - loss: 0.1852 - accuracy: 0.9478 - val_loss: 0.2923 - val_accuracy: 0.8951\n",
      "Epoch 16/50\n",
      "292/292 [==============================] - 5s 16ms/step - loss: 0.1710 - accuracy: 0.9404 - val_loss: 0.2602 - val_accuracy: 0.9182\n",
      "Epoch 17/50\n",
      "292/292 [==============================] - 5s 16ms/step - loss: 0.1238 - accuracy: 0.9620 - val_loss: 0.2647 - val_accuracy: 0.9151\n",
      "Epoch 18/50\n",
      "292/292 [==============================] - 5s 16ms/step - loss: 0.2019 - accuracy: 0.9364 - val_loss: 0.1583 - val_accuracy: 0.9444\n",
      "Epoch 19/50\n",
      "292/292 [==============================] - 5s 17ms/step - loss: 0.1055 - accuracy: 0.9691 - val_loss: 0.1436 - val_accuracy: 0.9522\n",
      "Epoch 20/50\n",
      "292/292 [==============================] - 5s 16ms/step - loss: 0.1173 - accuracy: 0.9643 - val_loss: 0.1982 - val_accuracy: 0.9367\n",
      "Epoch 21/50\n",
      "292/292 [==============================] - 5s 16ms/step - loss: 0.2223 - accuracy: 0.9282 - val_loss: 0.0968 - val_accuracy: 0.9691\n",
      "Epoch 22/50\n",
      "292/292 [==============================] - 5s 18ms/step - loss: 0.0509 - accuracy: 0.9853 - val_loss: 0.1511 - val_accuracy: 0.9614\n",
      "Epoch 23/50\n",
      "292/292 [==============================] - 5s 16ms/step - loss: 0.0780 - accuracy: 0.9731 - val_loss: 0.2272 - val_accuracy: 0.9182\n",
      "Epoch 24/50\n",
      "292/292 [==============================] - 5s 17ms/step - loss: 0.1276 - accuracy: 0.9569 - val_loss: 0.1512 - val_accuracy: 0.9599\n",
      "Epoch 25/50\n",
      "292/292 [==============================] - 5s 18ms/step - loss: 0.1283 - accuracy: 0.9610 - val_loss: 0.2335 - val_accuracy: 0.9259\n",
      "Epoch 26/50\n",
      "292/292 [==============================] - 6s 20ms/step - loss: 0.1259 - accuracy: 0.9660 - val_loss: 0.1323 - val_accuracy: 0.9614\n",
      "Epoch 27/50\n",
      "292/292 [==============================] - 5s 18ms/step - loss: 0.0918 - accuracy: 0.9716 - val_loss: 0.1070 - val_accuracy: 0.9630\n",
      "Epoch 28/50\n",
      "292/292 [==============================] - 5s 17ms/step - loss: 0.0557 - accuracy: 0.9829 - val_loss: 0.0447 - val_accuracy: 0.9861\n",
      "Epoch 29/50\n",
      "292/292 [==============================] - 5s 16ms/step - loss: 0.1571 - accuracy: 0.9516 - val_loss: 0.0882 - val_accuracy: 0.9707\n",
      "Epoch 30/50\n",
      "292/292 [==============================] - 5s 18ms/step - loss: 0.1143 - accuracy: 0.9670 - val_loss: 0.0431 - val_accuracy: 0.9877\n",
      "Epoch 31/50\n",
      "292/292 [==============================] - 5s 18ms/step - loss: 0.0133 - accuracy: 0.9976 - val_loss: 0.1994 - val_accuracy: 0.9352\n",
      "Epoch 32/50\n",
      "292/292 [==============================] - 5s 17ms/step - loss: 0.1975 - accuracy: 0.9433 - val_loss: 0.0788 - val_accuracy: 0.9738\n",
      "Epoch 33/50\n",
      "292/292 [==============================] - 5s 19ms/step - loss: 0.0262 - accuracy: 0.9937 - val_loss: 0.0783 - val_accuracy: 0.9784\n",
      "Epoch 34/50\n",
      "292/292 [==============================] - 6s 22ms/step - loss: 0.0458 - accuracy: 0.9861 - val_loss: 0.1491 - val_accuracy: 0.9537\n",
      "Epoch 35/50\n",
      "292/292 [==============================] - 5s 18ms/step - loss: 0.0542 - accuracy: 0.9855 - val_loss: 0.0830 - val_accuracy: 0.9738\n",
      "Epoch 36/50\n",
      "292/292 [==============================] - 6s 20ms/step - loss: 0.0224 - accuracy: 0.9944 - val_loss: 0.0430 - val_accuracy: 0.9830\n",
      "Epoch 37/50\n",
      "292/292 [==============================] - 5s 18ms/step - loss: 0.0519 - accuracy: 0.9852 - val_loss: 0.1191 - val_accuracy: 0.9645\n",
      "Epoch 38/50\n",
      "292/292 [==============================] - 6s 20ms/step - loss: 0.0372 - accuracy: 0.9880 - val_loss: 0.0964 - val_accuracy: 0.9738\n",
      "Epoch 39/50\n",
      "292/292 [==============================] - 5s 17ms/step - loss: 0.0545 - accuracy: 0.9820 - val_loss: 0.1095 - val_accuracy: 0.9676\n",
      "Epoch 40/50\n",
      "292/292 [==============================] - 5s 18ms/step - loss: 0.0598 - accuracy: 0.9784 - val_loss: 0.0414 - val_accuracy: 0.9892\n",
      "Epoch 41/50\n",
      "292/292 [==============================] - 6s 21ms/step - loss: 0.0202 - accuracy: 0.9946 - val_loss: 0.1726 - val_accuracy: 0.9522\n",
      "Epoch 42/50\n",
      "292/292 [==============================] - 6s 20ms/step - loss: 0.0420 - accuracy: 0.9881 - val_loss: 0.1318 - val_accuracy: 0.9599\n",
      "Epoch 43/50\n",
      "292/292 [==============================] - 5s 18ms/step - loss: 0.0675 - accuracy: 0.9773 - val_loss: 0.0699 - val_accuracy: 0.9815\n",
      "Epoch 44/50\n",
      "292/292 [==============================] - 5s 16ms/step - loss: 0.0211 - accuracy: 0.9922 - val_loss: 0.0773 - val_accuracy: 0.9784\n",
      "Epoch 45/50\n",
      "292/292 [==============================] - 5s 17ms/step - loss: 0.1209 - accuracy: 0.9672 - val_loss: 0.1405 - val_accuracy: 0.9645\n",
      "Epoch 46/50\n",
      "292/292 [==============================] - 5s 18ms/step - loss: 0.0549 - accuracy: 0.9806 - val_loss: 0.0456 - val_accuracy: 0.9877\n",
      "Epoch 47/50\n",
      "292/292 [==============================] - 5s 18ms/step - loss: 0.0074 - accuracy: 0.9984 - val_loss: 0.0311 - val_accuracy: 0.9923\n",
      "Epoch 48/50\n",
      "292/292 [==============================] - 5s 17ms/step - loss: 0.0032 - accuracy: 0.9998 - val_loss: 0.0215 - val_accuracy: 0.9923\n",
      "Epoch 49/50\n",
      "292/292 [==============================] - 6s 20ms/step - loss: 0.0545 - accuracy: 0.9863 - val_loss: 0.1056 - val_accuracy: 0.9707\n",
      "Epoch 50/50\n",
      "292/292 [==============================] - 5s 17ms/step - loss: 0.0315 - accuracy: 0.9904 - val_loss: 0.0256 - val_accuracy: 0.9938\n"
     ]
    }
   ],
   "source": [
    "# train model\n",
    "history_m2 = model_2.fit(X_train,y_train,\n",
    "    batch_size=20,\n",
    "    epochs=50,\n",
    "    callbacks= callback_list,\n",
    "    validation_split=0.10)"
   ]
  },
  {
   "cell_type": "code",
   "execution_count": 39,
   "id": "million-scenario",
   "metadata": {},
   "outputs": [
    {
     "name": "stdout",
     "output_type": "stream",
     "text": [
      "              precision    recall  f1-score   support\n",
      "\n",
      "           0       1.00      1.00      1.00        57\n",
      "           1       1.00      1.00      1.00        72\n",
      "           2       1.00      1.00      1.00        57\n",
      "           3       1.00      1.00      1.00        59\n",
      "           4       1.00      1.00      1.00        62\n",
      "           5       0.98      1.00      0.99        54\n",
      "           6       1.00      1.00      1.00        47\n",
      "           7       1.00      0.98      0.99        59\n",
      "           8       1.00      1.00      1.00        56\n",
      "           9       1.00      1.00      1.00        67\n",
      "          10       1.00      0.98      0.99        65\n",
      "          11       1.00      1.00      1.00        56\n",
      "          12       1.00      1.00      1.00        57\n",
      "          13       1.00      0.98      0.99        59\n",
      "          14       1.00      0.99      0.99        70\n",
      "          15       1.00      1.00      1.00        58\n",
      "          16       0.97      1.00      0.98        59\n",
      "          17       1.00      1.00      1.00        59\n",
      "          18       1.00      1.00      1.00        53\n",
      "          19       0.98      1.00      0.99        54\n",
      "          20       1.00      1.00      1.00        62\n",
      "          21       1.00      1.00      1.00        57\n",
      "          22       1.00      1.00      1.00        74\n",
      "          23       1.00      1.00      1.00        80\n",
      "          24       0.98      1.00      0.99        60\n",
      "          25       1.00      1.00      1.00        57\n",
      "          26       1.00      0.98      0.99        50\n",
      "\n",
      "    accuracy                           1.00      1620\n",
      "   macro avg       1.00      1.00      1.00      1620\n",
      "weighted avg       1.00      1.00      1.00      1620\n",
      "\n"
     ]
    }
   ],
   "source": [
    "y_pred_m2 = model_2.predict(X_test)\n",
    "y_pred_m2 = np.argmax(y_pred_m2, axis=-1)\n",
    "print(classification_report(y_test, y_pred_m2))"
   ]
  },
  {
   "cell_type": "code",
   "execution_count": 40,
   "id": "identified-dialogue",
   "metadata": {},
   "outputs": [
    {
     "data": {
      "text/plain": [
       "[Text(0.5, 69.0, 'Predicted Class'), Text(114.0, 0.5, 'True Class')]"
      ]
     },
     "execution_count": 40,
     "metadata": {},
     "output_type": "execute_result"
    },
    {
     "data": {
      "image/png": "[encoded data removed]",
      "text/plain": [
       "<Figure size 1080x720 with 2 Axes>"
      ]
     },
     "metadata": {
      "needs_background": "light"
     },
     "output_type": "display_data"
    }
   ],
   "source": [
    "cf_matrix = confusion_matrix(y_test, y_pred_m2)\n",
    "\n",
    "fig, ax = plt.subplots(figsize=(15, 10))\n",
    "plt.xlabel('Predictions', fontsize=18)\n",
    "plt.ylabel('Actuals', fontsize=18)\n",
    "plt.title('Confusion Matrix', fontsize=18)\n",
    "s= sns.heatmap(cf_matrix, annot=True)\n",
    "s.set(xlabel='Predicted Class', ylabel='True Class')"
   ]
  },
  {
   "cell_type": "code",
   "execution_count": 41,
   "id": "satisfactory-dream",
   "metadata": {},
   "outputs": [
    {
     "data": {
      "image/png": "[encoded data removed]",
      "text/plain": [
       "<Figure size 864x360 with 2 Axes>"
      ]
     },
     "metadata": {
      "needs_background": "light"
     },
     "output_type": "display_data"
    }
   ],
   "source": [
    "def plot_history(history_m1):\n",
    "    acc = history_m1.history[\"accuracy\"]\n",
    "    loss = history_m1.history[\"loss\"]\n",
    "    val_loss = history_m1.history[\"val_loss\"]\n",
    "    val_accuracy = history_m1.history[\"val_accuracy\"]\n",
    "    \n",
    "    x = range(1, len(acc) + 1)\n",
    "    \n",
    "    plt.figure(figsize=(12,5))\n",
    "    plt.subplot(1, 2, 1)\n",
    "    plt.plot(x, acc, \"b\", label=\"traning_acc\")\n",
    "    plt.plot(x, val_accuracy, \"r\", label=\"test_acc\")\n",
    "    plt.title(\"Accuracy\")\n",
    "    plt.legend(loc='best')\n",
    "    \n",
    "    plt.subplot(1, 2, 2)\n",
    "    plt.plot(x, loss, \"b\", label=\"traning_acc\")\n",
    "    plt.plot(x, val_loss, \"r\", label=\"test_acc\")\n",
    "    plt.title(\"Loss\")\n",
    "    plt.legend(loc='best')\n",
    "    \n",
    "    \n",
    "plot_history(history_m2)"
   ]
  },
  {
   "cell_type": "code",
   "execution_count": null,
   "id": "genuine-controversy",
   "metadata": {},
   "outputs": [],
   "source": []
  },
  {
   "cell_type": "code",
   "execution_count": null,
   "id": "unknown-dependence",
   "metadata": {},
   "outputs": [],
   "source": []
  },
  {
   "cell_type": "code",
   "execution_count": null,
   "id": "coordinated-mailing",
   "metadata": {},
   "outputs": [],
   "source": []
  },
  {
   "cell_type": "code",
   "execution_count": 62,
   "id": "handy-going",
   "metadata": {},
   "outputs": [],
   "source": [
    "INPUT_SHAPE = (150,150,1)\n",
    "\n",
    "model_3 = Sequential()\n",
    "\n",
    "# Step 1 - Convolution\n",
    "model_3.add(Convolution2D(32, 3, 3, input_shape = INPUT_SHAPE, padding='same'))\n",
    "model_3.add(Activation('relu'))\n",
    "model_3.add(MaxPooling2D(pool_size = (2, 2)))          \n",
    "          \n",
    "model_3.add(Convolution2D(32, 3, 3,  padding='same'))\n",
    "model_3.add(Activation('relu'))\n",
    "model_3.add(MaxPooling2D(pool_size = (2, 2)))\n",
    "\n",
    "\n",
    "model_3.add(Convolution2D(64, 3, 3, padding='same'))\n",
    "model_3.add(Activation('relu'))\n",
    "\n",
    "\n",
    "\n",
    "model_3.add(Convolution2D(64, 3, 3,  padding='same'))\n",
    "model_3.add(Activation('relu'))\n",
    "\n",
    "model_3.add(Convolution2D(128, 3, 3,  padding='same'))\n",
    "model_3.add(Activation('relu'))\n",
    "\n",
    "model_3.add(Convolution2D(128, 3, 3,  padding='same'))\n",
    "model_3.add(Activation('relu'))\n",
    "\n",
    "model_3.add(Convolution2D(256, 3, 3, padding='same'))\n",
    "model_3.add(Activation('relu'))\n",
    "\n",
    "\n",
    "\n",
    "# Step 3 - Flattening\n",
    "model_3.add(Flatten())\n",
    "\n",
    "\n",
    "# Step 4 - Full connection\n",
    "model_3.add(Dense(128, activation = 'relu'))\n",
    "model_3.add(Dense(27, activation = 'softmax'))"
   ]
  },
  {
   "cell_type": "code",
   "execution_count": 63,
   "id": "egyptian-investing",
   "metadata": {},
   "outputs": [],
   "source": [
    "# Compiling the CNN\n",
    "\n",
    "early_stop = EarlyStopping(monitor='val_loss', verbose=1, mode='min', patience=8)\n",
    "\n",
    "\n",
    "callback_list = [early_stop]\n",
    "\n",
    "adam = Adam(learning_rate=0.001)\n",
    "model_3.compile(optimizer = adam, \n",
    "              loss = 'sparse_categorical_crossentropy', \n",
    "              metrics = ['accuracy'])"
   ]
  },
  {
   "cell_type": "code",
   "execution_count": 64,
   "id": "underlying-entry",
   "metadata": {},
   "outputs": [
    {
     "name": "stdout",
     "output_type": "stream",
     "text": [
      "Epoch 1/50\n",
      "292/292 [==============================] - 5s 17ms/step - loss: 3.2962 - accuracy: 0.0389 - val_loss: 3.2967 - val_accuracy: 0.0278\n",
      "Epoch 2/50\n",
      "292/292 [==============================] - 5s 17ms/step - loss: 3.1301 - accuracy: 0.0748 - val_loss: 2.8397 - val_accuracy: 0.0802\n",
      "Epoch 3/50\n",
      "292/292 [==============================] - 5s 18ms/step - loss: 2.7657 - accuracy: 0.0900 - val_loss: 2.5594 - val_accuracy: 0.1559\n",
      "Epoch 4/50\n",
      "292/292 [==============================] - 5s 17ms/step - loss: 2.4787 - accuracy: 0.1714 - val_loss: 2.2403 - val_accuracy: 0.2114\n",
      "Epoch 5/50\n",
      "292/292 [==============================] - 5s 17ms/step - loss: 2.1725 - accuracy: 0.2459 - val_loss: 1.8644 - val_accuracy: 0.3827\n",
      "Epoch 6/50\n",
      "292/292 [==============================] - 5s 18ms/step - loss: 1.7877 - accuracy: 0.3748 - val_loss: 1.5724 - val_accuracy: 0.4059\n",
      "Epoch 7/50\n",
      "292/292 [==============================] - 5s 17ms/step - loss: 1.4921 - accuracy: 0.4609 - val_loss: 1.2262 - val_accuracy: 0.5324\n",
      "Epoch 8/50\n",
      "292/292 [==============================] - 5s 18ms/step - loss: 1.2830 - accuracy: 0.5227 - val_loss: 1.0547 - val_accuracy: 0.6019\n",
      "Epoch 9/50\n",
      "292/292 [==============================] - 5s 17ms/step - loss: 1.0693 - accuracy: 0.6096 - val_loss: 0.8889 - val_accuracy: 0.6512\n",
      "Epoch 10/50\n",
      "292/292 [==============================] - 5s 17ms/step - loss: 0.9015 - accuracy: 0.6595 - val_loss: 0.9153 - val_accuracy: 0.6605\n",
      "Epoch 11/50\n",
      "292/292 [==============================] - 5s 17ms/step - loss: 0.7776 - accuracy: 0.7254 - val_loss: 0.6431 - val_accuracy: 0.7438\n",
      "Epoch 12/50\n",
      "292/292 [==============================] - 5s 18ms/step - loss: 0.6200 - accuracy: 0.7827 - val_loss: 0.4919 - val_accuracy: 0.8164\n",
      "Epoch 13/50\n",
      "292/292 [==============================] - 6s 19ms/step - loss: 0.5146 - accuracy: 0.8168 - val_loss: 0.5882 - val_accuracy: 0.8102\n",
      "Epoch 14/50\n",
      "292/292 [==============================] - 6s 21ms/step - loss: 0.4935 - accuracy: 0.8307 - val_loss: 0.5356 - val_accuracy: 0.8102\n",
      "Epoch 15/50\n",
      "292/292 [==============================] - 6s 21ms/step - loss: 0.4609 - accuracy: 0.8482 - val_loss: 0.3846 - val_accuracy: 0.8657\n",
      "Epoch 16/50\n",
      "292/292 [==============================] - 5s 18ms/step - loss: 0.3633 - accuracy: 0.8759 - val_loss: 0.2779 - val_accuracy: 0.9167\n",
      "Epoch 17/50\n",
      "292/292 [==============================] - 6s 19ms/step - loss: 0.2574 - accuracy: 0.9163 - val_loss: 0.5419 - val_accuracy: 0.8148\n",
      "Epoch 18/50\n",
      "292/292 [==============================] - 6s 21ms/step - loss: 0.3015 - accuracy: 0.8912 - val_loss: 0.3448 - val_accuracy: 0.8981\n",
      "Epoch 19/50\n",
      "292/292 [==============================] - 8s 26ms/step - loss: 0.2408 - accuracy: 0.9193 - val_loss: 0.2986 - val_accuracy: 0.9090\n",
      "Epoch 20/50\n",
      "292/292 [==============================] - 7s 25ms/step - loss: 0.1723 - accuracy: 0.9448 - val_loss: 0.1812 - val_accuracy: 0.9614\n",
      "Epoch 21/50\n",
      "292/292 [==============================] - 7s 25ms/step - loss: 0.2330 - accuracy: 0.9276 - val_loss: 0.1885 - val_accuracy: 0.9444\n",
      "Epoch 22/50\n",
      "292/292 [==============================] - 6s 21ms/step - loss: 0.1224 - accuracy: 0.9663 - val_loss: 0.1550 - val_accuracy: 0.9583\n",
      "Epoch 23/50\n",
      "292/292 [==============================] - 5s 18ms/step - loss: 0.1295 - accuracy: 0.9599 - val_loss: 0.2457 - val_accuracy: 0.9228\n",
      "Epoch 24/50\n",
      "292/292 [==============================] - 5s 18ms/step - loss: 0.1329 - accuracy: 0.9577 - val_loss: 0.2238 - val_accuracy: 0.9275\n",
      "Epoch 25/50\n",
      "292/292 [==============================] - 6s 22ms/step - loss: 0.1171 - accuracy: 0.9657 - val_loss: 0.1224 - val_accuracy: 0.9599\n",
      "Epoch 26/50\n",
      "292/292 [==============================] - 7s 23ms/step - loss: 0.0789 - accuracy: 0.9741 - val_loss: 0.1915 - val_accuracy: 0.9290\n",
      "Epoch 27/50\n",
      "292/292 [==============================] - 7s 22ms/step - loss: 0.1130 - accuracy: 0.9656 - val_loss: 0.2863 - val_accuracy: 0.9151\n",
      "Epoch 28/50\n",
      "292/292 [==============================] - 6s 21ms/step - loss: 0.1673 - accuracy: 0.9488 - val_loss: 0.2192 - val_accuracy: 0.9444\n",
      "Epoch 29/50\n",
      "292/292 [==============================] - 6s 22ms/step - loss: 0.1276 - accuracy: 0.9596 - val_loss: 0.1140 - val_accuracy: 0.9722\n",
      "Epoch 30/50\n",
      "292/292 [==============================] - 7s 23ms/step - loss: 0.0754 - accuracy: 0.9767 - val_loss: 0.2428 - val_accuracy: 0.9290\n",
      "Epoch 31/50\n",
      "292/292 [==============================] - 7s 23ms/step - loss: 0.1413 - accuracy: 0.9564 - val_loss: 0.1092 - val_accuracy: 0.9753\n",
      "Epoch 32/50\n",
      "292/292 [==============================] - 8s 26ms/step - loss: 0.0631 - accuracy: 0.9794 - val_loss: 0.2057 - val_accuracy: 0.9352\n",
      "Epoch 33/50\n",
      "292/292 [==============================] - 7s 24ms/step - loss: 0.1600 - accuracy: 0.9531 - val_loss: 0.0622 - val_accuracy: 0.9830\n",
      "Epoch 34/50\n",
      "292/292 [==============================] - 7s 25ms/step - loss: 0.0427 - accuracy: 0.9886 - val_loss: 0.1273 - val_accuracy: 0.9645\n",
      "Epoch 35/50\n",
      "292/292 [==============================] - 6s 22ms/step - loss: 0.0365 - accuracy: 0.9887 - val_loss: 0.3727 - val_accuracy: 0.8904\n",
      "Epoch 36/50\n",
      "292/292 [==============================] - 6s 22ms/step - loss: 0.1210 - accuracy: 0.9639 - val_loss: 0.1212 - val_accuracy: 0.9676\n",
      "Epoch 37/50\n",
      "292/292 [==============================] - 7s 24ms/step - loss: 0.0460 - accuracy: 0.9887 - val_loss: 0.0789 - val_accuracy: 0.9753\n",
      "Epoch 38/50\n",
      "292/292 [==============================] - 7s 25ms/step - loss: 0.0887 - accuracy: 0.9743 - val_loss: 0.1050 - val_accuracy: 0.9722\n",
      "Epoch 39/50\n",
      "292/292 [==============================] - 6s 22ms/step - loss: 0.0502 - accuracy: 0.9833 - val_loss: 0.0778 - val_accuracy: 0.9861\n",
      "Epoch 40/50\n",
      "292/292 [==============================] - 7s 22ms/step - loss: 0.1054 - accuracy: 0.9712 - val_loss: 0.0770 - val_accuracy: 0.9846\n",
      "Epoch 41/50\n",
      "292/292 [==============================] - 8s 28ms/step - loss: 0.0167 - accuracy: 0.9944 - val_loss: 0.0739 - val_accuracy: 0.9799\n",
      "Epoch 00041: early stopping\n"
     ]
    }
   ],
   "source": [
    "# train model\n",
    "history_m3 = model_3.fit(X_train,y_train,\n",
    "    batch_size=20,\n",
    "    epochs=50,\n",
    "    callbacks= callback_list,\n",
    "    validation_split=0.10)"
   ]
  },
  {
   "cell_type": "code",
   "execution_count": 79,
   "id": "facial-vector",
   "metadata": {},
   "outputs": [
    {
     "name": "stdout",
     "output_type": "stream",
     "text": [
      "              precision    recall  f1-score   support\n",
      "\n",
      "           0       0.98      1.00      0.99        57\n",
      "           1       0.99      1.00      0.99        72\n",
      "           2       1.00      0.96      0.98        57\n",
      "           3       0.98      1.00      0.99        59\n",
      "           4       0.98      0.94      0.96        62\n",
      "           5       0.96      1.00      0.98        54\n",
      "           6       0.96      0.98      0.97        47\n",
      "           7       0.98      0.98      0.98        59\n",
      "           8       1.00      0.98      0.99        56\n",
      "           9       1.00      1.00      1.00        67\n",
      "          10       0.98      1.00      0.99        65\n",
      "          11       0.98      1.00      0.99        56\n",
      "          12       1.00      0.98      0.99        57\n",
      "          13       1.00      0.95      0.97        59\n",
      "          14       1.00      0.93      0.96        70\n",
      "          15       0.98      0.98      0.98        58\n",
      "          16       0.97      0.98      0.97        59\n",
      "          17       0.95      0.97      0.96        59\n",
      "          18       1.00      1.00      1.00        53\n",
      "          19       0.98      1.00      0.99        54\n",
      "          20       0.95      1.00      0.98        62\n",
      "          21       1.00      1.00      1.00        57\n",
      "          22       0.99      0.99      0.99        74\n",
      "          23       0.99      0.99      0.99        80\n",
      "          24       0.98      1.00      0.99        60\n",
      "          25       1.00      1.00      1.00        57\n",
      "          26       1.00      1.00      1.00        50\n",
      "\n",
      "    accuracy                           0.99      1620\n",
      "   macro avg       0.99      0.99      0.99      1620\n",
      "weighted avg       0.99      0.99      0.99      1620\n",
      "\n"
     ]
    }
   ],
   "source": [
    "y_pred_m3 = model_3.predict(X_test)\n",
    "y_pred_m3 = np.argmax(y_pred_m3, axis=-1)\n",
    "print(classification_report(y_test, y_pred_m3))"
   ]
  },
  {
   "cell_type": "code",
   "execution_count": 80,
   "id": "brief-rochester",
   "metadata": {},
   "outputs": [
    {
     "data": {
      "text/plain": [
       "[Text(0.5, 69.0, 'Predicted Class'), Text(114.0, 0.5, 'True Class')]"
      ]
     },
     "execution_count": 80,
     "metadata": {},
     "output_type": "execute_result"
    },
    {
     "data": {
      "image/png": "[encoded data removed]",
      "text/plain": [
       "<Figure size 1080x720 with 2 Axes>"
      ]
     },
     "metadata": {
      "needs_background": "light"
     },
     "output_type": "display_data"
    }
   ],
   "source": [
    "cf_matrix = confusion_matrix(y_test, y_pred_m3)\n",
    "\n",
    "fig, ax = plt.subplots(figsize=(15, 10))\n",
    "plt.xlabel('Predictions', fontsize=18)\n",
    "plt.ylabel('Actuals', fontsize=18)\n",
    "plt.title('Confusion Matrix', fontsize=18)\n",
    "s= sns.heatmap(cf_matrix, annot=True)\n",
    "s.set(xlabel='Predicted Class', ylabel='True Class')"
   ]
  },
  {
   "cell_type": "code",
   "execution_count": 81,
   "id": "laden-thompson",
   "metadata": {},
   "outputs": [
    {
     "data": {
      "image/png": "[encoded data removed]",
      "text/plain": [
       "<Figure size 864x360 with 2 Axes>"
      ]
     },
     "metadata": {
      "needs_background": "light"
     },
     "output_type": "display_data"
    }
   ],
   "source": [
    "def plot_history(history_m1):\n",
    "    acc = history_m1.history[\"accuracy\"]\n",
    "    loss = history_m1.history[\"loss\"]\n",
    "    val_loss = history_m1.history[\"val_loss\"]\n",
    "    val_accuracy = history_m1.history[\"val_accuracy\"]\n",
    "    \n",
    "    x = range(1, len(acc) + 1)\n",
    "    \n",
    "    plt.figure(figsize=(12,5))\n",
    "    plt.subplot(1, 2, 1)\n",
    "    plt.plot(x, acc, \"b\", label=\"traning_acc\")\n",
    "    plt.plot(x, val_accuracy, \"r\", label=\"test_acc\")\n",
    "    plt.title(\"Accuracy\")\n",
    "    plt.legend(loc='best')\n",
    "    \n",
    "    plt.subplot(1, 2, 2)\n",
    "    plt.plot(x, loss, \"b\", label=\"traning_acc\")\n",
    "    plt.plot(x, val_loss, \"r\", label=\"test_acc\")\n",
    "    plt.title(\"Loss\")\n",
    "    plt.legend(loc='best')\n",
    "    \n",
    "    \n",
    "plot_history(history_m3)"
   ]
  },
  {
   "cell_type": "code",
   "execution_count": null,
   "id": "rolled-documentation",
   "metadata": {},
   "outputs": [],
   "source": []
  },
  {
   "cell_type": "code",
   "execution_count": null,
   "id": "fourth-florence",
   "metadata": {},
   "outputs": [],
   "source": []
  },
  {
   "cell_type": "code",
   "execution_count": null,
   "id": "persistent-community",
   "metadata": {},
   "outputs": [],
   "source": []
  },
  {
   "cell_type": "code",
   "execution_count": null,
   "id": "collective-armor",
   "metadata": {},
   "outputs": [],
   "source": []
  },
  {
   "cell_type": "code",
   "execution_count": null,
   "id": "rational-feature",
   "metadata": {},
   "outputs": [],
   "source": []
  },
  {
   "cell_type": "code",
   "execution_count": null,
   "id": "international-greek",
   "metadata": {},
   "outputs": [],
   "source": []
  },
  {
   "cell_type": "code",
   "execution_count": null,
   "id": "sized-actor",
   "metadata": {},
   "outputs": [],
   "source": []
  },
  {
   "cell_type": "code",
   "execution_count": null,
   "id": "answering-relaxation",
   "metadata": {},
   "outputs": [],
   "source": []
  },
  {
   "cell_type": "code",
   "execution_count": null,
   "id": "printable-vegetation",
   "metadata": {},
   "outputs": [],
   "source": []
  },
  {
   "cell_type": "code",
   "execution_count": null,
   "id": "exotic-gamma",
   "metadata": {},
   "outputs": [],
   "source": []
  },
  {
   "cell_type": "markdown",
   "id": "dynamic-stationery",
   "metadata": {},
   "source": [
    "# Learning rate optimization"
   ]
  },
  {
   "cell_type": "code",
   "execution_count": 84,
   "id": "hungry-pledge",
   "metadata": {},
   "outputs": [],
   "source": [
    "model_LRO = Sequential()\n",
    "\n",
    "# Step 1 - Convolution\n",
    "model_LRO.add(Convolution2D(32, 3, 3, input_shape = (150, 150, 1), padding='same', activation = 'relu'))\n",
    "model_LRO.add(MaxPooling2D(pool_size = (2, 2)))\n",
    "\n",
    "\n",
    "# Step 2 - Adding some other convolutional and Maxpool layers\n",
    "model_LRO.add(Convolution2D(32, 3, 3, padding='same', activation = 'relu'))\n",
    "model_LRO.add(MaxPooling2D(pool_size = (2, 2)))\n",
    "\n",
    "model_LRO.add(Convolution2D(32, 3, 3, padding='same', activation = 'relu'))\n",
    "model_LRO.add(MaxPooling2D(pool_size = (2, 2)))\n",
    "\n",
    "model_LRO.add(Convolution2D(32, 3, 3, padding='same', activation = 'relu'))\n",
    "\n",
    "# Step 3 - Flattening\n",
    "model_LRO.add(Flatten())\n",
    "\n",
    "\n",
    "# Step 4 - Full connection\n",
    "model_LRO.add(Dense(128, activation = 'relu'))\n",
    "model_LRO.add(Dense(27, activation = 'softmax'))"
   ]
  },
  {
   "cell_type": "code",
   "execution_count": 85,
   "id": "clean-singapore",
   "metadata": {},
   "outputs": [],
   "source": [
    "# Compiling the CNN\n",
    "model_LRO.compile(optimizer = 'adam', \n",
    "              loss = 'sparse_categorical_crossentropy', \n",
    "              metrics = ['accuracy'])"
   ]
  },
  {
   "cell_type": "code",
   "execution_count": 86,
   "id": "center-accessory",
   "metadata": {},
   "outputs": [
    {
     "name": "stdout",
     "output_type": "stream",
     "text": [
      "Epoch 1/100\n",
      "292/292 [==============================] - 5s 15ms/step - loss: 3.2778 - accuracy: 0.0401 - val_loss: 2.7625 - val_accuracy: 0.1574\n",
      "Epoch 2/100\n",
      "292/292 [==============================] - 4s 15ms/step - loss: 2.4971 - accuracy: 0.2349 - val_loss: 1.7632 - val_accuracy: 0.4228\n",
      "Epoch 3/100\n",
      "292/292 [==============================] - 7s 22ms/step - loss: 1.3880 - accuracy: 0.5529 - val_loss: 0.8473 - val_accuracy: 0.7253\n",
      "Epoch 4/100\n",
      "292/292 [==============================] - 5s 17ms/step - loss: 0.7602 - accuracy: 0.7492 - val_loss: 0.5591 - val_accuracy: 0.8009\n",
      "Epoch 5/100\n",
      "292/292 [==============================] - 5s 18ms/step - loss: 0.4849 - accuracy: 0.8412 - val_loss: 0.4248 - val_accuracy: 0.8596\n",
      "Epoch 6/100\n",
      "292/292 [==============================] - 5s 17ms/step - loss: 0.3439 - accuracy: 0.8840 - val_loss: 0.4480 - val_accuracy: 0.8519\n",
      "Epoch 7/100\n",
      "292/292 [==============================] - 5s 17ms/step - loss: 0.2498 - accuracy: 0.9149 - val_loss: 0.2782 - val_accuracy: 0.9074\n",
      "Epoch 8/100\n",
      "292/292 [==============================] - 5s 18ms/step - loss: 0.2287 - accuracy: 0.9258 - val_loss: 0.3172 - val_accuracy: 0.8951\n",
      "Epoch 9/100\n",
      "292/292 [==============================] - 5s 17ms/step - loss: 0.2239 - accuracy: 0.9269 - val_loss: 0.1433 - val_accuracy: 0.9475\n",
      "Epoch 10/100\n",
      "292/292 [==============================] - 5s 18ms/step - loss: 0.1583 - accuracy: 0.9498 - val_loss: 0.3223 - val_accuracy: 0.8935\n",
      "Epoch 11/100\n",
      "292/292 [==============================] - 5s 18ms/step - loss: 0.1846 - accuracy: 0.9381 - val_loss: 0.4318 - val_accuracy: 0.8596\n",
      "Epoch 12/100\n",
      "292/292 [==============================] - 5s 18ms/step - loss: 0.1786 - accuracy: 0.9399 - val_loss: 0.1170 - val_accuracy: 0.9676\n",
      "Epoch 13/100\n",
      "292/292 [==============================] - 5s 17ms/step - loss: 0.1484 - accuracy: 0.9547 - val_loss: 0.2304 - val_accuracy: 0.9228\n",
      "Epoch 14/100\n",
      "292/292 [==============================] - 5s 19ms/step - loss: 0.1953 - accuracy: 0.9378 - val_loss: 0.1051 - val_accuracy: 0.9691\n",
      "Epoch 15/100\n",
      "292/292 [==============================] - 5s 19ms/step - loss: 0.1722 - accuracy: 0.9448 - val_loss: 0.1739 - val_accuracy: 0.9475\n",
      "Epoch 16/100\n",
      "292/292 [==============================] - 6s 20ms/step - loss: 0.1566 - accuracy: 0.9511 - val_loss: 0.1331 - val_accuracy: 0.9522\n",
      "Epoch 17/100\n",
      "292/292 [==============================] - 7s 22ms/step - loss: 0.1692 - accuracy: 0.9449 - val_loss: 0.1899 - val_accuracy: 0.9398\n",
      "Epoch 18/100\n",
      "292/292 [==============================] - 6s 19ms/step - loss: 0.2099 - accuracy: 0.9317 - val_loss: 0.1370 - val_accuracy: 0.9630\n",
      "Epoch 19/100\n",
      "292/292 [==============================] - 6s 20ms/step - loss: 0.1813 - accuracy: 0.9434 - val_loss: 0.2585 - val_accuracy: 0.9275\n",
      "Epoch 20/100\n",
      "292/292 [==============================] - 6s 19ms/step - loss: 0.2473 - accuracy: 0.9251 - val_loss: 0.3039 - val_accuracy: 0.9028\n",
      "Epoch 21/100\n",
      "292/292 [==============================] - 6s 20ms/step - loss: 0.2846 - accuracy: 0.9083 - val_loss: 0.1116 - val_accuracy: 0.9645\n",
      "Epoch 22/100\n",
      "292/292 [==============================] - 7s 24ms/step - loss: 0.1120 - accuracy: 0.9680 - val_loss: 0.4902 - val_accuracy: 0.8549\n",
      "Epoch 23/100\n",
      "292/292 [==============================] - 7s 24ms/step - loss: 0.3005 - accuracy: 0.9001 - val_loss: 0.3948 - val_accuracy: 0.8920\n",
      "Epoch 24/100\n",
      "292/292 [==============================] - 8s 29ms/step - loss: 0.2464 - accuracy: 0.9240 - val_loss: 0.1479 - val_accuracy: 0.9491\n",
      "Epoch 25/100\n",
      "292/292 [==============================] - 8s 29ms/step - loss: 0.3884 - accuracy: 0.8923 - val_loss: 0.1615 - val_accuracy: 0.9444\n",
      "Epoch 26/100\n",
      "292/292 [==============================] - 9s 32ms/step - loss: 0.4427 - accuracy: 0.8770 - val_loss: 0.1754 - val_accuracy: 0.9444\n",
      "Epoch 27/100\n",
      "292/292 [==============================] - 6s 22ms/step - loss: 0.3449 - accuracy: 0.8981 - val_loss: 0.4234 - val_accuracy: 0.8981\n",
      "Epoch 28/100\n",
      "292/292 [==============================] - 6s 20ms/step - loss: 0.2782 - accuracy: 0.9201 - val_loss: 0.0877 - val_accuracy: 0.9753\n",
      "Epoch 29/100\n",
      "292/292 [==============================] - 6s 21ms/step - loss: 0.3763 - accuracy: 0.8856 - val_loss: 0.5506 - val_accuracy: 0.8302\n",
      "Epoch 30/100\n",
      "292/292 [==============================] - 6s 20ms/step - loss: 0.4500 - accuracy: 0.8579 - val_loss: 0.7003 - val_accuracy: 0.8009\n",
      "Epoch 31/100\n",
      "292/292 [==============================] - 7s 25ms/step - loss: 0.3889 - accuracy: 0.8835 - val_loss: 0.4534 - val_accuracy: 0.8843\n",
      "Epoch 32/100\n",
      "292/292 [==============================] - 7s 23ms/step - loss: 0.5214 - accuracy: 0.8588 - val_loss: 0.6313 - val_accuracy: 0.8102\n",
      "Epoch 33/100\n",
      "292/292 [==============================] - 8s 28ms/step - loss: 0.3779 - accuracy: 0.8855 - val_loss: 0.7780 - val_accuracy: 0.8318\n",
      "Epoch 34/100\n",
      "292/292 [==============================] - 9s 29ms/step - loss: 0.8251 - accuracy: 0.7839 - val_loss: 0.8041 - val_accuracy: 0.7762\n",
      "Epoch 35/100\n",
      "292/292 [==============================] - 8s 27ms/step - loss: 0.6587 - accuracy: 0.8101 - val_loss: 0.4455 - val_accuracy: 0.8657\n",
      "Epoch 36/100\n",
      "292/292 [==============================] - 8s 26ms/step - loss: 0.7209 - accuracy: 0.8005 - val_loss: 1.0174 - val_accuracy: 0.7037\n",
      "Epoch 37/100\n",
      "292/292 [==============================] - 8s 27ms/step - loss: 0.6886 - accuracy: 0.8035 - val_loss: 0.4753 - val_accuracy: 0.8611\n",
      "Epoch 38/100\n",
      "292/292 [==============================] - 8s 26ms/step - loss: 0.9330 - accuracy: 0.7502 - val_loss: 1.0112 - val_accuracy: 0.7407\n",
      "Epoch 39/100\n",
      "292/292 [==============================] - 8s 27ms/step - loss: 0.8142 - accuracy: 0.7748 - val_loss: 0.9787 - val_accuracy: 0.7330\n",
      "Epoch 40/100\n",
      "292/292 [==============================] - 5s 19ms/step - loss: 1.1222 - accuracy: 0.6880 - val_loss: 0.8033 - val_accuracy: 0.7670\n",
      "Epoch 41/100\n",
      "292/292 [==============================] - 6s 20ms/step - loss: 1.3421 - accuracy: 0.6405 - val_loss: 1.2699 - val_accuracy: 0.6682\n",
      "Epoch 42/100\n",
      "292/292 [==============================] - 5s 18ms/step - loss: 1.1969 - accuracy: 0.6637 - val_loss: 1.2082 - val_accuracy: 0.6049\n",
      "Epoch 43/100\n",
      "292/292 [==============================] - 6s 19ms/step - loss: 1.2107 - accuracy: 0.6500 - val_loss: 1.1352 - val_accuracy: 0.6744\n",
      "Epoch 44/100\n",
      "292/292 [==============================] - 6s 20ms/step - loss: 1.5324 - accuracy: 0.5469 - val_loss: 1.5382 - val_accuracy: 0.5108\n",
      "Epoch 45/100\n",
      "292/292 [==============================] - 7s 24ms/step - loss: 2.0472 - accuracy: 0.4217 - val_loss: 1.4995 - val_accuracy: 0.5231\n",
      "Epoch 46/100\n",
      "292/292 [==============================] - 6s 21ms/step - loss: 1.7605 - accuracy: 0.4854 - val_loss: 2.9582 - val_accuracy: 0.2222\n",
      "Epoch 47/100\n",
      "292/292 [==============================] - 6s 19ms/step - loss: 2.4981 - accuracy: 0.2794 - val_loss: 2.0238 - val_accuracy: 0.4182\n",
      "Epoch 48/100\n",
      "292/292 [==============================] - 6s 19ms/step - loss: 2.9239 - accuracy: 0.1634 - val_loss: 3.0178 - val_accuracy: 0.0895\n",
      "Epoch 49/100\n",
      "292/292 [==============================] - 5s 18ms/step - loss: 3.0446 - accuracy: 0.0853 - val_loss: 2.9009 - val_accuracy: 0.1358\n",
      "Epoch 50/100\n",
      "292/292 [==============================] - 6s 19ms/step - loss: 3.0668 - accuracy: 0.0978 - val_loss: 3.2091 - val_accuracy: 0.0478\n",
      "Epoch 51/100\n",
      "292/292 [==============================] - 5s 18ms/step - loss: 3.2010 - accuracy: 0.0533 - val_loss: 3.2037 - val_accuracy: 0.0633\n",
      "Epoch 52/100\n",
      "292/292 [==============================] - 5s 18ms/step - loss: 3.2411 - accuracy: 0.0552 - val_loss: 3.3177 - val_accuracy: 0.0386\n",
      "Epoch 53/100\n",
      "292/292 [==============================] - 6s 19ms/step - loss: 3.3125 - accuracy: 0.0322 - val_loss: 3.3053 - val_accuracy: 0.0262\n",
      "Epoch 54/100\n",
      "292/292 [==============================] - 6s 19ms/step - loss: 3.3094 - accuracy: 0.0335 - val_loss: 3.3013 - val_accuracy: 0.0355\n",
      "Epoch 55/100\n",
      "292/292 [==============================] - 5s 19ms/step - loss: 3.3119 - accuracy: 0.0383 - val_loss: 3.3181 - val_accuracy: 0.0309\n",
      "Epoch 56/100\n",
      "292/292 [==============================] - 5s 19ms/step - loss: 3.3104 - accuracy: 0.0410 - val_loss: 3.3223 - val_accuracy: 0.0463\n",
      "Epoch 57/100\n"
     ]
    },
    {
     "name": "stdout",
     "output_type": "stream",
     "text": [
      "292/292 [==============================] - 5s 18ms/step - loss: 3.3158 - accuracy: 0.0358 - val_loss: 3.3156 - val_accuracy: 0.0278\n",
      "Epoch 58/100\n",
      "292/292 [==============================] - 5s 18ms/step - loss: 3.3169 - accuracy: 0.0389 - val_loss: 3.3114 - val_accuracy: 0.0355\n",
      "Epoch 59/100\n",
      "292/292 [==============================] - 6s 19ms/step - loss: 3.3198 - accuracy: 0.0351 - val_loss: 3.3320 - val_accuracy: 0.0355\n",
      "Epoch 60/100\n",
      "292/292 [==============================] - 6s 19ms/step - loss: 3.3212 - accuracy: 0.0391 - val_loss: 3.3152 - val_accuracy: 0.0355\n",
      "Epoch 61/100\n",
      "292/292 [==============================] - 5s 18ms/step - loss: 3.3249 - accuracy: 0.0334 - val_loss: 3.3323 - val_accuracy: 0.0401\n",
      "Epoch 62/100\n",
      "292/292 [==============================] - 5s 19ms/step - loss: 3.3285 - accuracy: 0.0332 - val_loss: 3.3322 - val_accuracy: 0.0340\n",
      "Epoch 63/100\n",
      "292/292 [==============================] - 5s 19ms/step - loss: 3.3264 - accuracy: 0.0399 - val_loss: 3.3533 - val_accuracy: 0.0355\n",
      "Epoch 64/100\n",
      "292/292 [==============================] - 5s 18ms/step - loss: 3.3367 - accuracy: 0.0401 - val_loss: 3.3360 - val_accuracy: 0.0401\n",
      "Epoch 65/100\n",
      "292/292 [==============================] - 6s 19ms/step - loss: 3.3373 - accuracy: 0.0338 - val_loss: 3.3213 - val_accuracy: 0.0355\n",
      "Epoch 66/100\n",
      "292/292 [==============================] - 6s 20ms/step - loss: 3.3420 - accuracy: 0.0277 - val_loss: 3.3207 - val_accuracy: 0.0386\n",
      "Epoch 67/100\n",
      "292/292 [==============================] - 6s 21ms/step - loss: 3.3437 - accuracy: 0.0336 - val_loss: 3.3398 - val_accuracy: 0.0262\n",
      "Epoch 68/100\n",
      "292/292 [==============================] - 6s 21ms/step - loss: 3.3436 - accuracy: 0.0382 - val_loss: 3.3456 - val_accuracy: 0.0355\n",
      "Epoch 69/100\n",
      "292/292 [==============================] - 5s 18ms/step - loss: 3.3525 - accuracy: 0.0327 - val_loss: 3.3886 - val_accuracy: 0.0340\n",
      "Epoch 70/100\n",
      "292/292 [==============================] - 6s 19ms/step - loss: 3.3469 - accuracy: 0.0415 - val_loss: 3.3443 - val_accuracy: 0.0386\n",
      "Epoch 71/100\n",
      "292/292 [==============================] - 6s 19ms/step - loss: 3.3515 - accuracy: 0.0376 - val_loss: 3.3708 - val_accuracy: 0.0401\n",
      "Epoch 72/100\n",
      "292/292 [==============================] - 5s 18ms/step - loss: 3.3686 - accuracy: 0.0384 - val_loss: 3.3556 - val_accuracy: 0.0278\n",
      "Epoch 73/100\n",
      "292/292 [==============================] - 5s 18ms/step - loss: 3.3620 - accuracy: 0.0445 - val_loss: 3.3770 - val_accuracy: 0.0386\n",
      "Epoch 74/100\n",
      "292/292 [==============================] - 6s 19ms/step - loss: 3.3772 - accuracy: 0.0315 - val_loss: 3.3500 - val_accuracy: 0.0278\n",
      "Epoch 75/100\n",
      "292/292 [==============================] - 5s 18ms/step - loss: 3.3687 - accuracy: 0.0387 - val_loss: 3.4230 - val_accuracy: 0.0370\n",
      "Epoch 76/100\n",
      "292/292 [==============================] - 5s 18ms/step - loss: 3.3884 - accuracy: 0.0366 - val_loss: 3.4180 - val_accuracy: 0.0278\n",
      "Epoch 77/100\n",
      "292/292 [==============================] - 5s 19ms/step - loss: 3.3874 - accuracy: 0.0415 - val_loss: 3.4004 - val_accuracy: 0.0401\n",
      "Epoch 78/100\n",
      "292/292 [==============================] - 5s 18ms/step - loss: 3.4009 - accuracy: 0.0332 - val_loss: 3.4372 - val_accuracy: 0.0355\n",
      "Epoch 79/100\n",
      "292/292 [==============================] - 5s 19ms/step - loss: 3.4038 - accuracy: 0.0382 - val_loss: 3.4088 - val_accuracy: 0.0401\n",
      "Epoch 80/100\n",
      "292/292 [==============================] - 5s 18ms/step - loss: 3.4138 - accuracy: 0.0384 - val_loss: 3.4790 - val_accuracy: 0.0386\n",
      "Epoch 81/100\n",
      "292/292 [==============================] - 5s 18ms/step - loss: 3.4277 - accuracy: 0.0396 - val_loss: 3.4342 - val_accuracy: 0.0278\n",
      "Epoch 82/100\n",
      "292/292 [==============================] - 5s 18ms/step - loss: 3.4255 - accuracy: 0.0392 - val_loss: 3.4827 - val_accuracy: 0.0262\n",
      "Epoch 83/100\n",
      "292/292 [==============================] - 5s 19ms/step - loss: 3.4650 - accuracy: 0.0391 - val_loss: 3.4158 - val_accuracy: 0.0355\n",
      "Epoch 84/100\n",
      "292/292 [==============================] - 5s 18ms/step - loss: 3.4457 - accuracy: 0.0422 - val_loss: 3.4000 - val_accuracy: 0.0355\n",
      "Epoch 85/100\n",
      "292/292 [==============================] - 5s 19ms/step - loss: 3.4636 - accuracy: 0.0387 - val_loss: 3.4118 - val_accuracy: 0.0278\n",
      "Epoch 86/100\n",
      "292/292 [==============================] - 5s 19ms/step - loss: 3.4709 - accuracy: 0.0340 - val_loss: 3.6175 - val_accuracy: 0.0340\n",
      "Epoch 87/100\n",
      "292/292 [==============================] - 5s 18ms/step - loss: 3.5051 - accuracy: 0.0335 - val_loss: 3.5272 - val_accuracy: 0.0309\n",
      "Epoch 88/100\n",
      "292/292 [==============================] - 5s 18ms/step - loss: 3.5052 - accuracy: 0.0336 - val_loss: 3.4681 - val_accuracy: 0.0309\n",
      "Epoch 89/100\n",
      "292/292 [==============================] - 5s 18ms/step - loss: 3.5071 - accuracy: 0.0338 - val_loss: 3.5408 - val_accuracy: 0.0355\n",
      "Epoch 90/100\n",
      "292/292 [==============================] - 5s 18ms/step - loss: 3.5642 - accuracy: 0.0359 - val_loss: 3.6337 - val_accuracy: 0.0370\n",
      "Epoch 91/100\n",
      "292/292 [==============================] - 5s 18ms/step - loss: 3.5743 - accuracy: 0.0407 - val_loss: 3.6898 - val_accuracy: 0.0309\n",
      "Epoch 92/100\n",
      "292/292 [==============================] - 5s 19ms/step - loss: 3.6000 - accuracy: 0.0411 - val_loss: 3.7267 - val_accuracy: 0.0355\n",
      "Epoch 93/100\n",
      "292/292 [==============================] - 5s 18ms/step - loss: 3.5759 - accuracy: 0.0337 - val_loss: 3.6414 - val_accuracy: 0.0401\n",
      "Epoch 94/100\n",
      "292/292 [==============================] - 6s 21ms/step - loss: 3.6583 - accuracy: 0.0392 - val_loss: 3.6382 - val_accuracy: 0.0448\n",
      "Epoch 95/100\n",
      "292/292 [==============================] - 6s 19ms/step - loss: 3.6412 - accuracy: 0.0342 - val_loss: 3.7354 - val_accuracy: 0.0463\n",
      "Epoch 96/100\n",
      "292/292 [==============================] - 6s 20ms/step - loss: 3.6879 - accuracy: 0.0424 - val_loss: 3.7329 - val_accuracy: 0.0386\n",
      "Epoch 97/100\n",
      "292/292 [==============================] - 6s 20ms/step - loss: 3.7757 - accuracy: 0.0341 - val_loss: 3.6845 - val_accuracy: 0.0340\n",
      "Epoch 98/100\n",
      "292/292 [==============================] - 5s 19ms/step - loss: 3.7427 - accuracy: 0.0371 - val_loss: 3.5519 - val_accuracy: 0.0355\n",
      "Epoch 99/100\n",
      "292/292 [==============================] - 5s 19ms/step - loss: 3.7553 - accuracy: 0.0351 - val_loss: 3.7775 - val_accuracy: 0.0355\n",
      "Epoch 100/100\n",
      "292/292 [==============================] - 6s 19ms/step - loss: 3.7892 - accuracy: 0.0368 - val_loss: 3.5994 - val_accuracy: 0.0370\n"
     ]
    }
   ],
   "source": [
    "# train model\n",
    "history_LRO = model_LRO.fit(X_train,y_train,\n",
    " batch_size=20,\n",
    " epochs=100,\n",
    "    callbacks=[\n",
    "    tf.keras.callbacks.LearningRateScheduler(\n",
    "    lambda epoch: 1e-3 * 10 ** (epoch / 30))\n",
    "    ],\n",
    " validation_split=0.10)"
   ]
  },
  {
   "cell_type": "code",
   "execution_count": 87,
   "id": "later-cambodia",
   "metadata": {},
   "outputs": [
    {
     "data": {
      "image/png": "[encoded data removed]",
      "text/plain": [
       "<Figure size 1008x432 with 1 Axes>"
      ]
     },
     "metadata": {
      "needs_background": "light"
     },
     "output_type": "display_data"
    }
   ],
   "source": [
    "import matplotlib.pyplot as plt\n",
    "from matplotlib import rcParams\n",
    "\n",
    "rcParams['figure.figsize'] = (14, 6)\n",
    "rcParams['axes.spines.top'] = False\n",
    "rcParams['axes.spines.right'] = False \n",
    "\n",
    "plt.plot(\n",
    "    np.arange(1, 101), \n",
    "    history_LRO.history['loss'], \n",
    "    label='Loss', lw=3\n",
    ")\n",
    "plt.plot(\n",
    "    np.arange(1, 101), \n",
    "    history_LRO.history['accuracy'], \n",
    "    label='Accuracy', lw=3\n",
    ")\n",
    "plt.plot(\n",
    "    np.arange(1, 101), \n",
    "    history_LRO.history['lr'], \n",
    "    label='Learning rate', color='#000', lw=3, linestyle='--'\n",
    ")\n",
    "plt.title('Evaluation metrics', size=20)\n",
    "plt.xlabel('Epoch', size=14)\n",
    "plt.legend();"
   ]
  },
  {
   "cell_type": "code",
   "execution_count": null,
   "id": "neither-policy",
   "metadata": {},
   "outputs": [],
   "source": []
  },
  {
   "cell_type": "markdown",
   "id": "buried-fetish",
   "metadata": {},
   "source": [
    "## Saving the Models"
   ]
  },
  {
   "cell_type": "code",
   "execution_count": 42,
   "id": "excessive-slovakia",
   "metadata": {},
   "outputs": [],
   "source": [
    "model.save('baseModel.h5')"
   ]
  },
  {
   "cell_type": "code",
   "execution_count": 44,
   "id": "amazing-facility",
   "metadata": {},
   "outputs": [
    {
     "name": "stdout",
     "output_type": "stream",
     "text": [
      "203/203 [==============================] - 1s 6ms/step - loss: 0.0563 - accuracy: 0.9812\n",
      "51/51 [==============================] - 0s 6ms/step - loss: 0.0947 - accuracy: 0.9642\n"
     ]
    }
   ],
   "source": [
    "base_train_loss, base_train_accuracy = model.evaluate(X_train, y_train)\n",
    "base_test_loss, base_test_acc = model.evaluate(X_test, y_test)"
   ]
  },
  {
   "cell_type": "code",
   "execution_count": null,
   "id": "excess-worry",
   "metadata": {},
   "outputs": [],
   "source": []
  },
  {
   "cell_type": "code",
   "execution_count": 57,
   "id": "conventional-merchant",
   "metadata": {},
   "outputs": [],
   "source": [
    "model_1.save('model_1_5Conv.h5')"
   ]
  },
  {
   "cell_type": "code",
   "execution_count": 58,
   "id": "urban-score",
   "metadata": {},
   "outputs": [
    {
     "name": "stdout",
     "output_type": "stream",
     "text": [
      "203/203 [==============================] - 1s 6ms/step - loss: 0.0568 - accuracy: 0.9812\n",
      "51/51 [==============================] - 0s 6ms/step - loss: 0.0826 - accuracy: 0.9710\n"
     ]
    }
   ],
   "source": [
    "Conv5_train_loss, Conv5_base_train_accuracy = model_1.evaluate(X_train, y_train)\n",
    "Conv5_base_test_loss, Conv5_base_test_acc = model_1.evaluate(X_test, y_test)"
   ]
  },
  {
   "cell_type": "code",
   "execution_count": null,
   "id": "intimate-water",
   "metadata": {},
   "outputs": [],
   "source": []
  },
  {
   "cell_type": "code",
   "execution_count": 59,
   "id": "tender-roommate",
   "metadata": {},
   "outputs": [],
   "source": [
    "model_2.save('model_2_6Conv.h5')"
   ]
  },
  {
   "cell_type": "code",
   "execution_count": 60,
   "id": "automatic-gender",
   "metadata": {},
   "outputs": [
    {
     "name": "stdout",
     "output_type": "stream",
     "text": [
      "203/203 [==============================] - 1s 7ms/step - loss: 0.0064 - accuracy: 0.9986\n",
      "51/51 [==============================] - 0s 6ms/step - loss: 0.0192 - accuracy: 0.9969\n"
     ]
    }
   ],
   "source": [
    "Conv6_train_loss, Conv6_base_train_accuracy = model_2.evaluate(X_train, y_train)\n",
    "Conv6_base_test_loss, Conv6_base_test_acc = model_2.evaluate(X_test, y_test)"
   ]
  },
  {
   "cell_type": "code",
   "execution_count": null,
   "id": "included-strand",
   "metadata": {},
   "outputs": [],
   "source": []
  },
  {
   "cell_type": "code",
   "execution_count": 82,
   "id": "ready-riding",
   "metadata": {},
   "outputs": [],
   "source": [
    "model_3.save('model_3_7Conv.h5')"
   ]
  },
  {
   "cell_type": "code",
   "execution_count": 83,
   "id": "angry-church",
   "metadata": {},
   "outputs": [
    {
     "name": "stdout",
     "output_type": "stream",
     "text": [
      "203/203 [==============================] - 1s 7ms/step - loss: 0.0165 - accuracy: 0.9954\n",
      "51/51 [==============================] - 0s 6ms/step - loss: 0.0725 - accuracy: 0.9852\n"
     ]
    }
   ],
   "source": [
    "Conv7_train_loss, Conv7_base_train_accuracy = model_3.evaluate(X_train, y_train)\n",
    "Conv7_base_test_loss, Conv7_base_test_acc = model_3.evaluate(X_test, y_test)"
   ]
  },
  {
   "cell_type": "code",
   "execution_count": null,
   "id": "placed-reunion",
   "metadata": {},
   "outputs": [],
   "source": []
  },
  {
   "cell_type": "code",
   "execution_count": null,
   "id": "welcome-backing",
   "metadata": {},
   "outputs": [],
   "source": []
  },
  {
   "cell_type": "code",
   "execution_count": 66,
   "id": "talented-panic",
   "metadata": {},
   "outputs": [],
   "source": [
    "from tensorflow.keras.models import load_model"
   ]
  },
  {
   "cell_type": "code",
   "execution_count": 69,
   "id": "operating-carry",
   "metadata": {},
   "outputs": [],
   "source": [
    "model_new = load_model('model_2_6Conv.h5')"
   ]
  },
  {
   "cell_type": "code",
   "execution_count": 74,
   "id": "nervous-listening",
   "metadata": {},
   "outputs": [],
   "source": []
  },
  {
   "cell_type": "code",
   "execution_count": 77,
   "id": "british-lithuania",
   "metadata": {},
   "outputs": [],
   "source": []
  },
  {
   "cell_type": "code",
   "execution_count": null,
   "id": "pointed-lawyer",
   "metadata": {},
   "outputs": [],
   "source": []
  },
  {
   "cell_type": "code",
   "execution_count": null,
   "id": "animal-auckland",
   "metadata": {},
   "outputs": [],
   "source": []
  },
  {
   "cell_type": "markdown",
   "id": "spectacular-brisbane",
   "metadata": {},
   "source": [
    "# Base Model Data Variation"
   ]
  },
  {
   "cell_type": "code",
   "execution_count": null,
   "id": "proprietary-commissioner",
   "metadata": {},
   "outputs": [],
   "source": []
  },
  {
   "cell_type": "code",
   "execution_count": null,
   "id": "governing-least",
   "metadata": {},
   "outputs": [],
   "source": []
  },
  {
   "cell_type": "code",
   "execution_count": null,
   "id": "useful-malawi",
   "metadata": {},
   "outputs": [],
   "source": []
  },
  {
   "cell_type": "code",
   "execution_count": null,
   "id": "extensive-forth",
   "metadata": {},
   "outputs": [],
   "source": []
  },
  {
   "cell_type": "code",
   "execution_count": null,
   "id": "renewable-jacob",
   "metadata": {},
   "outputs": [],
   "source": []
  },
  {
   "cell_type": "code",
   "execution_count": null,
   "id": "minus-convert",
   "metadata": {},
   "outputs": [],
   "source": []
  },
  {
   "cell_type": "code",
   "execution_count": null,
   "id": "greatest-disorder",
   "metadata": {},
   "outputs": [],
   "source": []
  },
  {
   "cell_type": "code",
   "execution_count": null,
   "id": "detected-aspect",
   "metadata": {},
   "outputs": [],
   "source": []
  },
  {
   "cell_type": "code",
   "execution_count": null,
   "id": "familiar-receptor",
   "metadata": {},
   "outputs": [],
   "source": []
  },
  {
   "cell_type": "code",
   "execution_count": null,
   "id": "prepared-harrison",
   "metadata": {},
   "outputs": [],
   "source": []
  },
  {
   "cell_type": "code",
   "execution_count": null,
   "id": "moral-liquid",
   "metadata": {},
   "outputs": [],
   "source": []
  },
  {
   "cell_type": "code",
   "execution_count": null,
   "id": "amino-junior",
   "metadata": {},
   "outputs": [],
   "source": []
  },
  {
   "cell_type": "code",
   "execution_count": null,
   "id": "collected-orange",
   "metadata": {},
   "outputs": [],
   "source": []
  },
  {
   "cell_type": "code",
   "execution_count": null,
   "id": "occupied-announcement",
   "metadata": {},
   "outputs": [],
   "source": []
  },
  {
   "cell_type": "code",
   "execution_count": null,
   "id": "tight-substance",
   "metadata": {},
   "outputs": [],
   "source": []
  },
  {
   "cell_type": "code",
   "execution_count": null,
   "id": "celtic-merit",
   "metadata": {},
   "outputs": [],
   "source": []
  },
  {
   "cell_type": "code",
   "execution_count": null,
   "id": "gross-tonight",
   "metadata": {},
   "outputs": [],
   "source": []
  },
  {
   "cell_type": "code",
   "execution_count": null,
   "id": "adolescent-employment",
   "metadata": {},
   "outputs": [],
   "source": []
  },
  {
   "cell_type": "code",
   "execution_count": null,
   "id": "sunrise-roman",
   "metadata": {},
   "outputs": [],
   "source": []
  },
  {
   "cell_type": "code",
   "execution_count": null,
   "id": "optimum-action",
   "metadata": {},
   "outputs": [],
   "source": []
  },
  {
   "cell_type": "code",
   "execution_count": null,
   "id": "unlike-hampton",
   "metadata": {},
   "outputs": [],
   "source": []
  },
  {
   "cell_type": "code",
   "execution_count": null,
   "id": "wound-african",
   "metadata": {},
   "outputs": [],
   "source": []
  },
  {
   "cell_type": "code",
   "execution_count": null,
   "id": "interesting-glossary",
   "metadata": {},
   "outputs": [],
   "source": []
  },
  {
   "cell_type": "code",
   "execution_count": null,
   "id": "trained-usage",
   "metadata": {},
   "outputs": [],
   "source": []
  },
  {
   "cell_type": "code",
   "execution_count": null,
   "id": "green-speaker",
   "metadata": {},
   "outputs": [],
   "source": []
  },
  {
   "cell_type": "code",
   "execution_count": null,
   "id": "sporting-midwest",
   "metadata": {},
   "outputs": [],
   "source": []
  },
  {
   "cell_type": "code",
   "execution_count": null,
   "id": "demographic-antique",
   "metadata": {},
   "outputs": [],
   "source": []
  },
  {
   "cell_type": "code",
   "execution_count": null,
   "id": "protecting-negative",
   "metadata": {},
   "outputs": [],
   "source": []
  },
  {
   "cell_type": "code",
   "execution_count": null,
   "id": "unlikely-complex",
   "metadata": {},
   "outputs": [],
   "source": []
  },
  {
   "cell_type": "code",
   "execution_count": null,
   "id": "regular-adjustment",
   "metadata": {},
   "outputs": [],
   "source": []
  },
  {
   "cell_type": "code",
   "execution_count": null,
   "id": "saved-champagne",
   "metadata": {},
   "outputs": [],
   "source": []
  },
  {
   "cell_type": "code",
   "execution_count": null,
   "id": "competent-validity",
   "metadata": {},
   "outputs": [],
   "source": []
  },
  {
   "cell_type": "code",
   "execution_count": null,
   "id": "comic-monster",
   "metadata": {},
   "outputs": [],
   "source": []
  },
  {
   "cell_type": "markdown",
   "id": "matched-evolution",
   "metadata": {},
   "source": [
    "# Resnet 50"
   ]
  },
  {
   "cell_type": "markdown",
   "id": "quick-newfoundland",
   "metadata": {},
   "source": [
    "### Preparing data for 3 chanel pretrained model"
   ]
  },
  {
   "cell_type": "code",
   "execution_count": null,
   "id": "roman-session",
   "metadata": {},
   "outputs": [],
   "source": [
    "def grayToRgb(X):\n",
    "    X = np.array(X)\n",
    "#     X = np.expand_dims(X, -1)\n",
    "    X = X.repeat(3, axis=-1)\n",
    "    return X"
   ]
  },
  {
   "cell_type": "code",
   "execution_count": null,
   "id": "indian-producer",
   "metadata": {},
   "outputs": [],
   "source": [
    "X_train = grayToRgb(X_train)\n",
    "X_test = grayToRgb(X_test)"
   ]
  },
  {
   "cell_type": "code",
   "execution_count": null,
   "id": "expected-positive",
   "metadata": {},
   "outputs": [],
   "source": [
    "print(X_train.shape)\n",
    "print(X_test.shape)"
   ]
  },
  {
   "cell_type": "code",
   "execution_count": null,
   "id": "public-official",
   "metadata": {},
   "outputs": [],
   "source": [
    "from tensorflow.keras.applications.resnet50 import ResNet50\n",
    "from tensorflow.keras.layers import Input \n",
    "\n",
    "resnet50 = Sequential()\n",
    "\n",
    "#add the pretrained model\n",
    "resnet50.add(ResNet50(include_top=False, pooling='avg', weights='imagenet'))\n",
    "resnet50.add(Input(shape=(IMG_SIZE,IMG_SIZE,1)))\n",
    "#add the fully connected last layers as per need\n",
    "resnet50.add(Dense(512, activation='relu'))\n",
    "resnet50.add(Dense(27, activation='softmax'))\n",
    "\n",
    "#set resnet layers not trainable\n",
    "resnet50.layers[0].trainable = False\n",
    "\n",
    "resnet50.summary()"
   ]
  },
  {
   "cell_type": "code",
   "execution_count": null,
   "id": "attached-extraction",
   "metadata": {},
   "outputs": [],
   "source": [
    "# Compiling the CNN\n",
    "vgg16.compile(optimizer = 'adam', \n",
    "              loss = 'sparse_categorical_crossentropy', \n",
    "              metrics = ['accuracy'])"
   ]
  },
  {
   "cell_type": "code",
   "execution_count": null,
   "id": "municipal-alberta",
   "metadata": {
    "scrolled": true
   },
   "outputs": [],
   "source": [
    "# train model\n",
    "history_VGG16 = vgg16.fit(X_train,y_train,\n",
    " batch_size=32,\n",
    " epochs=50,\n",
    " validation_split=0.15)"
   ]
  },
  {
   "cell_type": "code",
   "execution_count": null,
   "id": "vocational-edgar",
   "metadata": {},
   "outputs": [],
   "source": []
  },
  {
   "cell_type": "code",
   "execution_count": null,
   "id": "defensive-general",
   "metadata": {},
   "outputs": [],
   "source": []
  },
  {
   "cell_type": "code",
   "execution_count": null,
   "id": "acquired-livestock",
   "metadata": {},
   "outputs": [],
   "source": []
  },
  {
   "cell_type": "code",
   "execution_count": null,
   "id": "initial-cholesterol",
   "metadata": {},
   "outputs": [],
   "source": []
  },
  {
   "cell_type": "code",
   "execution_count": null,
   "id": "posted-union",
   "metadata": {},
   "outputs": [],
   "source": []
  },
  {
   "cell_type": "code",
   "execution_count": null,
   "id": "quality-description",
   "metadata": {},
   "outputs": [],
   "source": []
  },
  {
   "cell_type": "code",
   "execution_count": null,
   "id": "pregnant-pressure",
   "metadata": {},
   "outputs": [],
   "source": []
  },
  {
   "cell_type": "code",
   "execution_count": null,
   "id": "mechanical-halifax",
   "metadata": {},
   "outputs": [],
   "source": []
  },
  {
   "cell_type": "code",
   "execution_count": null,
   "id": "forward-rolling",
   "metadata": {},
   "outputs": [],
   "source": []
  },
  {
   "cell_type": "code",
   "execution_count": null,
   "id": "automatic-albania",
   "metadata": {},
   "outputs": [],
   "source": []
  },
  {
   "cell_type": "markdown",
   "id": "charged-defendant",
   "metadata": {},
   "source": [
    "# mm-Wave Paper Code"
   ]
  },
  {
   "cell_type": "code",
   "execution_count": null,
   "id": "legitimate-profile",
   "metadata": {},
   "outputs": [],
   "source": []
  },
  {
   "cell_type": "code",
   "execution_count": null,
   "id": "international-legislation",
   "metadata": {},
   "outputs": [],
   "source": []
  },
  {
   "cell_type": "code",
   "execution_count": null,
   "id": "announced-patio",
   "metadata": {},
   "outputs": [],
   "source": []
  },
  {
   "cell_type": "code",
   "execution_count": null,
   "id": "accomplished-alliance",
   "metadata": {},
   "outputs": [],
   "source": []
  },
  {
   "cell_type": "code",
   "execution_count": null,
   "id": "above-concentrate",
   "metadata": {},
   "outputs": [],
   "source": []
  },
  {
   "cell_type": "code",
   "execution_count": null,
   "id": "naval-finish",
   "metadata": {},
   "outputs": [],
   "source": []
  },
  {
   "cell_type": "code",
   "execution_count": null,
   "id": "fewer-holmes",
   "metadata": {},
   "outputs": [],
   "source": []
  },
  {
   "cell_type": "code",
   "execution_count": null,
   "id": "closing-valve",
   "metadata": {},
   "outputs": [],
   "source": [
    "model = Sequential()\n",
    "# Step 1 - Convolution\n",
    "model.add(Convolution2D(32, 3, 1, input_shape = (150, 150, 3),padding='same',activation = 'relu'))\n",
    "model.add(MaxPooling2D(pool_size = (2, 2)))\n",
    "\n",
    "# Step 2 - Adding some other convolutional and Maxpool layers\n",
    "model.add(Convolution2D(32, 3, 3, padding='same',activation = 'relu'))\n",
    "model.add(MaxPooling2D(pool_size = (2, 2)))\n",
    "model.add(Convolution2D(32, 3, 3, padding='same',activation = 'relu'))\n",
    "model.add(MaxPooling2D(pool_size = (2, 2)))\n",
    "model.add(Convolution2D(32, 3, 3, padding='same',activation = 'relu'))\n",
    "\n",
    "# Step 3 - Flattening\n",
    "model.add(Flatten())\n",
    "\n",
    "# Step 4 - Full connection\n",
    "model.add(Dense(128, activation = 'relu'))\n",
    "model.add(Dense(27, activation = 'sigmoid'))\n",
    "\n",
    "# Compiling the CNN\n",
    "model.compile(optimizer = 'adam', loss = 'binary_crossentropy', metrics = ['accuracy'])"
   ]
  },
  {
   "cell_type": "code",
   "execution_count": null,
   "id": "opening-interpretation",
   "metadata": {},
   "outputs": [],
   "source": [
    "from tensorflow.keras.preprocessing.image import ImageDataGenerator\n",
    "\n",
    "# define data augmentation configuration\n",
    "train_datagen = ImageDataGenerator(featurewise_center=True, \n",
    "                    featurewise_std_normalization=True,                                  \n",
    "                    zca_whitening=True)\n",
    "# train generator\n",
    "train_generator = train_datagen.flow_from_directory('./data/ChiplessRFID/train/',\n",
    "                                                    target_size=(150, 150),\n",
    "                                                    batch_size=32,\n",
    "                                                    class_mode='categorical')\n",
    "\n",
    "# test generator\n",
    "test_generator = train_datagen.flow_from_directory('./data/ChiplessRFID/validate',\n",
    "                                                   target_size=(150, 150),\n",
    "                                                   batch_size=32,\n",
    "                                                   class_mode='categorical')"
   ]
  },
  {
   "cell_type": "code",
   "execution_count": null,
   "id": "related-sucking",
   "metadata": {},
   "outputs": [],
   "source": [
    "# train model\n",
    "history = model.fit_generator(train_generator,\n",
    "                              steps_per_epoch=32,   \n",
    "                              epochs=50,   \n",
    "                              validation_data=test_generator, # optional - if used needs to be defined   \n",
    "                              validation_steps=10)"
   ]
  },
  {
   "cell_type": "code",
   "execution_count": null,
   "id": "classical-workstation",
   "metadata": {},
   "outputs": [],
   "source": []
  }
 ],
 "metadata": {
  "kernelspec": {
   "display_name": "Python 3",
   "language": "python",
   "name": "python3"
  },
  "language_info": {
   "codemirror_mode": {
    "name": "ipython",
    "version": 3
   },
   "file_extension": ".py",
   "mimetype": "text/x-python",
   "name": "python",
   "nbconvert_exporter": "python",
   "pygments_lexer": "ipython3",
   "version": "3.7.0"
  }
 },
 "nbformat": 4,
 "nbformat_minor": 5
}
