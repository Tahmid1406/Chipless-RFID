{
 "cells": [
  {
   "cell_type": "code",
   "execution_count": 1,
   "id": "motivated-telescope",
   "metadata": {},
   "outputs": [
    {
     "name": "stderr",
     "output_type": "stream",
     "text": [
      "C:\\Users\\ASUS\\anaconda3\\envs\\ten\\lib\\site-packages\\numpy\\_distributor_init.py:32: UserWarning: loaded more than 1 DLL from .libs:\n",
      "C:\\Users\\ASUS\\anaconda3\\envs\\ten\\lib\\site-packages\\numpy\\.libs\\libopenblas.JPIJNSWNNAN3CE6LLI5FWSPHUT2VXMTH.gfortran-win_amd64.dll\n",
      "C:\\Users\\ASUS\\anaconda3\\envs\\ten\\lib\\site-packages\\numpy\\.libs\\libopenblas.WCDJNK7YVMPZQ2ME2ZZHJJRJ3JIKNDB7.gfortran-win_amd64.dll\n",
      "  stacklevel=1)\n"
     ]
    }
   ],
   "source": [
    "from tensorflow.keras import Sequential\n",
    "from tensorflow.keras.layers import Convolution2D\n",
    "from tensorflow.keras.layers import MaxPooling2D\n",
    "from tensorflow.keras.layers import Flatten\n",
    "from tensorflow.keras.layers import Dense, BatchNormalization\n",
    "import numpy as np\n",
    "import matplotlib.pyplot as plt\n",
    "import os\n",
    "import cv2\n",
    "from sklearn.model_selection import train_test_split\n",
    "from sklearn.metrics import classification_report, confusion_matrix\n",
    "import seaborn as sns\n",
    "import tensorflow as tf\n",
    "from tensorflow.python.keras.optimizer_v2.adam import Adam\n",
    "from tensorflow.keras.optimizers import SGD\n",
    "from tensorflow.keras.callbacks import ModelCheckpoint, EarlyStopping, CSVLogger\n",
    "tf.random.set_seed(42)"
   ]
  },
  {
   "cell_type": "markdown",
   "id": "naughty-tanzania",
   "metadata": {},
   "source": [
    "# Loading data and creating data partitions"
   ]
  },
  {
   "cell_type": "markdown",
   "id": "found-petroleum",
   "metadata": {},
   "source": [
    "### 50 per class"
   ]
  },
  {
   "cell_type": "code",
   "execution_count": null,
   "id": "abstract-birthday",
   "metadata": {},
   "outputs": [],
   "source": [
    "TRAIN_DATADIR = \"./data/ChiplessRFID/train/\"\n",
    "training_data_50 = []\n",
    "CATEGORIES = ['Tag01', 'Tag02', 'Tag03', 'Tag04','Tag05','Tag06','Tag07','Tag08','Tag09','Tag10','Tag11','Tag12','Tag13',\n",
    "               'Tag14','Tag15','Tag16','Tag17','Tag18','Tag19','Tag20','Tag21','Tag22','Tag23','Tag24','Tag25','Tag26',\n",
    "               'Tag27']\n",
    "IMG_SIZE = 150\n",
    "\n",
    "def create_training_data_50():\n",
    "    for category in CATEGORIES:\n",
    "        \n",
    "        path = os.path.join(TRAIN_DATADIR, category)\n",
    "        class_num = CATEGORIES.index(category)\n",
    "        i = 0\n",
    "        for img in os.listdir(path): \n",
    "            i+= 1\n",
    "            img_array = cv2.imread(os.path.join(path, img), cv2.IMREAD_GRAYSCALE)\n",
    "            new_array = cv2.resize(img_array, (IMG_SIZE, IMG_SIZE))\n",
    "            training_data_50.append([new_array, class_num])\n",
    "            if i == 50:\n",
    "                break\n",
    "\n",
    "create_training_data_50()"
   ]
  },
  {
   "cell_type": "code",
   "execution_count": null,
   "id": "wanted-pound",
   "metadata": {},
   "outputs": [],
   "source": [
    "### Shuffling the dataset\n",
    "import random\n",
    "\n",
    "random.shuffle(training_data_50)"
   ]
  },
  {
   "cell_type": "code",
   "execution_count": null,
   "id": "pacific-inventory",
   "metadata": {},
   "outputs": [],
   "source": [
    "X_50 = []\n",
    "y_50 = []\n",
    "\n",
    "for features, label in training_data_50:\n",
    "    X_50.append(features)\n",
    "    y_50.append(label)\n",
    "\n",
    "X_50 = np.array(X_50).reshape(-1,IMG_SIZE, IMG_SIZE, 1)"
   ]
  },
  {
   "cell_type": "code",
   "execution_count": null,
   "id": "elect-notification",
   "metadata": {},
   "outputs": [],
   "source": [
    "X_50 = X_50/255.0\n",
    "y_50 = np.array(y_50)"
   ]
  },
  {
   "cell_type": "code",
   "execution_count": null,
   "id": "hidden-envelope",
   "metadata": {},
   "outputs": [],
   "source": [
    "X_train_50, X_test_50, y_train_50, y_test_50 = train_test_split(X_50, y_50, test_size=0.20)"
   ]
  },
  {
   "cell_type": "code",
   "execution_count": null,
   "id": "alone-denmark",
   "metadata": {},
   "outputs": [],
   "source": [
    "print(X_50.shape)\n",
    "print(y_50.shape)"
   ]
  },
  {
   "cell_type": "code",
   "execution_count": null,
   "id": "authentic-stuart",
   "metadata": {},
   "outputs": [],
   "source": [
    "model_50 = Sequential()\n",
    "\n",
    "# Step 1 - Convolution\n",
    "model_50.add(Convolution2D(32, 3, 3, input_shape = (150, 150, 1), padding='same', activation = 'relu'))\n",
    "model_50.add(MaxPooling2D(pool_size = (2, 2)))\n",
    "\n",
    "\n",
    "# Step 2 - Adding some other convolutional and Maxpool layers\n",
    "model_50.add(Convolution2D(32, 3, 3, padding='same', activation = 'relu'))\n",
    "model_50.add(MaxPooling2D(pool_size = (2, 2)))\n",
    "\n",
    "model_50.add(Convolution2D(32, 3, 3, padding='same', activation = 'relu'))\n",
    "model_50.add(MaxPooling2D(pool_size = (2, 2)))\n",
    "\n",
    "model_50.add(Convolution2D(32, 3, 3, padding='same', activation = 'relu'))\n",
    "\n",
    "# Step 3 - Flattening\n",
    "model_50.add(Flatten())\n",
    "\n",
    "\n",
    "# Step 4 - Full connection\n",
    "model_50.add(Dense(128, activation = 'relu'))\n",
    "model_50.add(Dense(27, activation = 'sigmoid'))\n"
   ]
  },
  {
   "cell_type": "code",
   "execution_count": null,
   "id": "faced-albert",
   "metadata": {},
   "outputs": [],
   "source": [
    "# with adam\n",
    "# Compiling the CNN\n",
    "adam = Adam()\n",
    "model_50.compile(optimizer = adam, \n",
    "              loss = 'sparse_categorical_crossentropy', \n",
    "              metrics = ['accuracy'])"
   ]
  },
  {
   "cell_type": "code",
   "execution_count": null,
   "id": "assisted-welsh",
   "metadata": {},
   "outputs": [],
   "source": [
    "# train model\n",
    "history_50 = model_50.fit(X_train_50,\n",
    "                          y_train_50,\n",
    "                          batch_size=10,\n",
    "                          epochs=20,\n",
    "                          validation_split=0.10)"
   ]
  },
  {
   "cell_type": "code",
   "execution_count": null,
   "id": "worst-detector",
   "metadata": {},
   "outputs": [],
   "source": [
    "y_pred_50 = model_50.predict(X_test_50)"
   ]
  },
  {
   "cell_type": "code",
   "execution_count": null,
   "id": "african-metropolitan",
   "metadata": {},
   "outputs": [],
   "source": [
    "y_pred_50 = np.argmax(y_pred_50, axis=-1)"
   ]
  },
  {
   "cell_type": "code",
   "execution_count": null,
   "id": "absent-valuation",
   "metadata": {},
   "outputs": [],
   "source": [
    "print(classification_report(y_test_50, y_pred_50))"
   ]
  },
  {
   "cell_type": "code",
   "execution_count": null,
   "id": "virgin-church",
   "metadata": {},
   "outputs": [],
   "source": [
    "train_loss_50, train_accuracy_50 = model_50.evaluate(X_train_50, y_train_50)\n",
    "test_loss_50, test_acc_50 = model_50.evaluate(X_test_50, y_test_50)"
   ]
  },
  {
   "cell_type": "code",
   "execution_count": null,
   "id": "suspended-avatar",
   "metadata": {},
   "outputs": [],
   "source": []
  },
  {
   "cell_type": "code",
   "execution_count": null,
   "id": "certified-concern",
   "metadata": {},
   "outputs": [],
   "source": [
    "model_50_2 = Sequential()\n",
    "\n",
    "# Step 1 - Convolution\n",
    "model_50_2.add(Convolution2D(32, 3, 3, input_shape = (150, 150, 1), padding='same', activation = 'relu'))\n",
    "model_50_2.add(MaxPooling2D(pool_size = (2, 2)))\n",
    "\n",
    "\n",
    "# Step 2 - Adding some other convolutional and Maxpool layers\n",
    "model_50_2.add(Convolution2D(32, 3, 3, padding='same', activation = 'relu'))\n",
    "model_50_2.add(MaxPooling2D(pool_size = (2, 2)))\n",
    "\n",
    "model_50_2.add(Convolution2D(32, 3, 3, padding='same', activation = 'relu'))\n",
    "model_50_2.add(MaxPooling2D(pool_size = (2, 2)))\n",
    "\n",
    "model_50_2.add(Convolution2D(32, 3, 3, padding='same', activation = 'relu'))\n",
    "\n",
    "# Step 3 - Flattening\n",
    "model_50_2.add(Flatten())\n",
    "\n",
    "\n",
    "# Step 4 - Full connection\n",
    "model_50_2.add(Dense(128, activation = 'relu'))\n",
    "model_50_2.add(Dense(27, activation = 'softmax'))"
   ]
  },
  {
   "cell_type": "code",
   "execution_count": null,
   "id": "signed-devices",
   "metadata": {},
   "outputs": [],
   "source": [
    "# with adam\n",
    "# Compiling the CNN\n",
    "adam = Adam()\n",
    "model_50_2.compile(optimizer = adam, \n",
    "              loss = 'sparse_categorical_crossentropy', \n",
    "              metrics = ['accuracy'])"
   ]
  },
  {
   "cell_type": "code",
   "execution_count": null,
   "id": "medieval-secretariat",
   "metadata": {},
   "outputs": [],
   "source": [
    "# train model\n",
    "history_50_2 = model_50_2.fit(X_train_50,\n",
    "                          y_train_50,\n",
    "                          batch_size=10,\n",
    "                          epochs=20,\n",
    "                          validation_split=0.10)"
   ]
  },
  {
   "cell_type": "code",
   "execution_count": null,
   "id": "vanilla-series",
   "metadata": {},
   "outputs": [],
   "source": [
    "y_pred_50_2 = model_50_2.predict(X_test_50)\n",
    "y_pred_50_2 = np.argmax(y_pred_50_2, axis=-1)"
   ]
  },
  {
   "cell_type": "code",
   "execution_count": null,
   "id": "brown-volunteer",
   "metadata": {},
   "outputs": [],
   "source": [
    "print(classification_report(y_test_50, y_pred_50_2))"
   ]
  },
  {
   "cell_type": "code",
   "execution_count": null,
   "id": "sitting-kinase",
   "metadata": {},
   "outputs": [],
   "source": [
    "train_loss_50_2, train_accuracy_50_2 = model_50_2.evaluate(X_train_50, y_train_50)\n",
    "test_loss_50_2, test_acc_50_2 = model_50_2.evaluate(X_test_50, y_test_50)"
   ]
  },
  {
   "cell_type": "code",
   "execution_count": null,
   "id": "completed-maria",
   "metadata": {},
   "outputs": [],
   "source": []
  },
  {
   "cell_type": "code",
   "execution_count": null,
   "id": "detected-charleston",
   "metadata": {},
   "outputs": [],
   "source": []
  },
  {
   "cell_type": "code",
   "execution_count": null,
   "id": "controlling-diabetes",
   "metadata": {},
   "outputs": [],
   "source": []
  },
  {
   "cell_type": "markdown",
   "id": "improving-stretch",
   "metadata": {},
   "source": [
    "### 75 Per Class"
   ]
  },
  {
   "cell_type": "code",
   "execution_count": null,
   "id": "helpful-distributor",
   "metadata": {},
   "outputs": [],
   "source": [
    "TRAIN_DATADIR = \"./data/ChiplessRFID/train/\"\n",
    "training_data_75 = []\n",
    "CATEGORIES = ['Tag01', 'Tag02', 'Tag03', 'Tag04','Tag05','Tag06','Tag07','Tag08','Tag09','Tag10','Tag11','Tag12','Tag13',\n",
    "               'Tag14','Tag15','Tag16','Tag17','Tag18','Tag19','Tag20','Tag21','Tag22','Tag23','Tag24','Tag25','Tag26',\n",
    "               'Tag27']\n",
    "IMG_SIZE = 150\n",
    "\n",
    "def create_training_data_75():\n",
    "    for category in CATEGORIES:\n",
    "        \n",
    "        path = os.path.join(TRAIN_DATADIR, category)\n",
    "        class_num = CATEGORIES.index(category)\n",
    "        i = 0\n",
    "        for img in os.listdir(path): \n",
    "            i+= 1\n",
    "            img_array = cv2.imread(os.path.join(path, img), cv2.IMREAD_GRAYSCALE)\n",
    "            new_array = cv2.resize(img_array, (IMG_SIZE, IMG_SIZE))\n",
    "            training_data_75.append([new_array, class_num])\n",
    "            if i == 75:\n",
    "                break\n",
    "\n",
    "create_training_data_75()"
   ]
  },
  {
   "cell_type": "code",
   "execution_count": null,
   "id": "foreign-macro",
   "metadata": {},
   "outputs": [],
   "source": [
    "### Shuffling the dataset\n",
    "import random\n",
    "\n",
    "random.shuffle(training_data_75)\n",
    "\n",
    "X_75 = []\n",
    "y_75 = []\n",
    "\n",
    "for features, label in training_data_75:\n",
    "    X_75.append(features)\n",
    "    y_75.append(label)\n",
    "\n",
    "X_75 = np.array(X_75).reshape(-1,IMG_SIZE, IMG_SIZE, 1)"
   ]
  },
  {
   "cell_type": "code",
   "execution_count": null,
   "id": "focal-honor",
   "metadata": {},
   "outputs": [],
   "source": [
    "X_75 = X_75/255.0\n",
    "y_75 = np.array(y_75)\n",
    "\n",
    "X_train_75, X_test_75, y_train_75, y_test_75 = train_test_split(X_75, y_75, test_size=0.20)"
   ]
  },
  {
   "cell_type": "code",
   "execution_count": null,
   "id": "coupled-cologne",
   "metadata": {},
   "outputs": [],
   "source": [
    "model_75 = Sequential()\n",
    "\n",
    "# Step 1 - Convolution\n",
    "model_75.add(Convolution2D(32, 3, 3, input_shape = (150, 150, 1), padding='same', activation = 'relu'))\n",
    "model_75.add(MaxPooling2D(pool_size = (2, 2)))\n",
    "\n",
    "\n",
    "# Step 2 - Adding some other convolutional and Maxpool layers\n",
    "model_75.add(Convolution2D(32, 3, 3, padding='same', activation = 'relu'))\n",
    "model_75.add(MaxPooling2D(pool_size = (2, 2)))\n",
    "\n",
    "model_75.add(Convolution2D(32, 3, 3, padding='same', activation = 'relu'))\n",
    "model_75.add(MaxPooling2D(pool_size = (2, 2)))\n",
    "\n",
    "model_75.add(Convolution2D(32, 3, 3, padding='same', activation = 'relu'))\n",
    "\n",
    "# Step 3 - Flattening\n",
    "model_75.add(Flatten())\n",
    "\n",
    "\n",
    "# Step 4 - Full connection\n",
    "model_75.add(Dense(128, activation = 'relu'))\n",
    "model_75.add(Dense(27, activation = 'sigmoid'))"
   ]
  },
  {
   "cell_type": "code",
   "execution_count": null,
   "id": "significant-consultation",
   "metadata": {},
   "outputs": [],
   "source": [
    "# Compiling the CNN\n",
    "\n",
    "adam = Adam()\n",
    "model_75.compile(optimizer = adam, \n",
    "              loss = 'sparse_categorical_crossentropy', \n",
    "              metrics = ['accuracy'])"
   ]
  },
  {
   "cell_type": "code",
   "execution_count": null,
   "id": "developing-asset",
   "metadata": {},
   "outputs": [],
   "source": [
    "# train model\n",
    "history_75 = model_75.fit(X_train_75,y_train_75,\n",
    "    batch_size=10,\n",
    "    epochs=20,\n",
    "    validation_split=0.10)"
   ]
  },
  {
   "cell_type": "code",
   "execution_count": null,
   "id": "finished-premises",
   "metadata": {},
   "outputs": [],
   "source": [
    "y_pred_75 = model_75.predict(X_test_75)\n",
    "y_pred_75 = np.argmax(y_pred_75, axis=-1)\n",
    "print(classification_report(y_test_75, y_pred_75))"
   ]
  },
  {
   "cell_type": "code",
   "execution_count": null,
   "id": "proper-christianity",
   "metadata": {},
   "outputs": [],
   "source": [
    "train_loss_75, train_accuracy_75 = model_75.evaluate(X_train_75, y_train_75)\n",
    "test_loss_75, test_acc_75 = model_75.evaluate(X_test_75, y_test_75)"
   ]
  },
  {
   "cell_type": "code",
   "execution_count": null,
   "id": "biblical-georgia",
   "metadata": {},
   "outputs": [],
   "source": []
  },
  {
   "cell_type": "code",
   "execution_count": null,
   "id": "portable-bahamas",
   "metadata": {},
   "outputs": [],
   "source": [
    "model_75_2 = Sequential()\n",
    "\n",
    "# Step 1 - Convolution\n",
    "model_75_2.add(Convolution2D(32, 3, 3, input_shape = (150, 150, 1), padding='same', activation = 'relu'))\n",
    "model_75_2.add(MaxPooling2D(pool_size = (2, 2)))\n",
    "\n",
    "\n",
    "# Step 2 - Adding some other convolutional and Maxpool layers\n",
    "model_75_2.add(Convolution2D(32, 3, 3, padding='same', activation = 'relu'))\n",
    "model_75_2.add(MaxPooling2D(pool_size = (2, 2)))\n",
    "\n",
    "model_75_2.add(Convolution2D(32, 3, 3, padding='same', activation = 'relu'))\n",
    "model_75_2.add(MaxPooling2D(pool_size = (2, 2)))\n",
    "\n",
    "model_75_2.add(Convolution2D(32, 3, 3, padding='same', activation = 'relu'))\n",
    "\n",
    "# Step 3 - Flattening\n",
    "model_75_2.add(Flatten())\n",
    "\n",
    "\n",
    "# Step 4 - Full connection\n",
    "model_75_2.add(Dense(128, activation = 'relu'))\n",
    "model_75_2.add(Dense(27, activation = 'softmax'))"
   ]
  },
  {
   "cell_type": "code",
   "execution_count": null,
   "id": "junior-heath",
   "metadata": {},
   "outputs": [],
   "source": [
    "# Compiling the CNN\n",
    "\n",
    "adam = Adam()\n",
    "model_75_2.compile(optimizer = adam, \n",
    "              loss = 'sparse_categorical_crossentropy', \n",
    "              metrics = ['accuracy'])"
   ]
  },
  {
   "cell_type": "code",
   "execution_count": null,
   "id": "correct-polls",
   "metadata": {},
   "outputs": [],
   "source": [
    "# train model\n",
    "history_75_2 = model_75_2.fit(X_train_75,y_train_75,\n",
    "    batch_size=10,\n",
    "    epochs=20,\n",
    "    validation_split=0.10)"
   ]
  },
  {
   "cell_type": "code",
   "execution_count": null,
   "id": "soviet-punishment",
   "metadata": {},
   "outputs": [],
   "source": [
    "y_pred_75_2 = model_75_2.predict(X_test_75)\n",
    "y_pred_75_2 = np.argmax(y_pred_75_2, axis=-1)\n",
    "print(classification_report(y_test_75, y_pred_75_2))"
   ]
  },
  {
   "cell_type": "code",
   "execution_count": null,
   "id": "invalid-delight",
   "metadata": {},
   "outputs": [],
   "source": [
    "train_loss_75_2, train_accuracy_75_2 = model_75.evaluate(X_train_75, y_train_75)\n",
    "test_loss_75, test_acc_75 = model_75_2.evaluate(X_test_75, y_test_75)"
   ]
  },
  {
   "cell_type": "code",
   "execution_count": null,
   "id": "neither-graph",
   "metadata": {},
   "outputs": [],
   "source": []
  },
  {
   "cell_type": "code",
   "execution_count": null,
   "id": "delayed-separate",
   "metadata": {},
   "outputs": [],
   "source": []
  },
  {
   "cell_type": "code",
   "execution_count": null,
   "id": "apparent-scout",
   "metadata": {},
   "outputs": [],
   "source": []
  },
  {
   "cell_type": "code",
   "execution_count": null,
   "id": "settled-selection",
   "metadata": {},
   "outputs": [],
   "source": []
  },
  {
   "cell_type": "markdown",
   "id": "false-paint",
   "metadata": {},
   "source": [
    "### 100 Per class"
   ]
  },
  {
   "cell_type": "code",
   "execution_count": null,
   "id": "utility-mississippi",
   "metadata": {},
   "outputs": [],
   "source": [
    "TRAIN_DATADIR = \"./data/ChiplessRFID/train/\"\n",
    "training_data_100 = []\n",
    "CATEGORIES = ['Tag01', 'Tag02', 'Tag03', 'Tag04','Tag05','Tag06','Tag07','Tag08','Tag09','Tag10','Tag11','Tag12','Tag13',\n",
    "               'Tag14','Tag15','Tag16','Tag17','Tag18','Tag19','Tag20','Tag21','Tag22','Tag23','Tag24','Tag25','Tag26',\n",
    "               'Tag27']\n",
    "IMG_SIZE = 150\n",
    "\n",
    "def create_training_data_100():\n",
    "    for category in CATEGORIES:\n",
    "        \n",
    "        path = os.path.join(TRAIN_DATADIR, category)\n",
    "        class_num = CATEGORIES.index(category)\n",
    "        i = 0\n",
    "        for img in os.listdir(path): \n",
    "            i+= 1\n",
    "            img_array = cv2.imread(os.path.join(path, img), cv2.IMREAD_GRAYSCALE)\n",
    "            new_array = cv2.resize(img_array, (IMG_SIZE, IMG_SIZE))\n",
    "            training_data_100.append([new_array, class_num])\n",
    "            if i == 100:\n",
    "                break\n",
    "\n",
    "create_training_data_100()"
   ]
  },
  {
   "cell_type": "code",
   "execution_count": null,
   "id": "interpreted-stewart",
   "metadata": {},
   "outputs": [],
   "source": [
    "### Shuffling the dataset\n",
    "import random\n",
    "\n",
    "random.shuffle(training_data_100)"
   ]
  },
  {
   "cell_type": "code",
   "execution_count": null,
   "id": "published-corruption",
   "metadata": {},
   "outputs": [],
   "source": [
    "X_100 = []\n",
    "y_100 = []\n",
    "\n",
    "for features, label in training_data_100:\n",
    "    X_100.append(features)\n",
    "    y_100.append(label)\n",
    "\n",
    "X_100 = np.array(X_100).reshape(-1,IMG_SIZE, IMG_SIZE, 1)"
   ]
  },
  {
   "cell_type": "code",
   "execution_count": null,
   "id": "approximate-netscape",
   "metadata": {},
   "outputs": [],
   "source": [
    "X_100 = X_100/255.0\n",
    "y_100 = np.array(y_100)\n",
    "\n",
    "X_train_100, X_test_100, y_train_100, y_test_100 = train_test_split(X_100, y_100, test_size=0.20)"
   ]
  },
  {
   "cell_type": "code",
   "execution_count": null,
   "id": "private-seminar",
   "metadata": {},
   "outputs": [],
   "source": [
    "print(X_100.shape)\n",
    "print(y_100.shape)"
   ]
  },
  {
   "cell_type": "code",
   "execution_count": null,
   "id": "single-passing",
   "metadata": {},
   "outputs": [],
   "source": [
    "model_100 = Sequential()\n",
    "\n",
    "# Step 1 - Convolution\n",
    "model_100.add(Convolution2D(32, 3, 3, input_shape = (150, 150, 1), padding='same', activation = 'relu'))\n",
    "model_100.add(MaxPooling2D(pool_size = (2, 2)))\n",
    "\n",
    "\n",
    "# Step 2 - Adding some other convolutional and Maxpool layers\n",
    "model_100.add(Convolution2D(32, 3, 3, padding='same', activation = 'relu'))\n",
    "model_100.add(MaxPooling2D(pool_size = (2, 2)))\n",
    "\n",
    "model_100.add(Convolution2D(32, 3, 3, padding='same', activation = 'relu'))\n",
    "model_100.add(MaxPooling2D(pool_size = (2, 2)))\n",
    "\n",
    "model_100.add(Convolution2D(32, 3, 3, padding='same', activation = 'relu'))\n",
    "\n",
    "# Step 3 - Flattening\n",
    "model_100.add(Flatten())\n",
    "\n",
    "\n",
    "# Step 4 - Full connection\n",
    "model_100.add(Dense(128, activation = 'relu'))\n",
    "model_100.add(Dense(27, activation = 'sigmoid'))\n"
   ]
  },
  {
   "cell_type": "code",
   "execution_count": null,
   "id": "taken-summit",
   "metadata": {},
   "outputs": [],
   "source": [
    "# Compiling the CNN\n",
    "\n",
    "# adam = Adam()\n",
    "model_100.compile(optimizer = 'adam', \n",
    "              loss = 'sparse_categorical_crossentropy', \n",
    "              metrics = ['accuracy'])"
   ]
  },
  {
   "cell_type": "code",
   "execution_count": null,
   "id": "optimum-brooklyn",
   "metadata": {},
   "outputs": [],
   "source": [
    "# train model\n",
    "history_100 = model_100.fit(X_train_100,y_train_100,\n",
    "    batch_size=10,\n",
    "    epochs=20,\n",
    "    validation_split=0.10)"
   ]
  },
  {
   "cell_type": "code",
   "execution_count": null,
   "id": "guided-screw",
   "metadata": {},
   "outputs": [],
   "source": [
    "y_pred_100 = model_100.predict(X_test_100)\n",
    "y_pred_100 = np.argmax(y_pred_100, axis=-1)\n",
    "print(classification_report(y_test_100, y_pred_100))"
   ]
  },
  {
   "cell_type": "code",
   "execution_count": null,
   "id": "acceptable-cover",
   "metadata": {},
   "outputs": [],
   "source": [
    "train_loss_100, train_accuracy_100 = model_100.evaluate(X_train_100, y_train_100)\n",
    "test_loss_100, test_acc_100 = model_100.evaluate(X_test_100, y_test_100)"
   ]
  },
  {
   "cell_type": "code",
   "execution_count": null,
   "id": "structured-contents",
   "metadata": {},
   "outputs": [],
   "source": [
    "scores = model_100.evaluate(X_test_100, y_test_100)\n",
    "print(\"%s: %.2f%%\" % (model_100.metrics_names[1], scores[1]*100))\n",
    "print(\"%s: %.2f%%\" % (model_100.metrics_names[0], scores[0]))\n"
   ]
  },
  {
   "cell_type": "code",
   "execution_count": null,
   "id": "ahead-copying",
   "metadata": {},
   "outputs": [],
   "source": []
  },
  {
   "cell_type": "code",
   "execution_count": null,
   "id": "satellite-inquiry",
   "metadata": {},
   "outputs": [],
   "source": [
    "model_100_2 = Sequential()\n",
    "\n",
    "# Step 1 - Convolution\n",
    "model_100_2.add(Convolution2D(32, 3, 3, input_shape = (150, 150, 1), padding='same', activation = 'relu'))\n",
    "model_100_2.add(MaxPooling2D(pool_size = (2, 2)))\n",
    "\n",
    "\n",
    "# Step 2 - Adding some other convolutional and Maxpool layers\n",
    "model_100_2.add(Convolution2D(32, 3, 3, padding='same', activation = 'relu'))\n",
    "model_100_2.add(MaxPooling2D(pool_size = (2, 2)))\n",
    "\n",
    "model_100_2.add(Convolution2D(32, 3, 3, padding='same', activation = 'relu'))\n",
    "model_100_2.add(MaxPooling2D(pool_size = (2, 2)))\n",
    "\n",
    "model_100_2.add(Convolution2D(32, 3, 3, padding='same', activation = 'relu'))\n",
    "\n",
    "# Step 3 - Flattening\n",
    "model_100_2.add(Flatten())\n",
    "\n",
    "\n",
    "# Step 4 - Full connection\n",
    "model_100_2.add(Dense(128, activation = 'relu'))\n",
    "model_100_2.add(Dense(27, activation = 'softmax'))\n"
   ]
  },
  {
   "cell_type": "code",
   "execution_count": null,
   "id": "standing-karaoke",
   "metadata": {},
   "outputs": [],
   "source": [
    "# Compiling the CNN\n",
    "\n",
    "# adam = Adam()\n",
    "model_100_2.compile(optimizer = 'adam', \n",
    "              loss = 'sparse_categorical_crossentropy', \n",
    "              metrics = ['accuracy'])"
   ]
  },
  {
   "cell_type": "code",
   "execution_count": null,
   "id": "tender-recruitment",
   "metadata": {},
   "outputs": [],
   "source": [
    "# train model\n",
    "history_100_2 = model_100_2.fit(X_train_100,y_train_100,\n",
    "    batch_size=10,\n",
    "    epochs=20,\n",
    "    validation_split=0.10)"
   ]
  },
  {
   "cell_type": "code",
   "execution_count": null,
   "id": "several-tower",
   "metadata": {},
   "outputs": [],
   "source": [
    "y_pred_100_2 = model_100.predict(X_test_100)\n",
    "y_pred_100_2 = np.argmax(y_pred_100_2, axis=-1)\n",
    "print(classification_report(y_test_100, y_pred_100_2))"
   ]
  },
  {
   "cell_type": "code",
   "execution_count": null,
   "id": "arabic-seafood",
   "metadata": {},
   "outputs": [],
   "source": [
    "train_loss_100_2, train_accuracy_100_2 = model_100_2.evaluate(X_train_100, y_train_100)\n",
    "test_loss_100_2, test_acc_100_2 = model_100_2.evaluate(X_test_100, y_test_100)"
   ]
  },
  {
   "cell_type": "code",
   "execution_count": null,
   "id": "public-annotation",
   "metadata": {},
   "outputs": [],
   "source": []
  },
  {
   "cell_type": "code",
   "execution_count": null,
   "id": "stretch-worcester",
   "metadata": {},
   "outputs": [],
   "source": []
  },
  {
   "cell_type": "markdown",
   "id": "champion-sword",
   "metadata": {},
   "source": [
    "### 125 Per Class"
   ]
  },
  {
   "cell_type": "code",
   "execution_count": null,
   "id": "lonely-recall",
   "metadata": {},
   "outputs": [],
   "source": [
    "TRAIN_DATADIR = \"./data/ChiplessRFID/train/\"\n",
    "training_data_125 = []\n",
    "CATEGORIES = ['Tag01', 'Tag02', 'Tag03', 'Tag04','Tag05','Tag06','Tag07','Tag08','Tag09','Tag10','Tag11','Tag12','Tag13',\n",
    "               'Tag14','Tag15','Tag16','Tag17','Tag18','Tag19','Tag20','Tag21','Tag22','Tag23','Tag24','Tag25','Tag26',\n",
    "               'Tag27']\n",
    "IMG_SIZE = 150\n",
    "\n",
    "def create_training_data_125():\n",
    "    for category in CATEGORIES:\n",
    "        \n",
    "        path = os.path.join(TRAIN_DATADIR, category)\n",
    "        class_num = CATEGORIES.index(category)\n",
    "        i = 0\n",
    "        for img in os.listdir(path): \n",
    "            i+= 1\n",
    "            img_array = cv2.imread(os.path.join(path, img), cv2.IMREAD_GRAYSCALE)\n",
    "            new_array = cv2.resize(img_array, (IMG_SIZE, IMG_SIZE))\n",
    "            training_data_125.append([new_array, class_num])\n",
    "            if i == 125:\n",
    "                break\n",
    "\n",
    "create_training_data_125()"
   ]
  },
  {
   "cell_type": "code",
   "execution_count": null,
   "id": "ordinary-target",
   "metadata": {},
   "outputs": [],
   "source": [
    "### Shuffling the dataset\n",
    "import random\n",
    "\n",
    "random.shuffle(training_data_125)\n",
    "\n",
    "X_125 = []\n",
    "y_125 = []\n",
    "\n",
    "for features, label in training_data_125:\n",
    "    X_125.append(features)\n",
    "    y_125.append(label)\n",
    "\n",
    "X_125 = np.array(X_125).reshape(-1,IMG_SIZE, IMG_SIZE, 1)\n",
    "\n",
    "\n",
    "X_125 = X_125/255.0\n",
    "y_125 = np.array(y_125)\n",
    "\n",
    "X_train_125, X_test_125, y_train_125, y_test_125 = train_test_split(X_125, y_125, test_size=0.20)"
   ]
  },
  {
   "cell_type": "code",
   "execution_count": null,
   "id": "measured-header",
   "metadata": {},
   "outputs": [],
   "source": [
    "print(X_125.shape)\n",
    "print(y_125.shape)"
   ]
  },
  {
   "cell_type": "code",
   "execution_count": null,
   "id": "twenty-climate",
   "metadata": {},
   "outputs": [],
   "source": [
    "model_125 = Sequential()\n",
    "\n",
    "# Step 1 - Convolution\n",
    "model_125.add(Convolution2D(32, 3, 3, input_shape = (150, 150, 1), padding='same', activation = 'relu'))\n",
    "model_125.add(MaxPooling2D(pool_size = (2, 2)))\n",
    "\n",
    "\n",
    "# Step 2 - Adding some other convolutional and Maxpool layers\n",
    "model_125.add(Convolution2D(32, 3, 3, padding='same', activation = 'relu'))\n",
    "model_125.add(MaxPooling2D(pool_size = (2, 2)))\n",
    "\n",
    "model_125.add(Convolution2D(32, 3, 3, padding='same', activation = 'relu'))\n",
    "model_125.add(MaxPooling2D(pool_size = (2, 2)))\n",
    "\n",
    "model_125.add(Convolution2D(32, 3, 3, padding='same', activation = 'relu'))\n",
    "\n",
    "# Step 3 - Flattening\n",
    "model_125.add(Flatten())\n",
    "\n",
    "\n",
    "# Step 4 - Full connection\n",
    "model_125.add(Dense(128, activation = 'relu'))\n",
    "model_125.add(Dense(27, activation = 'sigmoid'))\n"
   ]
  },
  {
   "cell_type": "code",
   "execution_count": null,
   "id": "maritime-chester",
   "metadata": {},
   "outputs": [],
   "source": [
    "# Compiling the CNN\n",
    "\n",
    "# adam = Adam()\n",
    "model_125.compile(optimizer = 'adam', \n",
    "              loss = 'sparse_categorical_crossentropy', \n",
    "              metrics = ['accuracy'])"
   ]
  },
  {
   "cell_type": "code",
   "execution_count": null,
   "id": "encouraging-petersburg",
   "metadata": {},
   "outputs": [],
   "source": [
    "# train model\n",
    "history_125 = model_125.fit(X_train_125,y_train_125,\n",
    "    batch_size=10,\n",
    "    epochs=20,\n",
    "    validation_split=0.10)"
   ]
  },
  {
   "cell_type": "code",
   "execution_count": null,
   "id": "employed-midnight",
   "metadata": {},
   "outputs": [],
   "source": [
    "y_pred_125 = model_100.predict(X_test_125)\n",
    "y_pred_125 = np.argmax(y_pred_125, axis=-1)\n",
    "print(classification_report(y_test_125, y_pred_125))"
   ]
  },
  {
   "cell_type": "code",
   "execution_count": null,
   "id": "authorized-academy",
   "metadata": {},
   "outputs": [],
   "source": [
    "train_loss_125, train_accuracy_125 = model_125.evaluate(X_train_125, y_train_125)\n",
    "test_loss_125, test_acc_125 = model_125.evaluate(X_test_125, y_test_125)"
   ]
  },
  {
   "cell_type": "code",
   "execution_count": null,
   "id": "modern-calculation",
   "metadata": {},
   "outputs": [],
   "source": []
  },
  {
   "cell_type": "code",
   "execution_count": null,
   "id": "suspended-canada",
   "metadata": {},
   "outputs": [],
   "source": [
    "model_125_2 = Sequential()\n",
    "\n",
    "# Step 1 - Convolution\n",
    "model_125_2.add(Convolution2D(32, 3, 3, input_shape = (150, 150, 1), padding='same', activation = 'relu'))\n",
    "model_125_2.add(MaxPooling2D(pool_size = (2, 2)))\n",
    "\n",
    "\n",
    "# Step 2 - Adding some other convolutional and Maxpool layers\n",
    "model_125_2.add(Convolution2D(32, 3, 3, padding='same', activation = 'relu'))\n",
    "model_125_2.add(MaxPooling2D(pool_size = (2, 2)))\n",
    "\n",
    "model_125_2.add(Convolution2D(32, 3, 3, padding='same', activation = 'relu'))\n",
    "model_125_2.add(MaxPooling2D(pool_size = (2, 2)))\n",
    "\n",
    "model_125_2.add(Convolution2D(32, 3, 3, padding='same', activation = 'relu'))\n",
    "\n",
    "# Step 3 - Flattening\n",
    "model_125_2.add(Flatten())\n",
    "\n",
    "\n",
    "# Step 4 - Full connection\n",
    "model_125_2.add(Dense(128, activation = 'relu'))\n",
    "model_125_2.add(Dense(27, activation = 'softmax'))\n"
   ]
  },
  {
   "cell_type": "code",
   "execution_count": null,
   "id": "backed-study",
   "metadata": {},
   "outputs": [],
   "source": [
    "# Compiling the CNN\n",
    "\n",
    "# adam = Adam()\n",
    "model_125_2.compile(optimizer = 'adam', \n",
    "              loss = 'sparse_categorical_crossentropy', \n",
    "              metrics = ['accuracy'])"
   ]
  },
  {
   "cell_type": "code",
   "execution_count": null,
   "id": "fossil-financing",
   "metadata": {},
   "outputs": [],
   "source": [
    "# train model\n",
    "history_125_2 = model_125_2.fit(X_train_125,y_train_125,\n",
    "    batch_size=10,\n",
    "    epochs=20,\n",
    "    validation_split=0.10)"
   ]
  },
  {
   "cell_type": "code",
   "execution_count": null,
   "id": "intellectual-nutrition",
   "metadata": {},
   "outputs": [],
   "source": [
    "y_pred_125_2 = model_100.predict(X_test_125)\n",
    "y_pred_125_2 = np.argmax(y_pred_125_2, axis=-1)\n",
    "print(classification_report(y_test_125, y_pred_125_2))"
   ]
  },
  {
   "cell_type": "code",
   "execution_count": null,
   "id": "august-supervisor",
   "metadata": {},
   "outputs": [],
   "source": [
    "train_loss_125_2, train_accuracy_125_2 = model_125_2.evaluate(X_train_125, y_train_125)\n",
    "test_loss_125_2, test_acc_125_2 = model_125_2.evaluate(X_test_125, y_test_125)"
   ]
  },
  {
   "cell_type": "code",
   "execution_count": null,
   "id": "economic-honolulu",
   "metadata": {},
   "outputs": [],
   "source": []
  },
  {
   "cell_type": "code",
   "execution_count": null,
   "id": "atmospheric-cambridge",
   "metadata": {},
   "outputs": [],
   "source": []
  },
  {
   "cell_type": "code",
   "execution_count": null,
   "id": "worth-movie",
   "metadata": {},
   "outputs": [],
   "source": []
  },
  {
   "cell_type": "markdown",
   "id": "assigned-defendant",
   "metadata": {},
   "source": [
    "### 150 Per Class"
   ]
  },
  {
   "cell_type": "code",
   "execution_count": null,
   "id": "social-logic",
   "metadata": {},
   "outputs": [],
   "source": [
    "TRAIN_DATADIR = \"./data/ChiplessRFID/train/\"\n",
    "training_data_150 = []\n",
    "CATEGORIES = ['Tag01', 'Tag02', 'Tag03', 'Tag04','Tag05','Tag06','Tag07','Tag08','Tag09','Tag10','Tag11','Tag12','Tag13',\n",
    "               'Tag14','Tag15','Tag16','Tag17','Tag18','Tag19','Tag20','Tag21','Tag22','Tag23','Tag24','Tag25','Tag26',\n",
    "               'Tag27']\n",
    "IMG_SIZE = 150\n",
    "\n",
    "def create_training_data_150():\n",
    "    for category in CATEGORIES:\n",
    "        \n",
    "        path = os.path.join(TRAIN_DATADIR, category)\n",
    "        class_num = CATEGORIES.index(category)\n",
    "        i = 0\n",
    "        for img in os.listdir(path): \n",
    "            i+= 1\n",
    "            img_array = cv2.imread(os.path.join(path, img), cv2.IMREAD_GRAYSCALE)\n",
    "            new_array = cv2.resize(img_array, (IMG_SIZE, IMG_SIZE))\n",
    "            training_data_150.append([new_array, class_num])\n",
    "            if i == 150:\n",
    "                break\n",
    "\n",
    "create_training_data_150()"
   ]
  },
  {
   "cell_type": "code",
   "execution_count": null,
   "id": "increasing-flower",
   "metadata": {},
   "outputs": [],
   "source": [
    "### Shuffling the dataset\n",
    "import random\n",
    "\n",
    "random.shuffle(training_data_150)\n",
    "\n",
    "X_150 = []\n",
    "y_150 = []\n",
    "\n",
    "for features, label in training_data_150:\n",
    "    X_150.append(features)\n",
    "    y_150.append(label)\n",
    "\n",
    "X_150 = np.array(X_150).reshape(-1,IMG_SIZE, IMG_SIZE, 1)"
   ]
  },
  {
   "cell_type": "code",
   "execution_count": null,
   "id": "final-happening",
   "metadata": {},
   "outputs": [],
   "source": [
    "X_150 = X_150/255.0\n",
    "y_150 = np.array(y_150)\n",
    "\n",
    "X_train_150, X_test_150, y_train_150, y_test_150 = train_test_split(X_150, y_150, test_size=0.20)"
   ]
  },
  {
   "cell_type": "code",
   "execution_count": null,
   "id": "meaningful-fishing",
   "metadata": {},
   "outputs": [],
   "source": [
    "model_150 = Sequential()\n",
    "\n",
    "# Step 1 - Convolution\n",
    "model_150.add(Convolution2D(32, 3, 3, input_shape = (150, 150, 1), padding='same', activation = 'relu'))\n",
    "model_150.add(MaxPooling2D(pool_size = (2, 2)))\n",
    "\n",
    "\n",
    "# Step 2 - Adding some other convolutional and Maxpool layers\n",
    "model_150.add(Convolution2D(32, 3, 3, padding='same', activation = 'relu'))\n",
    "model_150.add(MaxPooling2D(pool_size = (2, 2)))\n",
    "\n",
    "model_150.add(Convolution2D(32, 3, 3, padding='same', activation = 'relu'))\n",
    "model_150.add(MaxPooling2D(pool_size = (2, 2)))\n",
    "\n",
    "model_150.add(Convolution2D(32, 3, 3, padding='same', activation = 'relu'))\n",
    "\n",
    "# Step 3 - Flattening\n",
    "model_150.add(Flatten())\n",
    "\n",
    "\n",
    "# Step 4 - Full connection\n",
    "model_150.add(Dense(128, activation = 'relu'))\n",
    "model_150.add(Dense(27, activation = 'sigmoid'))"
   ]
  },
  {
   "cell_type": "code",
   "execution_count": null,
   "id": "black-press",
   "metadata": {},
   "outputs": [],
   "source": [
    "# Compiling the CNN\n",
    "\n",
    "# adam = Adam()\n",
    "model_150.compile(optimizer = 'adam', \n",
    "              loss = 'sparse_categorical_crossentropy', \n",
    "              metrics = ['accuracy'])"
   ]
  },
  {
   "cell_type": "code",
   "execution_count": null,
   "id": "level-truth",
   "metadata": {},
   "outputs": [],
   "source": [
    "# train model\n",
    "history_150 = model_150.fit(X_train_150,y_train_150,\n",
    "    batch_size=10,\n",
    "    epochs=20,\n",
    "    validation_split=0.10)"
   ]
  },
  {
   "cell_type": "code",
   "execution_count": null,
   "id": "confused-example",
   "metadata": {},
   "outputs": [],
   "source": [
    "y_pred_150 = model_150.predict(X_test_150)\n",
    "y_pred_150 = np.argmax(y_pred_150, axis=-1)\n",
    "print(classification_report(y_test_150, y_pred_150))"
   ]
  },
  {
   "cell_type": "code",
   "execution_count": null,
   "id": "possible-arthur",
   "metadata": {},
   "outputs": [],
   "source": [
    "train_loss_150, train_accuracy_150 = model_150.evaluate(X_train_150, y_train_150)\n",
    "test_loss_150, test_acc_150 = model_150.evaluate(X_test_150, y_test_150)"
   ]
  },
  {
   "cell_type": "code",
   "execution_count": null,
   "id": "suspended-fantasy",
   "metadata": {},
   "outputs": [],
   "source": []
  },
  {
   "cell_type": "code",
   "execution_count": null,
   "id": "skilled-python",
   "metadata": {},
   "outputs": [],
   "source": [
    "model_150_2 = Sequential()\n",
    "\n",
    "# Step 1 - Convolution\n",
    "model_150_2.add(Convolution2D(32, 3, 3, input_shape = (150, 150, 1), padding='same', activation = 'relu'))\n",
    "model_150_2.add(MaxPooling2D(pool_size = (2, 2)))\n",
    "\n",
    "\n",
    "# Step 2 - Adding some other convolutional and Maxpool layers\n",
    "model_150_2.add(Convolution2D(32, 3, 3, padding='same', activation = 'relu'))\n",
    "model_150_2.add(MaxPooling2D(pool_size = (2, 2)))\n",
    "\n",
    "model_150_2.add(Convolution2D(32, 3, 3, padding='same', activation = 'relu'))\n",
    "model_150_2.add(MaxPooling2D(pool_size = (2, 2)))\n",
    "\n",
    "model_150_2.add(Convolution2D(32, 3, 3, padding='same', activation = 'relu'))\n",
    "\n",
    "# Step 3 - Flattening\n",
    "model_150_2.add(Flatten())\n",
    "\n",
    "\n",
    "# Step 4 - Full connection\n",
    "model_150_2.add(Dense(128, activation = 'relu'))\n",
    "model_150_2.add(Dense(27, activation = 'softmax'))"
   ]
  },
  {
   "cell_type": "code",
   "execution_count": null,
   "id": "capital-moral",
   "metadata": {},
   "outputs": [],
   "source": [
    "# Compiling the CNN\n",
    "\n",
    "# adam = Adam()\n",
    "model_150_2.compile(optimizer = 'adam', \n",
    "              loss = 'sparse_categorical_crossentropy', \n",
    "              metrics = ['accuracy'])"
   ]
  },
  {
   "cell_type": "code",
   "execution_count": null,
   "id": "numerical-programming",
   "metadata": {},
   "outputs": [],
   "source": [
    "# train model\n",
    "history_150_2 = model_150_2.fit(X_train_150,y_train_150,\n",
    "    batch_size=10,\n",
    "    epochs=20,\n",
    "    validation_split=0.10)"
   ]
  },
  {
   "cell_type": "code",
   "execution_count": null,
   "id": "adult-sheriff",
   "metadata": {},
   "outputs": [],
   "source": [
    "y_pred_150_2 = model_150_2.predict(X_test_150)\n",
    "y_pred_150_2 = np.argmax(y_pred_150_2, axis=-1)\n",
    "print(classification_report(y_test_150, y_pred_150_2))"
   ]
  },
  {
   "cell_type": "code",
   "execution_count": null,
   "id": "encouraging-tuner",
   "metadata": {},
   "outputs": [],
   "source": [
    "train_loss_150_2, train_accuracy_150_2 = model_150_2.evaluate(X_train_150, y_train_150)\n",
    "test_loss_150_2, test_acc_150_2 = model_150_2.evaluate(X_test_150, y_test_150)"
   ]
  },
  {
   "cell_type": "code",
   "execution_count": null,
   "id": "enormous-allowance",
   "metadata": {},
   "outputs": [],
   "source": []
  },
  {
   "cell_type": "code",
   "execution_count": null,
   "id": "collectible-identity",
   "metadata": {},
   "outputs": [],
   "source": []
  },
  {
   "cell_type": "markdown",
   "id": "useful-cassette",
   "metadata": {},
   "source": [
    "### 175 Per Class"
   ]
  },
  {
   "cell_type": "code",
   "execution_count": null,
   "id": "assumed-given",
   "metadata": {},
   "outputs": [],
   "source": [
    "TRAIN_DATADIR = \"./data/ChiplessRFID/train/\"\n",
    "training_data_175 = []\n",
    "CATEGORIES = ['Tag01', 'Tag02', 'Tag03', 'Tag04','Tag05','Tag06','Tag07','Tag08','Tag09','Tag10','Tag11','Tag12','Tag13',\n",
    "               'Tag14','Tag15','Tag16','Tag17','Tag18','Tag19','Tag20','Tag21','Tag22','Tag23','Tag24','Tag25','Tag26',\n",
    "               'Tag27']\n",
    "IMG_SIZE = 150\n",
    "\n",
    "def create_training_data_175():\n",
    "    for category in CATEGORIES:\n",
    "        \n",
    "        path = os.path.join(TRAIN_DATADIR, category)\n",
    "        class_num = CATEGORIES.index(category)\n",
    "        i = 0\n",
    "        for img in os.listdir(path): \n",
    "            i+= 1\n",
    "            img_array = cv2.imread(os.path.join(path, img), cv2.IMREAD_GRAYSCALE)\n",
    "            new_array = cv2.resize(img_array, (IMG_SIZE, IMG_SIZE))\n",
    "            training_data_175.append([new_array, class_num])\n",
    "            if i == 175:\n",
    "                break\n",
    "\n",
    "create_training_data_175()"
   ]
  },
  {
   "cell_type": "code",
   "execution_count": null,
   "id": "aging-firmware",
   "metadata": {},
   "outputs": [],
   "source": [
    "### Shuffling the dataset\n",
    "import random\n",
    "\n",
    "random.shuffle(training_data_175)\n",
    "\n",
    "X_175 = []\n",
    "y_175 = []\n",
    "\n",
    "for features, label in training_data_175:\n",
    "    X_175.append(features)\n",
    "    y_175.append(label)\n",
    "\n",
    "X_175 = np.array(X_175).reshape(-1,IMG_SIZE, IMG_SIZE, 1)"
   ]
  },
  {
   "cell_type": "code",
   "execution_count": null,
   "id": "unlike-tokyo",
   "metadata": {},
   "outputs": [],
   "source": [
    "X_175 = X_175/255.0\n",
    "y_175 = np.array(y_175)\n",
    "\n",
    "X_train_175, X_test_175, y_train_175, y_test_175 = train_test_split(X_175, y_175, test_size=0.20)"
   ]
  },
  {
   "cell_type": "code",
   "execution_count": null,
   "id": "greek-tutorial",
   "metadata": {},
   "outputs": [],
   "source": [
    "model_175 = Sequential()\n",
    "\n",
    "# Step 1 - Convolution\n",
    "model_175.add(Convolution2D(32, 3, 3, input_shape = (150, 150, 1), padding='same', activation = 'relu'))\n",
    "model_175.add(MaxPooling2D(pool_size = (2, 2)))\n",
    "\n",
    "\n",
    "# Step 2 - Adding some other convolutional and Maxpool layers\n",
    "model_175.add(Convolution2D(32, 3, 3, padding='same', activation = 'relu'))\n",
    "model_175.add(MaxPooling2D(pool_size = (2, 2)))\n",
    "\n",
    "model_175.add(Convolution2D(32, 3, 3, padding='same', activation = 'relu'))\n",
    "model_175.add(MaxPooling2D(pool_size = (2, 2)))\n",
    "\n",
    "model_175.add(Convolution2D(32, 3, 3, padding='same', activation = 'relu'))\n",
    "\n",
    "# Step 3 - Flattening\n",
    "model_175.add(Flatten())\n",
    "\n",
    "\n",
    "# Step 4 - Full connection\n",
    "model_175.add(Dense(128, activation = 'relu'))\n",
    "model_175.add(Dense(27, activation = 'sigmoid'))"
   ]
  },
  {
   "cell_type": "code",
   "execution_count": null,
   "id": "legislative-continent",
   "metadata": {},
   "outputs": [],
   "source": [
    "# Compiling the CNN\n",
    "\n",
    "# adam = Adam()\n",
    "model_175.compile(optimizer = 'adam', \n",
    "              loss = 'sparse_categorical_crossentropy', \n",
    "              metrics = ['accuracy'])"
   ]
  },
  {
   "cell_type": "code",
   "execution_count": null,
   "id": "ceramic-islam",
   "metadata": {},
   "outputs": [],
   "source": [
    "# train model\n",
    "history_175 = model_175.fit(X_train_150,y_train_150,\n",
    "    batch_size=10,\n",
    "    epochs=20,\n",
    "    validation_split=0.10)"
   ]
  },
  {
   "cell_type": "code",
   "execution_count": null,
   "id": "fifteen-orlando",
   "metadata": {},
   "outputs": [],
   "source": [
    "y_pred_175 = model_175.predict(X_test_175)\n",
    "y_pred_175 = np.argmax(y_pred_175, axis=-1)\n",
    "print(classification_report(y_test_175, y_pred_175))"
   ]
  },
  {
   "cell_type": "code",
   "execution_count": null,
   "id": "former-debate",
   "metadata": {},
   "outputs": [],
   "source": [
    "train_loss_175, train_accuracy_175 = model_175.evaluate(X_train_175, y_train_175)\n",
    "test_loss_175, test_acc_175 = model_175.evaluate(X_test_175, y_test_175)"
   ]
  },
  {
   "cell_type": "code",
   "execution_count": null,
   "id": "spectacular-education",
   "metadata": {},
   "outputs": [],
   "source": []
  },
  {
   "cell_type": "code",
   "execution_count": null,
   "id": "valid-satellite",
   "metadata": {},
   "outputs": [],
   "source": []
  },
  {
   "cell_type": "code",
   "execution_count": null,
   "id": "palestinian-washer",
   "metadata": {},
   "outputs": [],
   "source": [
    "model_175_2 = Sequential()\n",
    "\n",
    "# Step 1 - Convolution\n",
    "model_175_2.add(Convolution2D(32, 3, 3, input_shape = (150, 150, 1), padding='same', activation = 'relu'))\n",
    "model_175_2.add(MaxPooling2D(pool_size = (2, 2)))\n",
    "\n",
    "\n",
    "# Step 2 - Adding some other convolutional and Maxpool layers\n",
    "model_175_2.add(Convolution2D(32, 3, 3, padding='same', activation = 'relu'))\n",
    "model_175_2.add(MaxPooling2D(pool_size = (2, 2)))\n",
    "\n",
    "model_175_2.add(Convolution2D(32, 3, 3, padding='same', activation = 'relu'))\n",
    "model_175_2.add(MaxPooling2D(pool_size = (2, 2)))\n",
    "\n",
    "model_175_2.add(Convolution2D(32, 3, 3, padding='same', activation = 'relu'))\n",
    "\n",
    "# Step 3 - Flattening\n",
    "model_175_2.add(Flatten())\n",
    "\n",
    "\n",
    "# Step 4 - Full connection\n",
    "model_175_2.add(Dense(128, activation = 'relu'))\n",
    "model_175_2.add(Dense(27, activation = 'softmax'))"
   ]
  },
  {
   "cell_type": "code",
   "execution_count": null,
   "id": "changed-raleigh",
   "metadata": {},
   "outputs": [],
   "source": [
    "# Compiling the CNN\n",
    "\n",
    "# adam = Adam()\n",
    "model_175_2.compile(optimizer = 'adam', \n",
    "              loss = 'sparse_categorical_crossentropy', \n",
    "              metrics = ['accuracy'])"
   ]
  },
  {
   "cell_type": "code",
   "execution_count": null,
   "id": "secure-authentication",
   "metadata": {},
   "outputs": [],
   "source": [
    "# train model\n",
    "history_175_2 = model_175_2.fit(X_train_150,y_train_150,\n",
    "    batch_size=10,\n",
    "    epochs=20,\n",
    "    validation_split=0.10)"
   ]
  },
  {
   "cell_type": "code",
   "execution_count": null,
   "id": "seventh-madonna",
   "metadata": {},
   "outputs": [],
   "source": [
    "y_pred_175_2 = model_175_2.predict(X_test_175)\n",
    "y_pred_175_2 = np.argmax(y_pred_175_2, axis=-1)\n",
    "print(classification_report(y_test_175, y_pred_175_2))"
   ]
  },
  {
   "cell_type": "code",
   "execution_count": null,
   "id": "spare-regular",
   "metadata": {},
   "outputs": [],
   "source": [
    "train_loss_175_2, train_accuracy_175_2 = model_175_2.evaluate(X_train_175, y_train_175)\n",
    "test_loss_175_2, test_acc_175_2 = model_175_2.evaluate(X_test_175, y_test_175)"
   ]
  },
  {
   "cell_type": "code",
   "execution_count": null,
   "id": "cooked-column",
   "metadata": {},
   "outputs": [],
   "source": []
  },
  {
   "cell_type": "code",
   "execution_count": null,
   "id": "automotive-hazard",
   "metadata": {},
   "outputs": [],
   "source": []
  },
  {
   "cell_type": "markdown",
   "id": "expanded-colors",
   "metadata": {},
   "source": [
    "### 200 Per Class"
   ]
  },
  {
   "cell_type": "code",
   "execution_count": null,
   "id": "painful-hierarchy",
   "metadata": {},
   "outputs": [],
   "source": [
    "TRAIN_DATADIR = \"./data/ChiplessRFID/train/\"\n",
    "training_data_200 = []\n",
    "CATEGORIES = ['Tag01', 'Tag02', 'Tag03', 'Tag04','Tag05','Tag06','Tag07','Tag08','Tag09','Tag10','Tag11','Tag12','Tag13',\n",
    "               'Tag14','Tag15','Tag16','Tag17','Tag18','Tag19','Tag20','Tag21','Tag22','Tag23','Tag24','Tag25','Tag26',\n",
    "               'Tag27']\n",
    "IMG_SIZE = 150\n",
    "\n",
    "def create_training_data_200():\n",
    "    for category in CATEGORIES:\n",
    "        \n",
    "        path = os.path.join(TRAIN_DATADIR, category)\n",
    "        class_num = CATEGORIES.index(category)\n",
    "        i = 0\n",
    "        for img in os.listdir(path): \n",
    "            i+= 1\n",
    "            img_array = cv2.imread(os.path.join(path, img), cv2.IMREAD_GRAYSCALE)\n",
    "            new_array = cv2.resize(img_array, (IMG_SIZE, IMG_SIZE))\n",
    "            training_data_200.append([new_array, class_num])\n",
    "            if i == 200:\n",
    "                break\n",
    "\n",
    "create_training_data_200()"
   ]
  },
  {
   "cell_type": "code",
   "execution_count": null,
   "id": "stretch-muslim",
   "metadata": {},
   "outputs": [],
   "source": [
    "### Shuffling the dataset\n",
    "import random\n",
    "\n",
    "random.shuffle(training_data_150)\n",
    "\n",
    "X_200 = []\n",
    "y_200 = []\n",
    "\n",
    "for features, label in training_data_200:\n",
    "    X_200.append(features)\n",
    "    y_200.append(label)\n",
    "\n",
    "X_200 = np.array(X_200).reshape(-1,IMG_SIZE, IMG_SIZE, 1)"
   ]
  },
  {
   "cell_type": "code",
   "execution_count": null,
   "id": "accessible-material",
   "metadata": {},
   "outputs": [],
   "source": [
    "X_200 = X_200/255.0\n",
    "y_200 = np.array(y_200)\n",
    "\n",
    "X_train_200, X_test_200, y_train_200, y_test_200 = train_test_split(X_200, y_200, test_size=0.20)"
   ]
  },
  {
   "cell_type": "code",
   "execution_count": null,
   "id": "abstract-quantum",
   "metadata": {},
   "outputs": [],
   "source": [
    "model_200 = Sequential()\n",
    "\n",
    "# Step 1 - Convolution\n",
    "model_200.add(Convolution2D(32, 3, 3, input_shape = (150, 150, 1), padding='same', activation = 'relu'))\n",
    "model_200.add(MaxPooling2D(pool_size = (2, 2)))\n",
    "\n",
    "\n",
    "# Step 2 - Adding some other convolutional and Maxpool layers\n",
    "model_200.add(Convolution2D(32, 3, 3, padding='same', activation = 'relu'))\n",
    "model_200.add(MaxPooling2D(pool_size = (2, 2)))\n",
    "\n",
    "model_200.add(Convolution2D(32, 3, 3, padding='same', activation = 'relu'))\n",
    "model_200.add(MaxPooling2D(pool_size = (2, 2)))\n",
    "\n",
    "model_200.add(Convolution2D(32, 3, 3, padding='same', activation = 'relu'))\n",
    "\n",
    "# Step 3 - Flattening\n",
    "model_200.add(Flatten())\n",
    "\n",
    "\n",
    "# Step 4 - Full connection\n",
    "model_200.add(Dense(128, activation = 'relu'))\n",
    "model_200.add(Dense(27, activation = 'sigmoid'))"
   ]
  },
  {
   "cell_type": "code",
   "execution_count": null,
   "id": "actual-graphic",
   "metadata": {},
   "outputs": [],
   "source": [
    "# Compiling the CNN\n",
    "\n",
    "# adam = Adam()\n",
    "model_200.compile(optimizer = 'adam', \n",
    "              loss = 'sparse_categorical_crossentropy', \n",
    "              metrics = ['accuracy'])"
   ]
  },
  {
   "cell_type": "code",
   "execution_count": null,
   "id": "handmade-scale",
   "metadata": {},
   "outputs": [],
   "source": [
    "# train model\n",
    "history_200 = model_200.fit(X_train_200,y_train_200,\n",
    "    batch_size=10,\n",
    "    epochs=20,\n",
    "    validation_split=0.10)"
   ]
  },
  {
   "cell_type": "code",
   "execution_count": null,
   "id": "irish-demographic",
   "metadata": {},
   "outputs": [],
   "source": [
    "y_pred_200 = model_200.predict(X_test_200)\n",
    "y_pred_200 = np.argmax(y_pred_200, axis=-1)\n",
    "print(classification_report(y_test_200, y_pred_200))"
   ]
  },
  {
   "cell_type": "code",
   "execution_count": null,
   "id": "plastic-trace",
   "metadata": {},
   "outputs": [],
   "source": [
    "train_loss_200, train_accuracy_200 = model_200.evaluate(X_train_200, y_train_200)\n",
    "test_loss_200, test_acc_200 = model_200.evaluate(X_test_200, y_test_200)"
   ]
  },
  {
   "cell_type": "code",
   "execution_count": null,
   "id": "juvenile-compensation",
   "metadata": {},
   "outputs": [],
   "source": []
  },
  {
   "cell_type": "code",
   "execution_count": null,
   "id": "medium-albania",
   "metadata": {},
   "outputs": [],
   "source": []
  },
  {
   "cell_type": "code",
   "execution_count": null,
   "id": "juvenile-communist",
   "metadata": {},
   "outputs": [],
   "source": [
    "model_200_2 = Sequential()\n",
    "\n",
    "# Step 1 - Convolution\n",
    "model_200_2.add(Convolution2D(32, 3, 3, input_shape = (150, 150, 1), padding='same', activation = 'relu'))\n",
    "model_200_2.add(MaxPooling2D(pool_size = (2, 2)))\n",
    "\n",
    "\n",
    "# Step 2 - Adding some other convolutional and Maxpool layers\n",
    "model_200_2.add(Convolution2D(32, 3, 3, padding='same', activation = 'relu'))\n",
    "model_200_2.add(MaxPooling2D(pool_size = (2, 2)))\n",
    "\n",
    "model_200_2.add(Convolution2D(32, 3, 3, padding='same', activation = 'relu'))\n",
    "model_200_2.add(MaxPooling2D(pool_size = (2, 2)))\n",
    "\n",
    "model_200_2.add(Convolution2D(32, 3, 3, padding='same', activation = 'relu'))\n",
    "\n",
    "# Step 3 - Flattening\n",
    "model_200_2.add(Flatten())\n",
    "\n",
    "\n",
    "# Step 4 - Full connection\n",
    "model_200_2.add(Dense(128, activation = 'relu'))\n",
    "model_200_2.add(Dense(27, activation = 'softmax'))"
   ]
  },
  {
   "cell_type": "code",
   "execution_count": null,
   "id": "macro-athens",
   "metadata": {},
   "outputs": [],
   "source": [
    "# Compiling the CNN\n",
    "\n",
    "# adam = Adam()\n",
    "model_200_2.compile(optimizer = 'adam', \n",
    "              loss = 'sparse_categorical_crossentropy', \n",
    "              metrics = ['accuracy'])"
   ]
  },
  {
   "cell_type": "code",
   "execution_count": null,
   "id": "alpine-genius",
   "metadata": {},
   "outputs": [],
   "source": [
    "# train model\n",
    "history_200_2 = model_200_2.fit(X_train_200,y_train_200,\n",
    "    batch_size=10,\n",
    "    epochs=20,\n",
    "    validation_split=0.10)"
   ]
  },
  {
   "cell_type": "code",
   "execution_count": null,
   "id": "completed-mercy",
   "metadata": {},
   "outputs": [],
   "source": [
    "y_pred_200_2 = model_200_2.predict(X_test_200)\n",
    "y_pred_200_2 = np.argmax(y_pred_200_2, axis=-1)\n",
    "print(classification_report(y_test_200, y_pred_200_2))"
   ]
  },
  {
   "cell_type": "code",
   "execution_count": null,
   "id": "chubby-spelling",
   "metadata": {},
   "outputs": [],
   "source": [
    "train_loss_200_2, train_accuracy_200_2 = model_200_2.evaluate(X_train_200, y_train_200)\n",
    "test_loss_200_2, test_acc_200_2 = model_200_2.evaluate(X_test_200, y_test_200)"
   ]
  },
  {
   "cell_type": "code",
   "execution_count": null,
   "id": "pursuant-poster",
   "metadata": {},
   "outputs": [],
   "source": []
  },
  {
   "cell_type": "code",
   "execution_count": null,
   "id": "collectible-event",
   "metadata": {},
   "outputs": [],
   "source": []
  },
  {
   "cell_type": "markdown",
   "id": "unlimited-woman",
   "metadata": {},
   "source": [
    "### 225 Per Class"
   ]
  },
  {
   "cell_type": "code",
   "execution_count": null,
   "id": "advanced-auction",
   "metadata": {},
   "outputs": [],
   "source": [
    "TRAIN_DATADIR = \"./data/ChiplessRFID/train/\"\n",
    "training_data_225 = []\n",
    "CATEGORIES = ['Tag01', 'Tag02', 'Tag03', 'Tag04','Tag05','Tag06','Tag07','Tag08','Tag09','Tag10','Tag11','Tag12','Tag13',\n",
    "               'Tag14','Tag15','Tag16','Tag17','Tag18','Tag19','Tag20','Tag21','Tag22','Tag23','Tag24','Tag25','Tag26',\n",
    "               'Tag27']\n",
    "IMG_SIZE = 150\n",
    "\n",
    "def create_training_data_225():\n",
    "    for category in CATEGORIES:\n",
    "        \n",
    "        path = os.path.join(TRAIN_DATADIR, category)\n",
    "        class_num = CATEGORIES.index(category)\n",
    "        i = 0\n",
    "        for img in os.listdir(path): \n",
    "            i+= 1\n",
    "            img_array = cv2.imread(os.path.join(path, img), cv2.IMREAD_GRAYSCALE)\n",
    "            new_array = cv2.resize(img_array, (IMG_SIZE, IMG_SIZE))\n",
    "            training_data_225.append([new_array, class_num])\n",
    "            if i == 225:\n",
    "                break\n",
    "\n",
    "create_training_data_225()"
   ]
  },
  {
   "cell_type": "code",
   "execution_count": null,
   "id": "toxic-colorado",
   "metadata": {},
   "outputs": [],
   "source": [
    "### Shuffling the dataset\n",
    "import random\n",
    "\n",
    "random.shuffle(training_data_150)\n",
    "\n",
    "X_225 = []\n",
    "y_225 = []\n",
    "\n",
    "for features, label in training_data_225:\n",
    "    X_225.append(features)\n",
    "    y_225.append(label)\n",
    "\n",
    "X_225 = np.array(X_225).reshape(-1,IMG_SIZE, IMG_SIZE, 1)"
   ]
  },
  {
   "cell_type": "code",
   "execution_count": null,
   "id": "moral-giant",
   "metadata": {},
   "outputs": [],
   "source": [
    "X_225 = X_225/255.0\n",
    "y_225 = np.array(y_225)\n",
    "\n",
    "X_train_225, X_test_225, y_train_225, y_test_225 = train_test_split(X_225, y_225, test_size=0.20)"
   ]
  },
  {
   "cell_type": "code",
   "execution_count": null,
   "id": "composite-experience",
   "metadata": {},
   "outputs": [],
   "source": [
    "model_225 = Sequential()\n",
    "\n",
    "# Step 1 - Convolution\n",
    "model_225.add(Convolution2D(32, 3, 3, input_shape = (150, 150, 1), padding='same', activation = 'relu'))\n",
    "model_225.add(MaxPooling2D(pool_size = (2, 2)))\n",
    "\n",
    "\n",
    "# Step 2 - Adding some other convolutional and Maxpool layers\n",
    "model_225.add(Convolution2D(32, 3, 3, padding='same', activation = 'relu'))\n",
    "model_225.add(MaxPooling2D(pool_size = (2, 2)))\n",
    "\n",
    "model_225.add(Convolution2D(32, 3, 3, padding='same', activation = 'relu'))\n",
    "model_225.add(MaxPooling2D(pool_size = (2, 2)))\n",
    "\n",
    "model_225.add(Convolution2D(32, 3, 3, padding='same', activation = 'relu'))\n",
    "\n",
    "# Step 3 - Flattening\n",
    "model_225.add(Flatten())\n",
    "\n",
    "\n",
    "# Step 4 - Full connection\n",
    "model_225.add(Dense(128, activation = 'relu'))\n",
    "model_225.add(Dense(27, activation = 'sigmoid'))"
   ]
  },
  {
   "cell_type": "code",
   "execution_count": null,
   "id": "compatible-psychiatry",
   "metadata": {},
   "outputs": [],
   "source": [
    "# Compiling the CNN\n",
    "\n",
    "# adam = Adam()\n",
    "model_225.compile(optimizer = 'adam', \n",
    "              loss = 'sparse_categorical_crossentropy', \n",
    "              metrics = ['accuracy'])"
   ]
  },
  {
   "cell_type": "code",
   "execution_count": null,
   "id": "thermal-chorus",
   "metadata": {},
   "outputs": [],
   "source": [
    "# train model\n",
    "history_225 = model_225.fit(X_train_225,y_train_225,\n",
    "    batch_size=10,\n",
    "    epochs=20,\n",
    "    validation_split=0.10)"
   ]
  },
  {
   "cell_type": "code",
   "execution_count": null,
   "id": "broke-acrylic",
   "metadata": {},
   "outputs": [],
   "source": [
    "y_pred_225 = model_225.predict(X_test_225)\n",
    "y_pred_225 = np.argmax(y_pred_225, axis=-1)\n",
    "print(classification_report(y_test_225, y_pred_225))"
   ]
  },
  {
   "cell_type": "code",
   "execution_count": null,
   "id": "acting-security",
   "metadata": {},
   "outputs": [],
   "source": [
    "train_loss_225, train_accuracy_225 = model_225.evaluate(X_train_225, y_train_225)\n",
    "test_loss_225, test_acc_225 = model_225.evaluate(X_test_225, y_test_225)"
   ]
  },
  {
   "cell_type": "code",
   "execution_count": null,
   "id": "documented-infrared",
   "metadata": {},
   "outputs": [],
   "source": []
  },
  {
   "cell_type": "code",
   "execution_count": null,
   "id": "laughing-startup",
   "metadata": {},
   "outputs": [],
   "source": [
    "model_225_2 = Sequential()\n",
    "\n",
    "# Step 1 - Convolution\n",
    "model_225_2.add(Convolution2D(32, 3, 3, input_shape = (150, 150, 1), padding='same', activation = 'relu'))\n",
    "model_225_2.add(MaxPooling2D(pool_size = (2, 2)))\n",
    "\n",
    "\n",
    "# Step 2 - Adding some other convolutional and Maxpool layers\n",
    "model_225_2.add(Convolution2D(32, 3, 3, padding='same', activation = 'relu'))\n",
    "model_225_2.add(MaxPooling2D(pool_size = (2, 2)))\n",
    "\n",
    "model_225_2.add(Convolution2D(32, 3, 3, padding='same', activation = 'relu'))\n",
    "model_225_2.add(MaxPooling2D(pool_size = (2, 2)))\n",
    "\n",
    "model_225_2.add(Convolution2D(32, 3, 3, padding='same', activation = 'relu'))\n",
    "\n",
    "# Step 3 - Flattening\n",
    "model_225_2.add(Flatten())\n",
    "\n",
    "\n",
    "# Step 4 - Full connection\n",
    "model_225_2.add(Dense(128, activation = 'relu'))\n",
    "model_225_2.add(Dense(27, activation = 'softmax'))"
   ]
  },
  {
   "cell_type": "code",
   "execution_count": null,
   "id": "mechanical-strike",
   "metadata": {},
   "outputs": [],
   "source": [
    "# Compiling the CNN\n",
    "\n",
    "# adam = Adam()\n",
    "model_225_2.compile(optimizer = 'adam', \n",
    "              loss = 'sparse_categorical_crossentropy', \n",
    "              metrics = ['accuracy'])"
   ]
  },
  {
   "cell_type": "code",
   "execution_count": null,
   "id": "velvet-uncertainty",
   "metadata": {},
   "outputs": [],
   "source": [
    "# train model\n",
    "history_225_2 = model_225_2.fit(X_train_225,y_train_225,\n",
    "    batch_size=10,\n",
    "    epochs=20,\n",
    "    validation_split=0.10)"
   ]
  },
  {
   "cell_type": "code",
   "execution_count": null,
   "id": "featured-doubt",
   "metadata": {},
   "outputs": [],
   "source": [
    "y_pred_225_2 = model_225_2.predict(X_test_225)\n",
    "y_pred_225_2 = np.argmax(y_pred_225_2, axis=-1)\n",
    "print(classification_report(y_test_225, y_pred_225_2))"
   ]
  },
  {
   "cell_type": "code",
   "execution_count": null,
   "id": "occupied-venue",
   "metadata": {},
   "outputs": [],
   "source": [
    "train_loss_225_2, train_accuracy_225_2 = model_225_2.evaluate(X_train_225, y_train_225)\n",
    "test_loss_225_2, test_acc_225_2 = model_225.evaluate(X_test_225, y_test_225)"
   ]
  },
  {
   "cell_type": "code",
   "execution_count": null,
   "id": "ranging-seating",
   "metadata": {},
   "outputs": [],
   "source": []
  },
  {
   "cell_type": "code",
   "execution_count": null,
   "id": "indian-statistics",
   "metadata": {},
   "outputs": [],
   "source": []
  },
  {
   "cell_type": "code",
   "execution_count": null,
   "id": "tight-malawi",
   "metadata": {},
   "outputs": [],
   "source": []
  },
  {
   "cell_type": "code",
   "execution_count": null,
   "id": "mental-bacon",
   "metadata": {},
   "outputs": [],
   "source": []
  },
  {
   "cell_type": "markdown",
   "id": "qualified-plenty",
   "metadata": {},
   "source": [
    "### 250 Per Class"
   ]
  },
  {
   "cell_type": "code",
   "execution_count": 2,
   "id": "cardiac-diesel",
   "metadata": {},
   "outputs": [],
   "source": [
    "TRAIN_DATADIR = \"./data/ChiplessRFID/train/\"\n",
    "training_data_250 = []\n",
    "CATEGORIES = ['Tag01', 'Tag02', 'Tag03', 'Tag04','Tag05','Tag06','Tag07','Tag08','Tag09','Tag10','Tag11','Tag12','Tag13',\n",
    "               'Tag14','Tag15','Tag16','Tag17','Tag18','Tag19','Tag20','Tag21','Tag22','Tag23','Tag24','Tag25','Tag26',\n",
    "               'Tag27']\n",
    "IMG_SIZE = 150\n",
    "\n",
    "def create_training_data_250():\n",
    "    for category in CATEGORIES:\n",
    "        \n",
    "        path = os.path.join(TRAIN_DATADIR, category)\n",
    "        class_num = CATEGORIES.index(category)\n",
    "        i = 0\n",
    "        for img in os.listdir(path): \n",
    "            i+= 1\n",
    "            img_array = cv2.imread(os.path.join(path, img), cv2.IMREAD_GRAYSCALE)\n",
    "            new_array = cv2.resize(img_array, (IMG_SIZE, IMG_SIZE))\n",
    "            training_data_250.append([new_array, class_num])\n",
    "            if i == 250:\n",
    "                break\n",
    "\n",
    "create_training_data_250()"
   ]
  },
  {
   "cell_type": "code",
   "execution_count": 3,
   "id": "celtic-cleaner",
   "metadata": {},
   "outputs": [],
   "source": [
    "### Shuffling the dataset\n",
    "import random\n",
    "\n",
    "random.shuffle(training_data_250)\n",
    "\n",
    "X_250 = []\n",
    "y_250 = []\n",
    "\n",
    "for features, label in training_data_250:\n",
    "    X_250.append(features)\n",
    "    y_250.append(label)\n",
    "\n",
    "X_250 = np.array(X_250).reshape(-1,IMG_SIZE, IMG_SIZE, 1)"
   ]
  },
  {
   "cell_type": "code",
   "execution_count": 4,
   "id": "level-general",
   "metadata": {},
   "outputs": [],
   "source": [
    "X_250 = X_250/255.0\n",
    "y_250 = np.array(y_250)\n",
    "\n",
    "X_train_250, X_test_250, y_train_250, y_test_250 = train_test_split(X_250, y_250, test_size=0.20)"
   ]
  },
  {
   "cell_type": "code",
   "execution_count": 5,
   "id": "clear-exhibit",
   "metadata": {},
   "outputs": [],
   "source": [
    "model_250 = Sequential()\n",
    "\n",
    "# Step 1 - Convolution\n",
    "model_250.add(Convolution2D(32, 3, 3, input_shape = (150, 150, 1), padding='same', activation = 'relu'))\n",
    "model_250.add(MaxPooling2D(pool_size = (2, 2)))\n",
    "\n",
    "\n",
    "# Step 2 - Adding some other convolutional and Maxpool layers\n",
    "model_250.add(Convolution2D(32, 3, 3, padding='same', activation = 'relu'))\n",
    "model_250.add(MaxPooling2D(pool_size = (2, 2)))\n",
    "\n",
    "model_250.add(Convolution2D(32, 3, 3, padding='same', activation = 'relu'))\n",
    "model_250.add(MaxPooling2D(pool_size = (2, 2)))\n",
    "\n",
    "model_250.add(Convolution2D(32, 3, 3, padding='same', activation = 'relu'))\n",
    "\n",
    "# Step 3 - Flattening\n",
    "model_250.add(Flatten())\n",
    "\n",
    "\n",
    "# Step 4 - Full connection\n",
    "model_250.add(Dense(128, activation = 'relu'))\n",
    "model_250.add(Dense(27, activation = 'softmax'))"
   ]
  },
  {
   "cell_type": "code",
   "execution_count": 6,
   "id": "educated-process",
   "metadata": {},
   "outputs": [],
   "source": [
    "# Compiling the CNN\n",
    "\n",
    "# adam = Adam()\n",
    "model_250.compile(optimizer = 'adam', \n",
    "              loss = 'sparse_categorical_crossentropy', \n",
    "              metrics = ['accuracy'])"
   ]
  },
  {
   "cell_type": "code",
   "execution_count": 7,
   "id": "undefined-chambers",
   "metadata": {},
   "outputs": [
    {
     "name": "stdout",
     "output_type": "stream",
     "text": [
      "Epoch 1/20\n",
      "486/486 [==============================] - 4s 8ms/step - loss: 3.2701 - accuracy: 0.0461 - val_loss: 2.7309 - val_accuracy: 0.1519\n",
      "Epoch 2/20\n",
      "486/486 [==============================] - 4s 8ms/step - loss: 2.4551 - accuracy: 0.2280 - val_loss: 1.6492 - val_accuracy: 0.4593\n",
      "Epoch 3/20\n",
      "486/486 [==============================] - 4s 8ms/step - loss: 1.4006 - accuracy: 0.5303 - val_loss: 0.9595 - val_accuracy: 0.6704\n",
      "Epoch 4/20\n",
      "486/486 [==============================] - 4s 8ms/step - loss: 0.7945 - accuracy: 0.7500 - val_loss: 0.5946 - val_accuracy: 0.8074\n",
      "Epoch 5/20\n",
      "486/486 [==============================] - 3s 7ms/step - loss: 0.5054 - accuracy: 0.8488 - val_loss: 0.6103 - val_accuracy: 0.7741\n",
      "Epoch 6/20\n",
      "486/486 [==============================] - 3s 7ms/step - loss: 0.4030 - accuracy: 0.8832 - val_loss: 0.3606 - val_accuracy: 0.8759\n",
      "Epoch 7/20\n",
      "486/486 [==============================] - 3s 7ms/step - loss: 0.2966 - accuracy: 0.9172 - val_loss: 0.2584 - val_accuracy: 0.9185\n",
      "Epoch 8/20\n",
      "486/486 [==============================] - 4s 7ms/step - loss: 0.2288 - accuracy: 0.9302 - val_loss: 0.2684 - val_accuracy: 0.9056\n",
      "Epoch 9/20\n",
      "486/486 [==============================] - 4s 7ms/step - loss: 0.1966 - accuracy: 0.9394 - val_loss: 0.2176 - val_accuracy: 0.9204\n",
      "Epoch 10/20\n",
      "486/486 [==============================] - 4s 8ms/step - loss: 0.2104 - accuracy: 0.9353 - val_loss: 0.1821 - val_accuracy: 0.9444\n",
      "Epoch 11/20\n",
      "486/486 [==============================] - 4s 8ms/step - loss: 0.1537 - accuracy: 0.9542 - val_loss: 0.1661 - val_accuracy: 0.9500\n",
      "Epoch 12/20\n",
      "486/486 [==============================] - 4s 8ms/step - loss: 0.1316 - accuracy: 0.9579 - val_loss: 0.1435 - val_accuracy: 0.9537\n",
      "Epoch 13/20\n",
      "486/486 [==============================] - 4s 9ms/step - loss: 0.1297 - accuracy: 0.9578 - val_loss: 0.1243 - val_accuracy: 0.9574\n",
      "Epoch 14/20\n",
      "486/486 [==============================] - 4s 8ms/step - loss: 0.0977 - accuracy: 0.9676 - val_loss: 0.2145 - val_accuracy: 0.9389\n",
      "Epoch 15/20\n",
      "486/486 [==============================] - 4s 8ms/step - loss: 0.1433 - accuracy: 0.9569 - val_loss: 0.1475 - val_accuracy: 0.9481\n",
      "Epoch 16/20\n",
      "486/486 [==============================] - 5s 9ms/step - loss: 0.1034 - accuracy: 0.9668 - val_loss: 0.1063 - val_accuracy: 0.9704\n",
      "Epoch 17/20\n",
      "486/486 [==============================] - 4s 9ms/step - loss: 0.1163 - accuracy: 0.9613 - val_loss: 0.2491 - val_accuracy: 0.9167\n",
      "Epoch 18/20\n",
      "486/486 [==============================] - 4s 8ms/step - loss: 0.0854 - accuracy: 0.9718 - val_loss: 0.0912 - val_accuracy: 0.9796\n",
      "Epoch 19/20\n",
      "486/486 [==============================] - 4s 9ms/step - loss: 0.0772 - accuracy: 0.9762 - val_loss: 0.0681 - val_accuracy: 0.9852\n",
      "Epoch 20/20\n",
      "486/486 [==============================] - 4s 9ms/step - loss: 0.0631 - accuracy: 0.9815 - val_loss: 0.1441 - val_accuracy: 0.9556\n"
     ]
    }
   ],
   "source": [
    "# train model\n",
    "history_250 = model_250.fit(X_train_250,y_train_250,\n",
    "    batch_size=10,\n",
    "    epochs=20,\n",
    "    validation_split=0.10)"
   ]
  },
  {
   "cell_type": "code",
   "execution_count": 8,
   "id": "combined-nickel",
   "metadata": {},
   "outputs": [
    {
     "name": "stdout",
     "output_type": "stream",
     "text": [
      "              precision    recall  f1-score   support\n",
      "\n",
      "           0       0.98      1.00      0.99        56\n",
      "           1       1.00      1.00      1.00        51\n",
      "           2       1.00      0.73      0.84        52\n",
      "           3       0.98      1.00      0.99        48\n",
      "           4       0.98      1.00      0.99        45\n",
      "           5       1.00      0.95      0.98        42\n",
      "           6       0.98      0.98      0.98        46\n",
      "           7       0.92      1.00      0.96        45\n",
      "           8       0.96      0.95      0.95        55\n",
      "           9       1.00      0.98      0.99        60\n",
      "          10       0.95      1.00      0.97        53\n",
      "          11       0.94      1.00      0.97        49\n",
      "          12       0.87      0.94      0.90        49\n",
      "          13       0.91      0.98      0.94        49\n",
      "          14       0.98      0.98      0.98        45\n",
      "          15       0.90      0.90      0.90        52\n",
      "          16       0.98      0.92      0.95        49\n",
      "          17       0.84      0.98      0.90        52\n",
      "          18       1.00      1.00      1.00        49\n",
      "          19       0.89      0.93      0.91        44\n",
      "          20       0.93      0.93      0.93        43\n",
      "          21       1.00      1.00      1.00        58\n",
      "          22       1.00      0.87      0.93        61\n",
      "          23       0.98      0.93      0.96        60\n",
      "          24       1.00      1.00      1.00        36\n",
      "          25       0.94      1.00      0.97        51\n",
      "          26       1.00      0.94      0.97        50\n",
      "\n",
      "    accuracy                           0.96      1350\n",
      "   macro avg       0.96      0.96      0.96      1350\n",
      "weighted avg       0.96      0.96      0.96      1350\n",
      "\n"
     ]
    }
   ],
   "source": [
    "y_pred_250 = model_250.predict(X_test_250)\n",
    "y_pred_250 = np.argmax(y_pred_250, axis=-1)\n",
    "print(classification_report(y_test_250, y_pred_250))"
   ]
  },
  {
   "cell_type": "code",
   "execution_count": 9,
   "id": "loving-plane",
   "metadata": {},
   "outputs": [
    {
     "name": "stdout",
     "output_type": "stream",
     "text": [
      "169/169 [==============================] - 2s 9ms/step - loss: 0.0631 - accuracy: 0.9794\n",
      "43/43 [==============================] - 0s 8ms/step - loss: 0.1520 - accuracy: 0.9578\n"
     ]
    }
   ],
   "source": [
    "train_loss_250, train_accuracy_250 = model_250.evaluate(X_train_250, y_train_250)\n",
    "test_loss_250, test_acc_250 = model_250.evaluate(X_test_250, y_test_250)"
   ]
  },
  {
   "cell_type": "code",
   "execution_count": 10,
   "id": "collective-domestic",
   "metadata": {},
   "outputs": [
    {
     "name": "stdout",
     "output_type": "stream",
     "text": [
      "169/169 [==============================] - 1s 8ms/step - loss: 0.0631 - accuracy: 0.9794\n",
      "43/43 [==============================] - 0s 8ms/step - loss: 0.1520 - accuracy: 0.9578\n"
     ]
    }
   ],
   "source": [
    "train_loss_250, train_accuracy_250 = model_250.evaluate(X_train_250, y_train_250)\n",
    "test_loss_250, test_acc_250 = model_250.evaluate(X_test_250, y_test_250)"
   ]
  },
  {
   "cell_type": "code",
   "execution_count": null,
   "id": "parliamentary-bhutan",
   "metadata": {},
   "outputs": [],
   "source": []
  },
  {
   "cell_type": "code",
   "execution_count": 11,
   "id": "japanese-palmer",
   "metadata": {},
   "outputs": [
    {
     "data": {
      "text/plain": [
       "[Text(0.5, 69.0, 'Predicted Class'), Text(114.0, 0.5, 'True Class')]"
      ]
     },
     "execution_count": 11,
     "metadata": {},
     "output_type": "execute_result"
    },
    {
     "data": {
      "image/png": "[encoded data removed]",
      "text/plain": [
       "<Figure size 1080x720 with 2 Axes>"
      ]
     },
     "metadata": {
      "needs_background": "light"
     },
     "output_type": "display_data"
    }
   ],
   "source": [
    "c_m = confusion_matrix(y_test_250, y_pred_250)\n",
    "\n",
    "fig, ax = plt.subplots(figsize=(15, 10))\n",
    "plt.xlabel('Predictions', fontsize=18)\n",
    "plt.ylabel('Actuals', fontsize=18)\n",
    "plt.title('Confusion Matrix', fontsize=18)\n",
    "s= sns.heatmap(c_m, annot=True, cmap='Blues')\n",
    "s.set(xlabel='Predicted Class', ylabel='True Class')"
   ]
  },
  {
   "cell_type": "code",
   "execution_count": 12,
   "id": "closed-average",
   "metadata": {},
   "outputs": [],
   "source": [
    "FP = c_m.sum(axis=0) - np.diag(c_m) \n",
    "FN = c_m.sum(axis=1) - np.diag(c_m)\n",
    "TP = np.diag(c_m)\n",
    "TN = c_m.sum() - (FP + FN + TP)\n",
    "\n",
    "FP = FP.astype(float)\n",
    "FN = FN.astype(float)\n",
    "TP = TP.astype(float)\n",
    "TN = TN.astype(float)\n",
    "\n",
    "# Sensitivity, hit rate, recall, or true positive rate\n",
    "TPR = TP/(TP+FN)\n",
    "# Specificity or true negative rate\n",
    "TNR = TN/(TN+FP) \n",
    "# Precision or positive predictive value\n",
    "PPV = TP/(TP+FP)\n",
    "# Negative predictive value\n",
    "NPV = TN/(TN+FN)\n",
    "# Fall out or false positive rate\n",
    "FPR = FP/(FP+TN)\n",
    "# False negative rate\n",
    "FNR = FN/(TP+FN)\n",
    "# False discovery rate\n",
    "FDR = FP/(TP+FP)\n",
    "# Overall accuracy for each class\n",
    "ACC = (TP+TN)/(TP+FP+FN+TN)"
   ]
  },
  {
   "cell_type": "code",
   "execution_count": null,
   "id": "interim-embassy",
   "metadata": {},
   "outputs": [],
   "source": []
  },
  {
   "cell_type": "code",
   "execution_count": 13,
   "id": "defensive-journalist",
   "metadata": {},
   "outputs": [
    {
     "name": "stdout",
     "output_type": "stream",
     "text": [
      "[1.         1.         0.73076923 1.         1.         0.95238095\n",
      " 0.97826087 1.         0.94545455 0.98333333 1.         1.\n",
      " 0.93877551 0.97959184 0.97777778 0.90384615 0.91836735 0.98076923\n",
      " 1.         0.93181818 0.93023256 1.         0.86885246 0.93333333\n",
      " 1.         1.         0.94      ]\n"
     ]
    }
   ],
   "source": [
    "import numpy as np\n",
    "\n",
    "# Confusion matrix\n",
    "confusion_matrix = c_m\n",
    "\n",
    "# Number of classes\n",
    "num_classes = confusion_matrix.shape[0]\n",
    "\n",
    "# False negative rate for each class\n",
    "false_negative_rate = np.zeros(num_classes)\n",
    "\n",
    "for i in range(num_classes):\n",
    "    false_negative_rate[i] = confusion_matrix[i,i] / np.sum(confusion_matrix[i,:])\n",
    "    \n",
    "print(false_negative_rate)\n"
   ]
  },
  {
   "cell_type": "code",
   "execution_count": 14,
   "id": "based-intervention",
   "metadata": {},
   "outputs": [
    {
     "data": {
      "text/plain": [
       "0.04097913629327998"
      ]
     },
     "execution_count": 14,
     "metadata": {},
     "output_type": "execute_result"
    }
   ],
   "source": [
    "false_negative_rate = sum(false_negative_rate)\n",
    "false_negative_rate = false_negative_rate/27\n",
    "false_negative_rate = 1-false_negative_rate\n",
    "false_negative_rate"
   ]
  },
  {
   "cell_type": "code",
   "execution_count": 15,
   "id": "serial-topic",
   "metadata": {},
   "outputs": [],
   "source": [
    "# calculate confusion matrix\n",
    "conf_matrix = c_m\n",
    "\n",
    "# calculate false positive rate\n",
    "fpr = c_m.sum(axis=0) - np.diag(c_m)\n",
    "fpr = fpr / c_m.sum(axis=0)\n",
    "\n",
    "fpr = sum(fpr)/27"
   ]
  },
  {
   "cell_type": "code",
   "execution_count": 16,
   "id": "dedicated-serum",
   "metadata": {},
   "outputs": [
    {
     "data": {
      "text/plain": [
       "0.04049596069500112"
      ]
     },
     "execution_count": 16,
     "metadata": {},
     "output_type": "execute_result"
    }
   ],
   "source": [
    "fpr"
   ]
  },
  {
   "cell_type": "code",
   "execution_count": null,
   "id": "corresponding-dress",
   "metadata": {},
   "outputs": [],
   "source": []
  },
  {
   "cell_type": "markdown",
   "id": "arranged-sauce",
   "metadata": {},
   "source": [
    "### 275 Per Class"
   ]
  },
  {
   "cell_type": "code",
   "execution_count": null,
   "id": "internal-combining",
   "metadata": {},
   "outputs": [],
   "source": [
    "TRAIN_DATADIR = \"./data/ChiplessRFID/train/\"\n",
    "training_data_275 = []\n",
    "CATEGORIES = ['Tag01', 'Tag02', 'Tag03', 'Tag04','Tag05','Tag06','Tag07','Tag08','Tag09','Tag10','Tag11','Tag12','Tag13',\n",
    "               'Tag14','Tag15','Tag16','Tag17','Tag18','Tag19','Tag20','Tag21','Tag22','Tag23','Tag24','Tag25','Tag26',\n",
    "               'Tag27']\n",
    "IMG_SIZE = 150\n",
    "\n",
    "def create_training_data_275():\n",
    "    for category in CATEGORIES:\n",
    "        \n",
    "        path = os.path.join(TRAIN_DATADIR, category)\n",
    "        class_num = CATEGORIES.index(category)\n",
    "        i = 0\n",
    "        for img in os.listdir(path): \n",
    "            i+= 1\n",
    "            img_array = cv2.imread(os.path.join(path, img), cv2.IMREAD_GRAYSCALE)\n",
    "            new_array = cv2.resize(img_array, (IMG_SIZE, IMG_SIZE))\n",
    "            training_data_275.append([new_array, class_num])\n",
    "            if i == 275:\n",
    "                break\n",
    "\n",
    "create_training_data_275()"
   ]
  },
  {
   "cell_type": "code",
   "execution_count": null,
   "id": "retained-reconstruction",
   "metadata": {},
   "outputs": [],
   "source": [
    "### Shuffling the dataset\n",
    "import random\n",
    "\n",
    "random.shuffle(training_data_275)\n",
    "\n",
    "X_275 = []\n",
    "y_275 = []\n",
    "\n",
    "for features, label in training_data_275:\n",
    "    X_275.append(features)\n",
    "    y_275.append(label)\n",
    "\n",
    "X_275 = np.array(X_275).reshape(-1,IMG_SIZE, IMG_SIZE, 1)"
   ]
  },
  {
   "cell_type": "code",
   "execution_count": null,
   "id": "european-worst",
   "metadata": {},
   "outputs": [],
   "source": [
    "X_275 = X_275/255.0\n",
    "y_275 = np.array(y_275)\n",
    "\n",
    "X_train_275, X_test_275, y_train_275, y_test_275 = train_test_split(X_275, y_275, test_size=0.20)"
   ]
  },
  {
   "cell_type": "code",
   "execution_count": null,
   "id": "satisfied-letters",
   "metadata": {},
   "outputs": [],
   "source": [
    "model_275 = Sequential()\n",
    "\n",
    "# Step 1 - Convolution\n",
    "model_275.add(Convolution2D(32, 3, 3, input_shape = (150, 150, 1), padding='same', activation = 'relu'))\n",
    "model_275.add(MaxPooling2D(pool_size = (2, 2)))\n",
    "\n",
    "\n",
    "# Step 2 - Adding some other convolutional and Maxpool layers\n",
    "model_275.add(Convolution2D(32, 3, 3, padding='same', activation = 'relu'))\n",
    "model_275.add(MaxPooling2D(pool_size = (2, 2)))\n",
    "\n",
    "model_275.add(Convolution2D(32, 3, 3, padding='same', activation = 'relu'))\n",
    "model_275.add(MaxPooling2D(pool_size = (2, 2)))\n",
    "\n",
    "model_275.add(Convolution2D(32, 3, 3, padding='same', activation = 'relu'))\n",
    "\n",
    "# Step 3 - Flattening\n",
    "model_275.add(Flatten())\n",
    "\n",
    "\n",
    "# Step 4 - Full connection\n",
    "model_275.add(Dense(128, activation = 'relu'))\n",
    "model_275.add(Dense(27, activation = 'sigmoid'))"
   ]
  },
  {
   "cell_type": "code",
   "execution_count": null,
   "id": "threaded-patrol",
   "metadata": {},
   "outputs": [],
   "source": [
    "# Compiling the CNN\n",
    "\n",
    "# adam = Adam()\n",
    "model_275.compile(optimizer = 'adam', \n",
    "              loss = 'sparse_categorical_crossentropy', \n",
    "              metrics = ['accuracy'])"
   ]
  },
  {
   "cell_type": "code",
   "execution_count": null,
   "id": "valid-purple",
   "metadata": {},
   "outputs": [],
   "source": [
    "# train model\n",
    "history_275 = model_275.fit(X_train_275,y_train_275,\n",
    "    batch_size=10,\n",
    "    epochs=20,\n",
    "    validation_split=0.10)"
   ]
  },
  {
   "cell_type": "code",
   "execution_count": null,
   "id": "native-entrance",
   "metadata": {},
   "outputs": [],
   "source": [
    "y_pred_275 = model_275.predict(X_test_275)\n",
    "y_pred_275 = np.argmax(y_pred_275, axis=-1)\n",
    "print(classification_report(y_test_275, y_pred_275))"
   ]
  },
  {
   "cell_type": "code",
   "execution_count": null,
   "id": "jewish-animal",
   "metadata": {},
   "outputs": [],
   "source": [
    "train_loss_275, train_accuracy_275 = model_275.evaluate(X_train_275, y_train_275)\n",
    "test_loss_275, test_acc_275 = model_275.evaluate(X_test_275, y_test_275)"
   ]
  },
  {
   "cell_type": "code",
   "execution_count": null,
   "id": "welsh-proposition",
   "metadata": {},
   "outputs": [],
   "source": [
    "train_loss_275, train_accuracy_275 = model_275.evaluate(X_train_275, y_train_275)\n",
    "test_loss_275, test_acc_275 = model_275.evaluate(X_test_275, y_test_275)"
   ]
  },
  {
   "cell_type": "code",
   "execution_count": null,
   "id": "expensive-aberdeen",
   "metadata": {},
   "outputs": [],
   "source": []
  },
  {
   "cell_type": "code",
   "execution_count": null,
   "id": "standing-drink",
   "metadata": {},
   "outputs": [],
   "source": []
  },
  {
   "cell_type": "code",
   "execution_count": null,
   "id": "activated-access",
   "metadata": {},
   "outputs": [],
   "source": []
  },
  {
   "cell_type": "code",
   "execution_count": null,
   "id": "twelve-disability",
   "metadata": {},
   "outputs": [],
   "source": []
  },
  {
   "cell_type": "code",
   "execution_count": null,
   "id": "consistent-infrastructure",
   "metadata": {},
   "outputs": [],
   "source": []
  },
  {
   "cell_type": "markdown",
   "id": "statutory-narrative",
   "metadata": {},
   "source": [
    "### 300 per Class"
   ]
  },
  {
   "cell_type": "code",
   "execution_count": null,
   "id": "banned-encounter",
   "metadata": {},
   "outputs": [],
   "source": [
    "TRAIN_DATADIR = \"./data/ChiplessRFID/train/\"\n",
    "training_data_300 = []\n",
    "CATEGORIES = ['Tag01', 'Tag02', 'Tag03', 'Tag04','Tag05','Tag06','Tag07','Tag08','Tag09','Tag10','Tag11','Tag12','Tag13',\n",
    "               'Tag14','Tag15','Tag16','Tag17','Tag18','Tag19','Tag20','Tag21','Tag22','Tag23','Tag24','Tag25','Tag26',\n",
    "               'Tag27']\n",
    "IMG_SIZE = 150\n",
    "\n",
    "def create_training_data_300():\n",
    "    for category in CATEGORIES:\n",
    "        \n",
    "        path = os.path.join(TRAIN_DATADIR, category)\n",
    "        class_num = CATEGORIES.index(category)\n",
    "        i = 0\n",
    "        for img in os.listdir(path): \n",
    "            i+= 1\n",
    "            img_array = cv2.imread(os.path.join(path, img), cv2.IMREAD_GRAYSCALE)\n",
    "            new_array = cv2.resize(img_array, (IMG_SIZE, IMG_SIZE))\n",
    "            training_data_300.append([new_array, class_num])\n",
    "            if i == 300:\n",
    "                break\n",
    "\n",
    "create_training_data_300()"
   ]
  },
  {
   "cell_type": "code",
   "execution_count": null,
   "id": "applicable-silly",
   "metadata": {},
   "outputs": [],
   "source": [
    "### Shuffling the dataset\n",
    "import random\n",
    "\n",
    "random.shuffle(training_data_300)\n",
    "\n",
    "X_300 = []\n",
    "y_300 = []\n",
    "\n",
    "for features, label in training_data_300:\n",
    "    X_300.append(features)\n",
    "    y_300.append(label)\n",
    "\n",
    "X_300 = np.array(X_300).reshape(-1,IMG_SIZE, IMG_SIZE, 1)"
   ]
  },
  {
   "cell_type": "code",
   "execution_count": null,
   "id": "judicial-helicopter",
   "metadata": {},
   "outputs": [],
   "source": [
    "X_300 = X_300/255.0\n",
    "y_300 = np.array(y_300)\n",
    "\n",
    "X_train_300, X_test_300, y_train_300, y_test_300 = train_test_split(X_300, y_300, test_size=0.20)"
   ]
  },
  {
   "cell_type": "code",
   "execution_count": null,
   "id": "quality-membership",
   "metadata": {},
   "outputs": [],
   "source": [
    "model_300 = Sequential()\n",
    "\n",
    "# Step 1 - Convolution\n",
    "model_300.add(Convolution2D(32, 3, 3, input_shape = (150, 150, 1), padding='same', activation = 'relu'))\n",
    "model_300.add(MaxPooling2D(pool_size = (2, 2)))\n",
    "\n",
    "\n",
    "# Step 2 - Adding some other convolutional and Maxpool layers\n",
    "model_300.add(Convolution2D(32, 3, 3, padding='same', activation = 'relu'))\n",
    "model_300.add(MaxPooling2D(pool_size = (2, 2)))\n",
    "\n",
    "model_300.add(Convolution2D(32, 3, 3, padding='same', activation = 'relu'))\n",
    "model_300.add(MaxPooling2D(pool_size = (2, 2)))\n",
    "\n",
    "model_300.add(Convolution2D(32, 3, 3, padding='same', activation = 'relu'))\n",
    "\n",
    "# Step 3 - Flattening\n",
    "model_300.add(Flatten())\n",
    "\n",
    "\n",
    "# Step 4 - Full connection\n",
    "model_300.add(Dense(128, activation = 'relu'))\n",
    "model_300.add(Dense(27, activation = 'sigmoid'))"
   ]
  },
  {
   "cell_type": "code",
   "execution_count": null,
   "id": "harmful-rapid",
   "metadata": {},
   "outputs": [],
   "source": [
    "# Compiling the CNN\n",
    "\n",
    "# adam = Adam()\n",
    "model_300.compile(optimizer = 'adam', \n",
    "              loss = 'sparse_categorical_crossentropy', \n",
    "              metrics = ['accuracy'])"
   ]
  },
  {
   "cell_type": "code",
   "execution_count": null,
   "id": "emotional-harvey",
   "metadata": {},
   "outputs": [],
   "source": [
    "# train model\n",
    "history_300 = model_300.fit(X_train_300,y_train_300,\n",
    "    batch_size=10,\n",
    "    epochs=20,\n",
    "    validation_split=0.10)"
   ]
  },
  {
   "cell_type": "code",
   "execution_count": null,
   "id": "crucial-sussex",
   "metadata": {},
   "outputs": [],
   "source": [
    "y_pred_300 = model_300.predict(X_test_300)\n",
    "y_pred_300 = np.argmax(y_pred_300, axis=-1)\n",
    "print(classification_report(y_test_300, y_pred_300))"
   ]
  },
  {
   "cell_type": "code",
   "execution_count": null,
   "id": "excess-screw",
   "metadata": {},
   "outputs": [],
   "source": [
    "train_loss_300, train_accuracy_300 = model_300.evaluate(X_train_300, y_train_300)\n",
    "test_loss_300, test_acc_300 = model_300.evaluate(X_test_300, y_test_300)"
   ]
  },
  {
   "cell_type": "code",
   "execution_count": null,
   "id": "latter-screw",
   "metadata": {},
   "outputs": [],
   "source": [
    "train_loss_300, train_accuracy_300 = model_300.evaluate(X_train_300, y_train_300)\n",
    "test_loss_300, test_acc_300 = model_300.evaluate(X_test_300, y_test_300)"
   ]
  },
  {
   "cell_type": "code",
   "execution_count": null,
   "id": "velvet-simple",
   "metadata": {},
   "outputs": [],
   "source": []
  },
  {
   "cell_type": "code",
   "execution_count": null,
   "id": "transsexual-tobacco",
   "metadata": {},
   "outputs": [],
   "source": []
  },
  {
   "cell_type": "code",
   "execution_count": null,
   "id": "drawn-pollution",
   "metadata": {},
   "outputs": [],
   "source": []
  },
  {
   "cell_type": "code",
   "execution_count": null,
   "id": "animal-north",
   "metadata": {},
   "outputs": [],
   "source": []
  },
  {
   "cell_type": "code",
   "execution_count": null,
   "id": "thermal-board",
   "metadata": {},
   "outputs": [],
   "source": []
  },
  {
   "cell_type": "code",
   "execution_count": null,
   "id": "documentary-christian",
   "metadata": {},
   "outputs": [],
   "source": []
  },
  {
   "cell_type": "code",
   "execution_count": null,
   "id": "stylish-magazine",
   "metadata": {},
   "outputs": [],
   "source": []
  },
  {
   "cell_type": "code",
   "execution_count": null,
   "id": "undefined-mediterranean",
   "metadata": {},
   "outputs": [],
   "source": []
  },
  {
   "cell_type": "code",
   "execution_count": null,
   "id": "improving-henry",
   "metadata": {},
   "outputs": [],
   "source": []
  },
  {
   "cell_type": "code",
   "execution_count": null,
   "id": "touched-perry",
   "metadata": {},
   "outputs": [],
   "source": []
  },
  {
   "cell_type": "code",
   "execution_count": null,
   "id": "decreased-concept",
   "metadata": {},
   "outputs": [],
   "source": []
  },
  {
   "cell_type": "code",
   "execution_count": null,
   "id": "accompanied-binding",
   "metadata": {},
   "outputs": [],
   "source": []
  },
  {
   "cell_type": "code",
   "execution_count": null,
   "id": "painful-douglas",
   "metadata": {},
   "outputs": [],
   "source": []
  },
  {
   "cell_type": "code",
   "execution_count": null,
   "id": "technical-matrix",
   "metadata": {},
   "outputs": [],
   "source": []
  },
  {
   "cell_type": "code",
   "execution_count": null,
   "id": "connected-branch",
   "metadata": {},
   "outputs": [],
   "source": []
  },
  {
   "cell_type": "code",
   "execution_count": null,
   "id": "internal-bundle",
   "metadata": {},
   "outputs": [],
   "source": []
  },
  {
   "cell_type": "code",
   "execution_count": null,
   "id": "incredible-exploration",
   "metadata": {},
   "outputs": [],
   "source": []
  },
  {
   "cell_type": "code",
   "execution_count": null,
   "id": "polished-enemy",
   "metadata": {},
   "outputs": [],
   "source": []
  },
  {
   "cell_type": "markdown",
   "id": "different-former",
   "metadata": {},
   "source": [
    "# Data Visualization"
   ]
  },
  {
   "cell_type": "code",
   "execution_count": null,
   "id": "working-jumping",
   "metadata": {},
   "outputs": [],
   "source": [
    "# imports\n",
    "import seaborn as sns\n",
    "import numpy as np\n",
    "import pandas as pd\n",
    "\n",
    "Sig_acc = np.array([0.89, 0.91, 0.93, 0.95,0.96,0.96,0.96,0.96])\n",
    "Sof_acc = np.array([0.85, 0.86, 0.90, 0.96,0.93,0.96,0.96,0.97])\n",
    "\n",
    "Sig_loss = np.array([0.31,0.27,0.19,0.15,0.12,0.14,0.12,0.13])\n",
    "Sof_loss = np.array([0.24,0.29,0.14,0.15,0.20,0.10,0.09,0.04])\n",
    "\n",
    "\n",
    "\n",
    "# convert to pandas dataframe\n",
    "d = {'Sig_acc': Sig_acc, 'Sof_acc': Sof_acc}\n",
    "pdnumsqr = pd.DataFrame(d)\n",
    "\n",
    "sns.set(style='darkgrid')\n",
    "sns.lineplot(x='Sig_acc', y='Sof_acc', data=pdnumsqr)"
   ]
  },
  {
   "cell_type": "code",
   "execution_count": null,
   "id": "cognitive-measure",
   "metadata": {},
   "outputs": [],
   "source": [
    "import seaborn as sns\n",
    "import matplotlib.pyplot as plt\n",
    "\n",
    "count = [75,100,125,150,175,200,225,250]\n",
    "\n",
    "# Create some sample data\n",
    "x1 = count\n",
    "y1 = np.array([0.89, 0.91, 0.93, 0.95,0.96,0.96,0.96,0.96])\n",
    "\n",
    "x2 = count\n",
    "y2 = [0.85, 0.86, 0.90, 0.96,0.93,0.96,0.96,0.97]\n",
    "\n",
    "\n",
    "# Create the lineplot\n",
    "sns.lineplot(x=x1, y=y1, label=\"Sigmoid\")\n",
    "sns.lineplot(x=x2, y=y2, label=\"SoftMax\")\n",
    "\n",
    "plt.xlabel(\"Data Used to Train Model\")\n",
    "plt.ylabel(\"Testing Accuracy\")\n",
    "\n",
    "# Add a legend to the plot\n",
    "plt.legend()\n",
    "\n",
    "# Show the plot\n",
    "plt.show()\n"
   ]
  },
  {
   "cell_type": "code",
   "execution_count": null,
   "id": "worldwide-honor",
   "metadata": {},
   "outputs": [],
   "source": [
    "import seaborn as sns\n",
    "import matplotlib.pyplot as plt\n",
    "\n",
    "count = [75,100,125,150,175,200,225,250]\n",
    "\n",
    "# Create some sample data\n",
    "x1 = count\n",
    "y1 = np.array([0.31,0.27,0.19,0.15,0.12,0.14,0.12,0.13])\n",
    "\n",
    "x2 = count\n",
    "y2 = np.array([0.24,0.29,0.14,0.15,0.20,0.10,0.09,0.04])\n",
    "\n",
    "\n",
    "# Create the lineplot\n",
    "sns.lineplot(x=x1, y=y1, label=\"Sigmoid\")\n",
    "sns.lineplot(x=x2, y=y2, label=\"SoftMax\")\n",
    "\n",
    "plt.xlabel(\"Data Used to Train Model\")\n",
    "plt.ylabel(\"Training Loss\")\n",
    "\n",
    "# Add a legend to the plot\n",
    "plt.legend()\n",
    "\n",
    "# Show the plot\n",
    "plt.show()\n"
   ]
  },
  {
   "cell_type": "code",
   "execution_count": null,
   "id": "registered-accommodation",
   "metadata": {},
   "outputs": [],
   "source": [
    "\n",
    "import seaborn as sns\n",
    "import matplotlib.pyplot as plt\n",
    "\n",
    "count = [75,100,125,150,175,200,225,250]\n",
    "\n",
    "# Create some sample data\n",
    "x1 = count\n",
    "y1 = np.array([0.89,0.92,0.91,0.96,0.96,0.96,0.96,0.96])\n",
    "\n",
    "x2 = count\n",
    "y2 = np.array([0.85,0.92,0.91,0.96,0.94,0.96,0.97,0.97])\n",
    "\n",
    "\n",
    "# Create the lineplot\n",
    "sns.lineplot(x=x1, y=y1, label=\"Sigmoid\")\n",
    "sns.lineplot(x=x2, y=y2, label=\"SoftMax\")\n",
    "\n",
    "plt.xlabel(\"Data Used to Train Model\")\n",
    "plt.ylabel(\"F-1 Score\")\n",
    "\n",
    "# Add a legend to the plot\n",
    "plt.legend()\n",
    "\n",
    "# Show the plot\n",
    "plt.show()\n",
    "\n"
   ]
  },
  {
   "cell_type": "code",
   "execution_count": null,
   "id": "scenic-incident",
   "metadata": {},
   "outputs": [],
   "source": []
  }
 ],
 "metadata": {
  "kernelspec": {
   "display_name": "Python 3",
   "language": "python",
   "name": "python3"
  },
  "language_info": {
   "codemirror_mode": {
    "name": "ipython",
    "version": 3
   },
   "file_extension": ".py",
   "mimetype": "text/x-python",
   "name": "python",
   "nbconvert_exporter": "python",
   "pygments_lexer": "ipython3",
   "version": "3.7.0"
  }
 },
 "nbformat": 4,
 "nbformat_minor": 5
}
